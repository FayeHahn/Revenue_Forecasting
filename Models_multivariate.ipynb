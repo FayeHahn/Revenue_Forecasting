{
  "cells": [
    {
      "cell_type": "markdown",
      "metadata": {
        "id": "GlrNlHlC6QYz"
      },
      "source": [
        "# Chapter 3.5 and 4 - Experimentation and Results (Pt. 2)\n",
        "This notebook contains the code on the multivariate experiments conducted as part of my thesis. Together with the notebook on univariate models, it serves as the baseline both for Chapter 3.4 covering the approach that was pursued in the multivariate NP experiments as well as for Chapter 4 presenting the results from the experiments. Note that the experiments only took place on datasets C4 and C6 as the two prototypes that covered enough data to execute the experiments."
      ]
    },
    {
      "cell_type": "markdown",
      "metadata": {
        "id": "XDBnvKh_7XKq"
      },
      "source": [
        "## Initialization"
      ]
    },
    {
      "cell_type": "code",
      "execution_count": null,
      "metadata": {
        "id": "SmT3YX4ewYKy"
      },
      "outputs": [],
      "source": [
        "# set up connection to Google Sheets to access the datasets\n",
        "from google.colab import auth\n",
        "auth.authenticate_user()\n",
        "\n",
        "import gspread\n",
        "from google.auth import default\n",
        "creds, _ = default()\n",
        "\n",
        "gc = gspread.authorize(creds)"
      ]
    },
    {
      "cell_type": "code",
      "execution_count": null,
      "metadata": {
        "id": "rN7Tgzy8wedc"
      },
      "outputs": [],
      "source": [
        "# general imports\n",
        "import pandas as pd\n",
        "import numpy as np\n",
        "import matplotlib.pyplot as plt\n",
        "import seaborn as sns\n",
        "from scipy import signal\n",
        "import math\n",
        "from sklearn.metrics import mean_squared_error, explained_variance_score\n",
        "import warnings\n",
        "warnings.filterwarnings('ignore')"
      ]
    },
    {
      "cell_type": "code",
      "execution_count": null,
      "metadata": {
        "colab": {
          "base_uri": "https://localhost:8080/"
        },
        "id": "YyC6fEagEepX",
        "outputId": "bd1b8de5-f93a-4ac3-bd01-357e7d23be73"
      },
      "outputs": [
        {
          "name": "stdout",
          "output_type": "stream",
          "text": [
            "Cloning into 'neural_prophet'...\n",
            "remote: Enumerating objects: 9204, done.\u001b[K\n",
            "remote: Counting objects: 100% (644/644), done.\u001b[K\n",
            "remote: Compressing objects: 100% (320/320), done.\u001b[K\n",
            "remote: Total 9204 (delta 443), reused 476 (delta 317), pack-reused 8560\u001b[K\n",
            "Receiving objects: 100% (9204/9204), 190.61 MiB | 13.36 MiB/s, done.\n",
            "Resolving deltas: 100% (6333/6333), done.\n"
          ]
        }
      ],
      "source": [
        "# clone NeuralProphet git repository\n",
        "!git clone https://github.com/ourownstory/neural_prophet.git"
      ]
    },
    {
      "cell_type": "code",
      "execution_count": null,
      "metadata": {
        "id": "aD0aS-oTEepX"
      },
      "outputs": [],
      "source": [
        "cd neural_prophet"
      ]
    },
    {
      "cell_type": "code",
      "execution_count": null,
      "metadata": {
        "id": "PsF76DnvEepX"
      },
      "outputs": [],
      "source": [
        "# install NeuralProphet repository\n",
        "pip install .[live]"
      ]
    },
    {
      "cell_type": "code",
      "execution_count": null,
      "metadata": {
        "id": "WXZ3ajv5EepX"
      },
      "outputs": [],
      "source": [
        "# import NeuralProphet functionality\n",
        "from neuralprophet import NeuralProphet"
      ]
    },
    {
      "cell_type": "code",
      "execution_count": null,
      "metadata": {
        "id": "w2hTLiYIEepX"
      },
      "outputs": [],
      "source": [
        "# ensuring reproducibility of results\n",
        "from neuralprophet import set_random_seed "
      ]
    },
    {
      "cell_type": "markdown",
      "metadata": {
        "id": "6pe2SeXTEepW"
      },
      "source": [
        "## Group 1 - prototype dataset C4\n",
        "\n",
        "C4 is characterized by being the longest dataset and including low volatility with only few outliers."
      ]
    },
    {
      "cell_type": "code",
      "execution_count": null,
      "metadata": {
        "id": "ZYDPU9CWtZb0"
      },
      "outputs": [],
      "source": [
        "# load Sales model data from Google Sheets\n",
        "worksheet = gc.open('C4').sheet1\n",
        "rows = worksheet.get_all_values()\n",
        "\n",
        "# convert to dataframe\n",
        "opp_df = pd.DataFrame.from_records(rows[1:],columns=rows[0])\n",
        "opp_df['VALUE'] = pd.to_numeric(opp_df['VALUE'])\n",
        "opp_df['DATE'] = pd.to_datetime(opp_df['DATE'])\n",
        "opp_df.head()"
      ]
    },
    {
      "cell_type": "code",
      "execution_count": null,
      "metadata": {
        "id": "y9gBQsPpEepX"
      },
      "outputs": [],
      "source": [
        "# Group and pivot data\n",
        "opp_df = pd.DataFrame(opp_df.groupby(['DATE','METRIC'])['VALUE'].sum()).reset_index()\n",
        "opp_df = opp_df.pivot(index=['DATE'],columns=['METRIC'],values=['VALUE'])\n",
        "opp_df.columns = [col[1] for col in opp_df.columns]\n",
        "opp_df.head()"
      ]
    },
    {
      "cell_type": "code",
      "execution_count": null,
      "metadata": {
        "id": "7KXQqUcwEepX"
      },
      "outputs": [],
      "source": [
        "# load Marketing model data from Google Sheets\n",
        "worksheet = gc.open('C4').worksheet('Lead Print Out')\n",
        "rows = worksheet.get_all_values()\n",
        "\n",
        "# convert to dataframe\n",
        "lead_df = pd.DataFrame.from_records(rows[1:],columns=rows[0])\n",
        "lead_df['VALUE'] = pd.to_numeric(lead_df['VALUE'])\n",
        "lead_df['DATE'] = pd.to_datetime(lead_df['DATE'])\n",
        "lead_df.head()"
      ]
    },
    {
      "cell_type": "code",
      "execution_count": null,
      "metadata": {
        "id": "OrsnF9JhEepX"
      },
      "outputs": [],
      "source": [
        "# Group and pivot data\n",
        "lead_df = pd.DataFrame(lead_df.groupby(['DATE','METRIC'])['VALUE'].sum()).reset_index()\n",
        "lead_df = lead_df.pivot(index=['DATE'],columns=['METRIC'],values=['VALUE'])\n",
        "lead_df.columns = [col[1] for col in lead_df.columns]\n",
        "lead_df.head()"
      ]
    },
    {
      "cell_type": "code",
      "execution_count": null,
      "metadata": {
        "id": "etwe9eiHEepX"
      },
      "outputs": [],
      "source": [
        "# join datasets on DATE index\n",
        "df = opp_df.join(lead_df)\n",
        "df.head()"
      ]
    },
    {
      "cell_type": "code",
      "execution_count": null,
      "metadata": {
        "id": "CYpGPCmfEepX"
      },
      "outputs": [],
      "source": [
        "# drop irrelevant columns\n",
        "df = df.drop(['THREE_MONTHS_ACV','THREE_MONTHS_OPP_WON_CVR','SIX_MONTHS_LEAD_MQL_CVR','SIX_MONTHS_LEAD_OPP_CVR','SIX_MONTHS_MQL_OPP_CVR','WON_CUSTOMERS','MQLS'],axis=1)\n",
        "df['CREATED_LEADS'] = [x if x==x else 0 for x in df['CREATED_LEADS']]\n",
        "df.head()"
      ]
    },
    {
      "cell_type": "code",
      "execution_count": null,
      "metadata": {
        "id": "xUaoc0XbEepX"
      },
      "outputs": [],
      "source": [
        "# adjust data format to NP requirements\n",
        "df = df.reset_index()\n",
        "df.columns = ['ds','CREATED_OPPORTUNITIES','y','CREATED_LEADS']\n",
        "df"
      ]
    },
    {
      "cell_type": "markdown",
      "metadata": {
        "id": "H0LwTMTGEepX"
      },
      "source": [
        "#### Full series"
      ]
    },
    {
      "cell_type": "code",
      "execution_count": null,
      "metadata": {
        "id": "sxLNwtuFEepX"
      },
      "outputs": [],
      "source": [
        "# split data\n",
        "df_train = df[:-12]\n",
        "df_test = df[-12:]"
      ]
    },
    {
      "cell_type": "code",
      "execution_count": null,
      "metadata": {
        "id": "Werjf8oKEepX"
      },
      "outputs": [],
      "source": [
        "# create enlarged train series for prediction generation\n",
        "enlarged_df = df_train.append(pd.DataFrame({'ds':[pd.Timestamp('2022-01-01'),pd.Timestamp('2022-02-01'),pd.Timestamp('2022-03-01'),pd.Timestamp('2022-04-01'),pd.Timestamp('2022-05-01'),pd.Timestamp('2022-06-01'),pd.Timestamp('2022-07-01'),pd.Timestamp('2022-08-01'),pd.Timestamp('2022-09-01'),pd.Timestamp('2022-10-01'),pd.Timestamp('2022-11-01'),pd.Timestamp('2022-12-01')],'CREATED_OPPORTUNITIES':[np.nan for i in range(12)],'CREATED_LEADS':[np.nan for i in range(12)],'y':[np.nan for i in range(12)]}))\n",
        "enlarged_df.tail(13)"
      ]
    },
    {
      "cell_type": "markdown",
      "metadata": {
        "id": "EvImglJy1e7Z"
      },
      "source": [
        "##### Heuristics\n",
        "For the heuristics approach n_forecasts was set to be equal to the forecasting horizon (12 periods), n_lags twice the forecasting horizon (24 periods), num_hidden_layers to 0 and the loss_func set to the MSE."
      ]
    },
    {
      "cell_type": "code",
      "execution_count": null,
      "metadata": {
        "id": "iEMV-wZdEepX"
      },
      "outputs": [],
      "source": [
        "# initialize heuristics model\n",
        "set_random_seed(0)\n",
        "NP = NeuralProphet(growth='linear',\n",
        "                   changepoints=None,\n",
        "                   n_changepoints=10,\n",
        "                   changepoints_range=0.8,\n",
        "                   trend_reg=0, \n",
        "                   trend_reg_threshold=False, \n",
        "                   trend_global_local='global', \n",
        "                   yearly_seasonality='auto', \n",
        "                   weekly_seasonality='auto', \n",
        "                   daily_seasonality='auto', \n",
        "                   seasonality_mode='additive', \n",
        "                   seasonality_reg=0, \n",
        "                   season_global_local='global', \n",
        "                   n_forecasts=12, \n",
        "                   n_lags=24, \n",
        "                   num_hidden_layers=0, \n",
        "                   d_hidden=None, \n",
        "                   ar_reg=None, \n",
        "                   learning_rate=None, \n",
        "                   epochs=None, \n",
        "                   batch_size=None, \n",
        "                   loss_func='MSE',\n",
        "                   optimizer='AdamW', \n",
        "                   newer_samples_weight=2, \n",
        "                   newer_samples_start=0.0, \n",
        "                   quantiles=None, \n",
        "                   impute_missing=True, \n",
        "                   impute_linear=10, \n",
        "                   impute_rolling=10, \n",
        "                   drop_missing=False, \n",
        "                   collect_metrics=True, \n",
        "                   normalize='auto', \n",
        "                   global_normalization=False, \n",
        "                   global_time_normalization=True, \n",
        "                   unknown_data_normalization=False)"
      ]
    },
    {
      "cell_type": "code",
      "execution_count": null,
      "metadata": {
        "colab": {
          "base_uri": "https://localhost:8080/"
        },
        "id": "DrV8VyKVEepY",
        "outputId": "e8c194ec-6dad-414a-889e-ec581907f106"
      },
      "outputs": [
        {
          "name": "stderr",
          "output_type": "stream",
          "text": [
            "INFO - (NP.forecaster.add_lagged_regressor) - n_lags = 'auto', number of lags for regressor is set to Autoregression number of lags (24)\n"
          ]
        },
        {
          "data": {
            "text/plain": [
              "<neuralprophet.forecaster.NeuralProphet at 0x7f86988d5220>"
            ]
          },
          "execution_count": 19,
          "metadata": {},
          "output_type": "execute_result"
        }
      ],
      "source": [
        "# add past covariates to the model\n",
        "NP.add_lagged_regressor(['CREATED_OPPORTUNITIES','CREATED_LEADS'])"
      ]
    },
    {
      "cell_type": "code",
      "execution_count": null,
      "metadata": {
        "colab": {
          "base_uri": "https://localhost:8080/",
          "height": 422,
          "referenced_widgets": [
            "2892d59f051a4fd79f5835f911967faa",
            "2abc15861d6b4408aea45895444312bf",
            "b624078184354bc0a7e4b9585a3ead93",
            "a33d74aedc534c7490c1f34d172be0d4",
            "78454dd4891b47c48f2554473461f02a",
            "d0ca970cc7bd462ba64b913c232e8036",
            "737a55ea756b46409ebac2fa5bb75262",
            "f4fb6e02adb4478785e9fcbf64602025",
            "72106e968ab54c6c93eb348c8461a038",
            "051d468a34d24e208c0a5359d548237b",
            "da4ba5f28eb7436797b773afaf2bebed",
            "1fd3c85be71d4e9b9b76d8c6fb01da15",
            "e11d999feabe44f58022b5ce7446d62c",
            "6acbfb0ba9cf4f1cae5cd894799ca980",
            "6777d543666341a3a7488bc2ccd31e8b",
            "5ec990c79a1b4ac6845ebeb8309bb89b",
            "736dec0b71a24e709b212c5c5cd967bc",
            "bd4f43ff15f6495bbff2b8ff617a34da",
            "8810b6b46a1042a19c59edafb5eae1e6",
            "67bedf6d8e924f1aaa73a9dce2d7717d",
            "900b8fc6a68f44f9822919aba514f728",
            "f0a82cf0db16403b97978fb1f9aa44cc",
            "f676d96a24464f14b2c59f514603d4a9",
            "3f4cbbdeb34848b5b207b2523c42a504",
            "4bf24791d89b4c35abb6ea44709c79f3",
            "8daa999225f94d488ba6adc1393d518f",
            "7ec74153be3b4e68b10c16d58b6ac97a",
            "e140a98139594e7f9178c4358347a5ec"
          ]
        },
        "id": "fDPqiAViEepY",
        "outputId": "db8a08c7-472a-49fe-8881-a121c7d9d90c"
      },
      "outputs": [
        {
          "name": "stderr",
          "output_type": "stream",
          "text": [
            "WARNING - (NP.forecaster.fit) - When Global modeling with local normalization, metrics are displayed in normalized scale.\n",
            "INFO - (NP.df_utils._infer_frequency) - Major frequency MS corresponds to [98.876]% of the data.\n",
            "INFO - (NP.df_utils._infer_frequency) - Dataframe freq automatically defined as MS\n",
            "INFO - (NP.config.init_data_params) - Setting normalization to global as only one dataframe provided for training.\n",
            "INFO - (NP.utils.set_auto_seasonalities) - Disabling weekly seasonality. Run NeuralProphet with weekly_seasonality=True to override this.\n",
            "INFO - (NP.utils.set_auto_seasonalities) - Disabling daily seasonality. Run NeuralProphet with daily_seasonality=True to override this.\n",
            "INFO - (NP.config.set_auto_batch_epoch) - Auto-set batch_size to 16\n",
            "INFO - (NP.config.set_auto_batch_epoch) - Auto-set epochs to 820\n",
            "WARNING - (NP.config.set_lr_finder_args) - Learning rate finder: The number of batches (4) is too small than the required number for the learning rate finder (206). The results might not be optimal.\n"
          ]
        },
        {
          "data": {
            "application/vnd.jupyter.widget-view+json": {
              "model_id": "7ec74153be3b4e68b10c16d58b6ac97a",
              "version_major": 2,
              "version_minor": 0
            },
            "text/plain": [
              "Finding best initial lr:   0%|          | 0/206 [00:00<?, ?it/s]"
            ]
          },
          "metadata": {},
          "output_type": "display_data"
        },
        {
          "data": {
            "application/vnd.jupyter.widget-view+json": {
              "model_id": "e140a98139594e7f9178c4358347a5ec",
              "version_major": 2,
              "version_minor": 0
            },
            "text/plain": [
              "Training: 0it [00:00, ?it/s]"
            ]
          },
          "metadata": {},
          "output_type": "display_data"
        }
      ],
      "source": [
        "# train heuristics model\n",
        "train_metrics = NP.fit(df_train)"
      ]
    },
    {
      "cell_type": "code",
      "execution_count": null,
      "metadata": {
        "colab": {
          "base_uri": "https://localhost:8080/",
          "height": 703,
          "referenced_widgets": [
            "fefb553d692d409badf4ddd28ced0c37",
            "724fb7bc854548c092fa55f47d8530a3",
            "ec62736e5f464ddd83c48e622c7649d8",
            "f58e76c6ec8f49c788c88d8780dcbd80",
            "3cc18f8af088483d90963467297d7971",
            "2a3640b041e84a62906e92942c0e96d0",
            "920cc36f760b4391b71dd9214132fb8d",
            "8ac014fa58014ab4a6cd992977159f77",
            "6248f75760e745b78dfb1d9c7371b262",
            "857740de67ba44a1823b9fca29f62868",
            "698efc6361b1443bb64c8f0365b5b1f0",
            "38fc677a065c48d58b73bb5fb1c22de9",
            "cd5646c11f69483e9d61d63cad6fc7a6",
            "c9ed4a317dd646ac9f143b010c99fd01",
            "5bc33f100a444a43a6a37c4c94861108",
            "0f117c4ee4b04023b3d0122a1e83b073"
          ]
        },
        "id": "ghLyGxK4EepY",
        "outputId": "7dc327e1-4cf2-419b-9160-e4391c339a2c"
      },
      "outputs": [
        {
          "name": "stderr",
          "output_type": "stream",
          "text": [
            "INFO - (NP.df_utils._infer_frequency) - Major frequency MS corresponds to [99.01]% of the data.\n",
            "INFO - (NP.df_utils._infer_frequency) - Defined frequency is equal to major frequency - MS\n",
            "INFO - (NP.df_utils._infer_frequency) - Major frequency MS corresponds to [99.01]% of the data.\n",
            "INFO - (NP.df_utils._infer_frequency) - Defined frequency is equal to major frequency - MS\n"
          ]
        },
        {
          "data": {
            "application/vnd.jupyter.widget-view+json": {
              "model_id": "0f117c4ee4b04023b3d0122a1e83b073",
              "version_major": 2,
              "version_minor": 0
            },
            "text/plain": [
              "Predicting: 4it [00:00, ?it/s]"
            ]
          },
          "metadata": {},
          "output_type": "display_data"
        },
        {
          "name": "stderr",
          "output_type": "stream",
          "text": [
            "INFO - (NP.df_utils.return_df_in_original_format) - Returning df with no ID column\n"
          ]
        }
      ],
      "source": [
        "# generate prediction\n",
        "predicted = NP.predict(enlarged_df)"
      ]
    },
    {
      "cell_type": "code",
      "execution_count": null,
      "metadata": {
        "id": "TTJc2XFTEepY"
      },
      "outputs": [],
      "source": [
        "# clip values below 0\n",
        "predicted['yhat12'] = [x if (x!=x or x >= 0) else 0 for x in predicted['yhat12']]"
      ]
    },
    {
      "cell_type": "code",
      "execution_count": null,
      "metadata": {
        "id": "HFFIQO3JcAMN",
        "scrolled": false
      },
      "outputs": [],
      "source": [
        "# plot heuristics forecast\n",
        "plt.figure(figsize=(15, 7.5))\n",
        "plt.plot(predicted.set_index('ds')['yhat12'], color='r', label='model')\n",
        "plt.axvspan(predicted.set_index('ds').index[-12], predicted.set_index('ds').index[-1], alpha=0.5, color='lightgrey')\n",
        "plt.plot(df.set_index(\"ds\")['y'], label='actual')\n",
        "plt.grid(axis='y')\n",
        "plt.xlabel('DATE', fontsize=20)\n",
        "plt.ylabel('WON_REVENUE', fontsize=20)\n",
        "plt.legend()\n",
        "plt.show()"
      ]
    },
    {
      "cell_type": "code",
      "execution_count": null,
      "metadata": {
        "id": "PrzapT8K0_Fb"
      },
      "outputs": [],
      "source": [
        "# plot NP parameters\n",
        "NP.plot_parameters()"
      ]
    },
    {
      "cell_type": "code",
      "execution_count": null,
      "metadata": {
        "colab": {
          "base_uri": "https://localhost:8080/"
        },
        "id": "jAooT9CgOwsG",
        "outputId": "c4e71dc1-cf9a-4ba6-969f-981a64dd1c0c"
      },
      "outputs": [
        {
          "name": "stdout",
          "output_type": "stream",
          "text": [
            "RMSE: 11385.428203876641\n",
            "Explained variance: -39.114878531272275\n"
          ]
        }
      ],
      "source": [
        "print('RMSE:',math.sqrt(mean_squared_error(df_test['y'], predicted['yhat12'][-12:])))\n",
        "print('Explained variance:',explained_variance_score(df_test['y'], predicted['yhat12'][-12:]))"
      ]
    },
    {
      "cell_type": "markdown",
      "metadata": {
        "id": "wo9UQa0a1nNA"
      },
      "source": [
        "##### Optimized\n",
        "For the optimization approach, n_forecasts was again set to be equal to the forecasting horizon (12 periods) and the loss_func to be the MSE, but this time, n_lags was varied in the range from 1 to 24 and num_hidden_layers was varied within the range from 0 to 2. Further a validation split of 12 periods was introduced to the train set to optimize for the validation loss."
      ]
    },
    {
      "cell_type": "code",
      "execution_count": null,
      "metadata": {
        "id": "22APCwcZ0_Fb"
      },
      "outputs": [],
      "source": [
        "# initialize lists to store configurations along with the respective train, validation and test loss\n",
        "'''configs = []\n",
        "test_losses = []\n",
        "train_losses = []\n",
        "val_losses = []'''"
      ]
    },
    {
      "cell_type": "code",
      "execution_count": null,
      "metadata": {
        "id": "neeS5xev0_Fb"
      },
      "outputs": [],
      "source": [
        "# Grid search (value of p must be adjusted)\n",
        "'''p = 1\n",
        "for l in range(0,3):\n",
        "    set_random_seed(0)\n",
        "    NP = NeuralProphet(growth='linear',\n",
        "                      n_lags=p, \n",
        "                      n_forecasts=12,\n",
        "                      num_hidden_layers=l, \n",
        "                      d_hidden=None,\n",
        "                      loss_func='MSE')\n",
        "    NP.add_lagged_regressor(['CREATED_OPPORTUNITIES','CREATED_LEADS'])\n",
        "    train,val = NP.split_df(df_train,valid_p=1)\n",
        "    train_metrics = NP.fit(train)\n",
        "    val_metrics = NP.test(val)\n",
        "    configs.append((l,p))\n",
        "    predicted = NP.predict(enlarged_df)\n",
        "    test_losses.append(mean_squared_error(df_test['y'], NP.predict(enlarged_df)['yhat12'][-12:]))\n",
        "    train_losses.append(train_metrics.iloc[-1,2])\n",
        "    val_losses.append(val_metrics.iloc[0,0]) '''"
      ]
    },
    {
      "cell_type": "code",
      "execution_count": null,
      "metadata": {
        "id": "-3YG_o5m0_Fe",
        "scrolled": true
      },
      "outputs": [],
      "source": [
        "# sorted results from hyperparameter tuning\n",
        "results = pd.DataFrame({'config':configs,'test loss':test_losses, 'val loss':val_losses, 'train loss':train_losses})\n",
        "results.sort_values('val loss')"
      ]
    },
    {
      "cell_type": "code",
      "execution_count": null,
      "metadata": {
        "id": "fKZqyZqj0_Fe"
      },
      "outputs": [],
      "source": [
        "# initialize optimal model with n_lags=5 and num_hidden_layers=2\n",
        "set_random_seed(0)\n",
        "NP = NeuralProphet(growth='linear',\n",
        "                   changepoints=None,\n",
        "                   n_changepoints=10,\n",
        "                   changepoints_range=0.8,\n",
        "                   trend_reg=0, \n",
        "                   trend_reg_threshold=False, \n",
        "                   trend_global_local='global', \n",
        "                   yearly_seasonality='auto', \n",
        "                   weekly_seasonality='auto', \n",
        "                   daily_seasonality='auto', \n",
        "                   seasonality_mode='additive', \n",
        "                   seasonality_reg=0, \n",
        "                   season_global_local='global', \n",
        "                   n_forecasts=12, \n",
        "                   n_lags=5, \n",
        "                   num_hidden_layers=2, \n",
        "                   d_hidden=None, \n",
        "                   ar_reg=None, \n",
        "                   learning_rate=None, \n",
        "                   epochs=None, \n",
        "                   batch_size=None, \n",
        "                   loss_func='MSE',\n",
        "                   optimizer='AdamW', \n",
        "                   newer_samples_weight=2, \n",
        "                   newer_samples_start=0.0, \n",
        "                   quantiles=None, \n",
        "                   impute_missing=True, \n",
        "                   impute_linear=10, \n",
        "                   impute_rolling=10, \n",
        "                   drop_missing=False, \n",
        "                   collect_metrics=True, \n",
        "                   normalize='auto', \n",
        "                   global_normalization=False, \n",
        "                   global_time_normalization=True, \n",
        "                   unknown_data_normalization=False)"
      ]
    },
    {
      "cell_type": "code",
      "execution_count": null,
      "metadata": {
        "colab": {
          "base_uri": "https://localhost:8080/"
        },
        "id": "OlW1HXuS0_Fe",
        "outputId": "e8c194ec-6dad-414a-889e-ec581907f106"
      },
      "outputs": [
        {
          "name": "stderr",
          "output_type": "stream",
          "text": [
            "INFO - (NP.forecaster.add_lagged_regressor) - n_lags = 'auto', number of lags for regressor is set to Autoregression number of lags (5)\n"
          ]
        },
        {
          "data": {
            "text/plain": [
              "<neuralprophet.forecaster.NeuralProphet at 0x7f867f65ed00>"
            ]
          },
          "execution_count": 26,
          "metadata": {},
          "output_type": "execute_result"
        }
      ],
      "source": [
        "# addd past covariates to the model\n",
        "NP.add_lagged_regressor(['CREATED_OPPORTUNITIES','CREATED_LEADS'])"
      ]
    },
    {
      "cell_type": "code",
      "execution_count": null,
      "metadata": {
        "colab": {
          "base_uri": "https://localhost:8080/",
          "height": 422,
          "referenced_widgets": [
            "2892d59f051a4fd79f5835f911967faa",
            "2abc15861d6b4408aea45895444312bf",
            "b624078184354bc0a7e4b9585a3ead93",
            "a33d74aedc534c7490c1f34d172be0d4",
            "78454dd4891b47c48f2554473461f02a",
            "d0ca970cc7bd462ba64b913c232e8036",
            "737a55ea756b46409ebac2fa5bb75262",
            "f4fb6e02adb4478785e9fcbf64602025",
            "72106e968ab54c6c93eb348c8461a038",
            "051d468a34d24e208c0a5359d548237b",
            "da4ba5f28eb7436797b773afaf2bebed",
            "1fd3c85be71d4e9b9b76d8c6fb01da15",
            "e11d999feabe44f58022b5ce7446d62c",
            "6acbfb0ba9cf4f1cae5cd894799ca980",
            "6777d543666341a3a7488bc2ccd31e8b",
            "5ec990c79a1b4ac6845ebeb8309bb89b",
            "736dec0b71a24e709b212c5c5cd967bc",
            "bd4f43ff15f6495bbff2b8ff617a34da",
            "8810b6b46a1042a19c59edafb5eae1e6",
            "67bedf6d8e924f1aaa73a9dce2d7717d",
            "900b8fc6a68f44f9822919aba514f728",
            "f0a82cf0db16403b97978fb1f9aa44cc",
            "feff9fa14d8042f6bf9ced8f773341b6",
            "828f92ae9328476da5959d584c375152",
            "ade756f7ea4a4980b6d88874b03f0967",
            "08c30294e68b4bffb16613ec8cf80c81",
            "7ed1503a25cd4e09a6ce71a351298bb7",
            "2122a463e7084b7181162e04da8b3fd5"
          ]
        },
        "id": "f7wPXn280_Fe",
        "outputId": "db8a08c7-472a-49fe-8881-a121c7d9d90c"
      },
      "outputs": [
        {
          "name": "stderr",
          "output_type": "stream",
          "text": [
            "WARNING - (NP.forecaster.fit) - When Global modeling with local normalization, metrics are displayed in normalized scale.\n",
            "INFO - (NP.df_utils._infer_frequency) - Major frequency MS corresponds to [98.876]% of the data.\n",
            "INFO - (NP.df_utils._infer_frequency) - Dataframe freq automatically defined as MS\n",
            "INFO - (NP.config.init_data_params) - Setting normalization to global as only one dataframe provided for training.\n",
            "INFO - (NP.utils.set_auto_seasonalities) - Disabling weekly seasonality. Run NeuralProphet with weekly_seasonality=True to override this.\n",
            "INFO - (NP.utils.set_auto_seasonalities) - Disabling daily seasonality. Run NeuralProphet with daily_seasonality=True to override this.\n",
            "INFO - (NP.config.set_auto_batch_epoch) - Auto-set batch_size to 16\n",
            "INFO - (NP.config.set_auto_batch_epoch) - Auto-set epochs to 662\n",
            "WARNING - (NP.config.set_lr_finder_args) - Learning rate finder: The number of batches (5) is too small than the required number for the learning rate finder (206). The results might not be optimal.\n"
          ]
        },
        {
          "data": {
            "application/vnd.jupyter.widget-view+json": {
              "model_id": "7ed1503a25cd4e09a6ce71a351298bb7",
              "version_major": 2,
              "version_minor": 0
            },
            "text/plain": [
              "Finding best initial lr:   0%|          | 0/206 [00:00<?, ?it/s]"
            ]
          },
          "metadata": {},
          "output_type": "display_data"
        },
        {
          "data": {
            "application/vnd.jupyter.widget-view+json": {
              "model_id": "2122a463e7084b7181162e04da8b3fd5",
              "version_major": 2,
              "version_minor": 0
            },
            "text/plain": [
              "Training: 0it [00:00, ?it/s]"
            ]
          },
          "metadata": {},
          "output_type": "display_data"
        }
      ],
      "source": [
        "# train optimized model\n",
        "train_metrics = NP.fit(df_train)"
      ]
    },
    {
      "cell_type": "code",
      "execution_count": null,
      "metadata": {
        "colab": {
          "base_uri": "https://localhost:8080/",
          "height": 703,
          "referenced_widgets": [
            "fefb553d692d409badf4ddd28ced0c37",
            "724fb7bc854548c092fa55f47d8530a3",
            "ec62736e5f464ddd83c48e622c7649d8",
            "f58e76c6ec8f49c788c88d8780dcbd80",
            "3cc18f8af088483d90963467297d7971",
            "2a3640b041e84a62906e92942c0e96d0",
            "920cc36f760b4391b71dd9214132fb8d",
            "8ac014fa58014ab4a6cd992977159f77",
            "6248f75760e745b78dfb1d9c7371b262",
            "857740de67ba44a1823b9fca29f62868",
            "698efc6361b1443bb64c8f0365b5b1f0",
            "11321ba68948497a9ca675f2d2a0aedf",
            "e80eb53a524e40eb8472122c82ce0c79",
            "49483d514de84a0d89d8be1641f2ce07",
            "7c3421e96a0f4f3e8f4c39cdcfec12a1",
            "5db19374168c44b1bda00be609ad7fc8"
          ]
        },
        "id": "HwFbcUeY0_Fe",
        "outputId": "7dc327e1-4cf2-419b-9160-e4391c339a2c"
      },
      "outputs": [
        {
          "name": "stderr",
          "output_type": "stream",
          "text": [
            "INFO - (NP.df_utils._infer_frequency) - Major frequency MS corresponds to [99.01]% of the data.\n",
            "INFO - (NP.df_utils._infer_frequency) - Defined frequency is equal to major frequency - MS\n",
            "INFO - (NP.df_utils._infer_frequency) - Major frequency MS corresponds to [99.01]% of the data.\n",
            "INFO - (NP.df_utils._infer_frequency) - Defined frequency is equal to major frequency - MS\n"
          ]
        },
        {
          "data": {
            "application/vnd.jupyter.widget-view+json": {
              "model_id": "5db19374168c44b1bda00be609ad7fc8",
              "version_major": 2,
              "version_minor": 0
            },
            "text/plain": [
              "Predicting: 5it [00:00, ?it/s]"
            ]
          },
          "metadata": {},
          "output_type": "display_data"
        },
        {
          "name": "stderr",
          "output_type": "stream",
          "text": [
            "INFO - (NP.df_utils.return_df_in_original_format) - Returning df with no ID column\n"
          ]
        }
      ],
      "source": [
        "# generate prediction\n",
        "predicted = NP.predict(enlarged_df)"
      ]
    },
    {
      "cell_type": "code",
      "execution_count": null,
      "metadata": {
        "id": "jFAbI5l20_Fe"
      },
      "outputs": [],
      "source": [
        "# clip values below 0\n",
        "predicted['yhat12'] = [x if (x!=x or x >= 0) else 0 for x in predicted['yhat12']]"
      ]
    },
    {
      "cell_type": "code",
      "execution_count": null,
      "metadata": {
        "id": "XBUcbmAg0_Fe",
        "scrolled": false
      },
      "outputs": [],
      "source": [
        "# plot optimized forecast\n",
        "plt.figure(figsize=(15, 7.5))\n",
        "plt.plot(predicted.set_index('ds')['yhat12'], color='r', label='model')\n",
        "plt.axvspan(predicted.set_index('ds').index[-12], predicted.set_index('ds').index[-1], alpha=0.5, color='lightgrey')\n",
        "plt.plot(df.set_index(\"ds\")['y'], label='actual')\n",
        "plt.grid(axis='y')\n",
        "plt.xlabel('DATE', fontsize=20)\n",
        "plt.ylabel('WON_REVENUE', fontsize=20)\n",
        "plt.legend()\n",
        "plt.show()"
      ]
    },
    {
      "cell_type": "code",
      "execution_count": null,
      "metadata": {
        "id": "HJ3QHHeW0_Fe"
      },
      "outputs": [],
      "source": [
        "# plot NP parameters\n",
        "NP.plot_parameters()"
      ]
    },
    {
      "cell_type": "code",
      "execution_count": null,
      "metadata": {
        "colab": {
          "base_uri": "https://localhost:8080/"
        },
        "id": "rmpyGNVz0_Fe",
        "outputId": "c4e71dc1-cf9a-4ba6-969f-981a64dd1c0c"
      },
      "outputs": [
        {
          "name": "stdout",
          "output_type": "stream",
          "text": [
            "RMSE: 18958.16733656666\n",
            "Explained variance: -39.98507553384325\n"
          ]
        }
      ],
      "source": [
        "print('RMSE:',math.sqrt(mean_squared_error(df_test['y'], predicted['yhat12'][-12:])))\n",
        "print('Explained variance:',explained_variance_score(df_test['y'], predicted['yhat12'][-12:]))"
      ]
    },
    {
      "cell_type": "markdown",
      "metadata": {
        "id": "UV0WzsOpEepY"
      },
      "source": [
        "#### 2 years window\n",
        "For the 2 years window, only the heuristics approach was pursued. Thus, n_forecasts was set to be equal to the forecasting horizon (12 periods), num_hidden_layers to 0 and the loss_func set to the MSE. Due to the shortened length of the series n_lags could only be set to a maximum of 12."
      ]
    },
    {
      "cell_type": "code",
      "execution_count": null,
      "metadata": {
        "id": "8jcQedfLEepY"
      },
      "outputs": [],
      "source": [
        "# shorten dataset to only retain most recent three years (2 years of training data + 1 year of test data)\n",
        "df = df[df['ds']>=pd.Timestamp(\"2020-01-01\")]\n",
        "df.head()"
      ]
    },
    {
      "cell_type": "code",
      "execution_count": null,
      "metadata": {
        "id": "76mHN4oBEepY"
      },
      "outputs": [],
      "source": [
        "# split data\n",
        "df_train = df[:-12]\n",
        "df_test = df[-12:]"
      ]
    },
    {
      "cell_type": "code",
      "execution_count": null,
      "metadata": {
        "id": "hJ_proaoEepY"
      },
      "outputs": [],
      "source": [
        "# create enlarged train series for prediction generation\n",
        "enlarged_df = df_train.append(pd.DataFrame({'ds':[pd.Timestamp('2022-01-01'),pd.Timestamp('2022-02-01'),pd.Timestamp('2022-03-01'),pd.Timestamp('2022-04-01'),pd.Timestamp('2022-05-01'),pd.Timestamp('2022-06-01'),pd.Timestamp('2022-07-01'),pd.Timestamp('2022-08-01'),pd.Timestamp('2022-09-01'),pd.Timestamp('2022-10-01'),pd.Timestamp('2022-11-01'),pd.Timestamp('2022-12-01')],'CREATED_OPPORTUNITIES':[np.nan for i in range(12)],'CREATED_LEADS':[np.nan for i in range(12)],'y':[np.nan for i in range(12)]}))\n",
        "enlarged_df.tail(13)"
      ]
    },
    {
      "cell_type": "code",
      "execution_count": null,
      "metadata": {
        "id": "MM8Ne-zSEepY"
      },
      "outputs": [],
      "source": [
        "# initialize heuristics model\n",
        "set_random_seed(0)\n",
        "NP = NeuralProphet(growth='linear',\n",
        "                   changepoints=None,\n",
        "                   n_changepoints=10,\n",
        "                   changepoints_range=0.8,\n",
        "                   trend_reg=0, \n",
        "                   trend_reg_threshold=False, \n",
        "                   trend_global_local='global', \n",
        "                   yearly_seasonality='auto', \n",
        "                   weekly_seasonality='auto', \n",
        "                   daily_seasonality='auto', \n",
        "                   seasonality_mode='additive', \n",
        "                   seasonality_reg=0, \n",
        "                   season_global_local='global', \n",
        "                   n_forecasts=12, \n",
        "                   n_lags=12, \n",
        "                   num_hidden_layers=0, \n",
        "                   d_hidden=None, \n",
        "                   ar_reg=None, \n",
        "                   learning_rate=None, \n",
        "                   epochs=None, \n",
        "                   batch_size=None, \n",
        "                   loss_func='MSE', #quantile loss?\n",
        "                   optimizer='AdamW', \n",
        "                   newer_samples_weight=2, \n",
        "                   newer_samples_start=0.0, \n",
        "                   quantiles=None, \n",
        "                   impute_missing=True, \n",
        "                   impute_linear=10, \n",
        "                   impute_rolling=10, \n",
        "                   drop_missing=False, \n",
        "                   collect_metrics=True, \n",
        "                   normalize='auto', \n",
        "                   global_normalization=False, \n",
        "                   global_time_normalization=True, \n",
        "                   unknown_data_normalization=False)"
      ]
    },
    {
      "cell_type": "code",
      "execution_count": null,
      "metadata": {
        "colab": {
          "base_uri": "https://localhost:8080/"
        },
        "id": "AwfpMbdbEepY",
        "outputId": "a61fe024-1264-4229-bc2f-e8aff73341e3"
      },
      "outputs": [
        {
          "name": "stderr",
          "output_type": "stream",
          "text": [
            "INFO - (NP.forecaster.add_lagged_regressor) - n_lags = 'auto', number of lags for regressor is set to Autoregression number of lags (12)\n"
          ]
        },
        {
          "data": {
            "text/plain": [
              "<neuralprophet.forecaster.NeuralProphet at 0x7f867fd3b670>"
            ]
          },
          "execution_count": 35,
          "metadata": {},
          "output_type": "execute_result"
        }
      ],
      "source": [
        "# addd past covariates to the model\n",
        "NP.add_lagged_regressor(['CREATED_OPPORTUNITIES','CREATED_LEADS'])"
      ]
    },
    {
      "cell_type": "code",
      "execution_count": null,
      "metadata": {
        "colab": {
          "base_uri": "https://localhost:8080/",
          "height": 458,
          "referenced_widgets": [
            "f2eb963adc364e4fbcd441fec394f623",
            "e9fe475ab44f476caa2d9ece41181015",
            "c11c9068bf7043afaefef49da66d0bbd",
            "f2076d717a904ccc8e8a3d8965484b4f",
            "217fec49eaed4debbccfb6797dd12009",
            "1d3cf87c79cc43db964f4ca6f3c47bf6",
            "9d6d43a193534d19a81a8af7ba332b26",
            "bc25b415616149359a96262fd86a1ff8",
            "7916a39e9a3844a5a45e1ef2793e085d",
            "17f0b44b09a44a3e8ff1565a68ee1062",
            "71fab5b22f954047abc2825082a2c575",
            "6e124a332eaa4115a3f1b503142afb70",
            "f26dd0b783ad4683b06fd21d888d827c",
            "3e313e2f7ad343cc81f077d7aa94c0ab",
            "39528c4032084a7cbf6f3f75a677a3fa",
            "305a924953034675b944dc288a352a4c",
            "78024cd6b8b44354a14bd260bfc2f4e9",
            "defc9cfa8a9d47059e830a8eaebd4004",
            "b0163868c28345acbf5b0d44abb25342",
            "61c11333c5c44c24b2a4d3a4518887d1",
            "307d859616384892844b06fc7c2a1f12",
            "f23687a7cd614e0c9aebaf3b4fae2f7f",
            "388d90c5701b4948a83dd6c7e67492fa",
            "cbbb1a7969f04da7a74fa334c2e25a36",
            "fae788ba8f2a477398b1a0e5a62e0b02",
            "e2563d5be58a447ab448490798f745f5",
            "42a229c2c3d34c3d95a9fa9cbdbbbc1b",
            "2a51f833ea31422cb8a757653c61d203"
          ]
        },
        "id": "MloZMCoxEepY",
        "outputId": "f2185289-4e2e-459a-eec2-ca5419dbb5ff"
      },
      "outputs": [
        {
          "name": "stderr",
          "output_type": "stream",
          "text": [
            "WARNING - (NP.forecaster.fit) - When Global modeling with local normalization, metrics are displayed in normalized scale.\n",
            "INFO - (NP.df_utils._infer_frequency) - Major frequency MS corresponds to [95.833]% of the data.\n",
            "INFO - (NP.df_utils._infer_frequency) - Dataframe freq automatically defined as MS\n",
            "INFO - (NP.config.init_data_params) - Setting normalization to global as only one dataframe provided for training.\n",
            "INFO - (NP.utils.set_auto_seasonalities) - Disabling yearly seasonality. Run NeuralProphet with yearly_seasonality=True to override this.\n",
            "INFO - (NP.utils.set_auto_seasonalities) - Disabling weekly seasonality. Run NeuralProphet with weekly_seasonality=True to override this.\n",
            "INFO - (NP.utils.set_auto_seasonalities) - Disabling daily seasonality. Run NeuralProphet with daily_seasonality=True to override this.\n",
            "INFO - (NP.config.set_auto_batch_epoch) - Auto-set batch_size to 1\n",
            "INFO - (NP.config.set_auto_batch_epoch) - Auto-set epochs to 1000\n",
            "WARNING - (NP.config.set_lr_finder_args) - Learning rate finder: The number of batches (1) is too small than the required number for the learning rate finder (202). The results might not be optimal.\n"
          ]
        },
        {
          "data": {
            "application/vnd.jupyter.widget-view+json": {
              "model_id": "42a229c2c3d34c3d95a9fa9cbdbbbc1b",
              "version_major": 2,
              "version_minor": 0
            },
            "text/plain": [
              "Finding best initial lr:   0%|          | 0/202 [00:00<?, ?it/s]"
            ]
          },
          "metadata": {},
          "output_type": "display_data"
        },
        {
          "data": {
            "application/vnd.jupyter.widget-view+json": {
              "model_id": "2a51f833ea31422cb8a757653c61d203",
              "version_major": 2,
              "version_minor": 0
            },
            "text/plain": [
              "Training: 0it [00:00, ?it/s]"
            ]
          },
          "metadata": {},
          "output_type": "display_data"
        }
      ],
      "source": [
        "# train heuristics model\n",
        "train_metrics = NP.fit(df_train)"
      ]
    },
    {
      "cell_type": "code",
      "execution_count": null,
      "metadata": {
        "colab": {
          "base_uri": "https://localhost:8080/",
          "height": 703,
          "referenced_widgets": [
            "6ca4277af3ba47f998e1f9be8ad4bf4e",
            "dfe9c3552ddd4d159ad19c116dee2ecc",
            "cae11af944524e6a82df9fb30a029707",
            "55826d83bbd547aabd3ffb3e9d2a9f24",
            "b0ae7a54d13a4f9295a9ef14be8bbe45",
            "6fa64a7fbd194d4b88000944884394e4",
            "ef773b9bba174f9f9214eb99cd9968d0",
            "fd15869a35404eef8e43d9765543bbe8",
            "6b6d8570b1f54a5c8ca75f9f535d1781",
            "2855ec69eb214e8e93884651bf32d38c",
            "2635e995912241c6bca122cd5a9a33a4",
            "9fd5dee0216d40188217685acb62c373",
            "02924f003e5849f8a442b8f0418da60f",
            "3356f811330e4332a2e54501f7aa2f23",
            "5d4fe400e98f4cdba1bdc5e57b29f3aa",
            "bf1092d06e7a4d91af0e12058884cd43"
          ]
        },
        "id": "TTmJuTTaEepY",
        "outputId": "92dac4bd-21bc-45f7-9049-c19ba5653efb"
      },
      "outputs": [
        {
          "name": "stderr",
          "output_type": "stream",
          "text": [
            "INFO - (NP.df_utils._infer_frequency) - Major frequency MS corresponds to [97.222]% of the data.\n",
            "INFO - (NP.df_utils._infer_frequency) - Defined frequency is equal to major frequency - MS\n",
            "INFO - (NP.df_utils._infer_frequency) - Major frequency MS corresponds to [97.222]% of the data.\n",
            "INFO - (NP.df_utils._infer_frequency) - Defined frequency is equal to major frequency - MS\n"
          ]
        },
        {
          "data": {
            "application/vnd.jupyter.widget-view+json": {
              "model_id": "bf1092d06e7a4d91af0e12058884cd43",
              "version_major": 2,
              "version_minor": 0
            },
            "text/plain": [
              "Predicting: 1it [00:00, ?it/s]"
            ]
          },
          "metadata": {},
          "output_type": "display_data"
        },
        {
          "name": "stderr",
          "output_type": "stream",
          "text": [
            "INFO - (NP.df_utils.return_df_in_original_format) - Returning df with no ID column\n"
          ]
        }
      ],
      "source": [
        "# generate prediction\n",
        "predicted = NP.predict(enlarged_df)"
      ]
    },
    {
      "cell_type": "code",
      "execution_count": null,
      "metadata": {
        "id": "YP6Apkev5--H"
      },
      "outputs": [],
      "source": [
        "# clip values below 0\n",
        "predicted['yhat12'] = [x if (x!=x or x >= 0) else 0 for x in predicted['yhat12']]"
      ]
    },
    {
      "cell_type": "code",
      "execution_count": null,
      "metadata": {
        "id": "eXMGMKdjEepY"
      },
      "outputs": [],
      "source": [
        "# plot heuristics forecast\n",
        "plt.figure(figsize=(15, 7.5))\n",
        "plt.plot(predicted.set_index('ds')['yhat12'], color='r', label='model')\n",
        "plt.axvspan(predicted.set_index('ds').index[-12], predicted.set_index('ds').index[-1], alpha=0.5, color='lightgrey')\n",
        "plt.plot(df.set_index(\"ds\")['y'], label='actual')\n",
        "plt.grid(axis='y')\n",
        "plt.xlabel('DATE', fontsize=20)\n",
        "plt.ylabel('WON_REVENUE', fontsize=20)\n",
        "plt.legend()\n",
        "plt.show()"
      ]
    },
    {
      "cell_type": "code",
      "execution_count": null,
      "metadata": {
        "id": "Iruwt3IBEepY"
      },
      "outputs": [],
      "source": [
        "# plot NP parameters\n",
        "NP.plot_parameters()"
      ]
    },
    {
      "cell_type": "code",
      "execution_count": null,
      "metadata": {
        "id": "WLmwvg1iEepY",
        "outputId": "2da7716a-b46f-4119-cd8d-24f4566180c0"
      },
      "outputs": [
        {
          "name": "stdout",
          "output_type": "stream",
          "text": [
            "RMSE: 28072.133176794414\n",
            "Explained variance: -171.17716216665076\n"
          ]
        }
      ],
      "source": [
        "print('RMSE:',math.sqrt(mean_squared_error(df_test['y'], predicted['yhat12'][-12:])))\n",
        "print('Explained variance:',explained_variance_score(df_test['y'], predicted['yhat12'][-12:]))"
      ]
    },
    {
      "cell_type": "markdown",
      "metadata": {
        "id": "5h1xKCjRwhH5"
      },
      "source": [
        "## Group 2 - prototype dataset C6\n",
        "\n",
        "C6 is characterized by being of medium length and including high volatility with strong irregularity."
      ]
    },
    {
      "cell_type": "code",
      "execution_count": null,
      "metadata": {
        "id": "M17p2ZUCwjR6"
      },
      "outputs": [],
      "source": [
        "# load Sales model data from Google Sheets\n",
        "worksheet = gc.open('C6').sheet1\n",
        "rows = worksheet.get_all_values()\n",
        "\n",
        "# convert to dataframe\n",
        "opp_df = pd.DataFrame.from_records(rows[1:],columns=rows[0])\n",
        "opp_df['VALUE'] = pd.to_numeric(opp_df['VALUE'])\n",
        "opp_df['DATE'] = pd.to_datetime(opp_df['DATE'])\n",
        "opp_df.head()"
      ]
    },
    {
      "cell_type": "code",
      "execution_count": null,
      "metadata": {
        "id": "rJfQnGK35uVr"
      },
      "outputs": [],
      "source": [
        "# Group and pivot data\n",
        "opp_df = pd.DataFrame(opp_df.groupby(['DATE','METRIC'])['VALUE'].sum()).reset_index()\n",
        "opp_df = opp_df.pivot(index=['DATE'],columns=['METRIC'],values=['VALUE'])\n",
        "opp_df.columns = [col[1] for col in opp_df.columns]\n",
        "opp_df.head()"
      ]
    },
    {
      "cell_type": "code",
      "execution_count": null,
      "metadata": {
        "id": "1wOHisUkLAQE"
      },
      "outputs": [],
      "source": [
        "# load Marketing Model Data from Google Sheets\n",
        "worksheet = gc.open('C6').worksheet('Lead Print Out')\n",
        "rows = worksheet.get_all_values()\n",
        "\n",
        "# convert to dataframe\n",
        "lead_df = pd.DataFrame.from_records(rows[1:],columns=rows[0])\n",
        "lead_df['VALUE'] = pd.to_numeric(lead_df['VALUE'])\n",
        "lead_df['DATE'] = pd.to_datetime(lead_df['DATE'])\n",
        "lead_df.head()"
      ]
    },
    {
      "cell_type": "code",
      "execution_count": null,
      "metadata": {
        "id": "M1sjUXTrMkwW"
      },
      "outputs": [],
      "source": [
        "# Group and pivot data\n",
        "lead_df = pd.DataFrame(lead_df.groupby(['DATE','METRIC'])['VALUE'].sum()).reset_index()\n",
        "lead_df = lead_df.pivot(index=['DATE'],columns=['METRIC'],values=['VALUE'])\n",
        "lead_df.columns = [col[1] for col in lead_df.columns]\n",
        "lead_df.head()"
      ]
    },
    {
      "cell_type": "code",
      "execution_count": null,
      "metadata": {
        "id": "QCJv_lybNb0q"
      },
      "outputs": [],
      "source": [
        "# join datasets on DATE index\n",
        "df = opp_df.join(lead_df)\n",
        "df.head()"
      ]
    },
    {
      "cell_type": "code",
      "execution_count": null,
      "metadata": {
        "id": "5sNOjZ3eN8qN"
      },
      "outputs": [],
      "source": [
        "# drop irrelevant columns\n",
        "df = df.drop(['SIX_MONTHS_ACV','SIX_MONTHS_OPP_WON_CVR','THREE_MONTHS_ACV','THREE_MONTHS_OPP_WON_CVR','THREE_MONTHS_LEAD_MQL_CVR','THREE_MONTHS_LEAD_OPP_CVR','THREE_MONTHS_MQL_OPP_CVR','WON_CUSTOMERS','MQLS'],axis=1)\n",
        "df.head()"
      ]
    },
    {
      "cell_type": "code",
      "execution_count": null,
      "metadata": {
        "id": "3pK1f_RNmiE4"
      },
      "outputs": [],
      "source": [
        "# adjust data format to NP requirements\n",
        "df = df.reset_index()\n",
        "df.columns = ['ds','CREATED_OPPORTUNITIES','y','CREATED_LEADS']\n",
        "df"
      ]
    },
    {
      "cell_type": "markdown",
      "metadata": {
        "id": "g7eOs3e7baIq"
      },
      "source": [
        "#### Full series"
      ]
    },
    {
      "cell_type": "code",
      "execution_count": null,
      "metadata": {
        "id": "iWa0qC5rqcOS"
      },
      "outputs": [],
      "source": [
        "# split data\n",
        "df_train = df[:-12]\n",
        "df_test = df[-12:]"
      ]
    },
    {
      "cell_type": "code",
      "execution_count": null,
      "metadata": {
        "id": "UgUJLLXcvAhX",
        "scrolled": true
      },
      "outputs": [],
      "source": [
        "# create enlarged train series for prediction generation\n",
        "enlarged_df = df_train.append(pd.DataFrame({'ds':[pd.Timestamp('2022-01-01'),pd.Timestamp('2022-02-01'),pd.Timestamp('2022-03-01'),pd.Timestamp('2022-04-01'),pd.Timestamp('2022-05-01'),pd.Timestamp('2022-06-01'),pd.Timestamp('2022-07-01'),pd.Timestamp('2022-08-01'),pd.Timestamp('2022-09-01'),pd.Timestamp('2022-10-01'),pd.Timestamp('2022-11-01'),pd.Timestamp('2022-12-01')],'CREATED_OPPORTUNITIES':[np.nan for i in range(12)],'CREATED_LEADS':[np.nan for i in range(12)],'y':[np.nan for i in range(12)]}))\n",
        "enlarged_df.tail(13)"
      ]
    },
    {
      "cell_type": "markdown",
      "metadata": {
        "id": "GX8vK3OL2FNC"
      },
      "source": [
        "##### Heuristics\n",
        "For the heuristics approach n_forecasts was set to be equal to the forecasting horizon (12 periods), n_lags twice the forecasting horizon (24 periods), num_hidden_layers to 0 and the loss_func set to the MSE."
      ]
    },
    {
      "cell_type": "code",
      "execution_count": null,
      "metadata": {
        "id": "3np0W7f3mS1_"
      },
      "outputs": [],
      "source": [
        "# initialize heuristics model\n",
        "set_random_seed(0)\n",
        "NP = NeuralProphet(growth='linear',\n",
        "                   changepoints=None,\n",
        "                   n_changepoints=10,\n",
        "                   changepoints_range=0.8,\n",
        "                   trend_reg=0, \n",
        "                   trend_reg_threshold=False, \n",
        "                   trend_global_local='global', \n",
        "                   yearly_seasonality='auto', \n",
        "                   weekly_seasonality='auto', \n",
        "                   daily_seasonality='auto', \n",
        "                   seasonality_mode='additive', \n",
        "                   seasonality_reg=0, \n",
        "                   season_global_local='global', \n",
        "                   n_forecasts=12, \n",
        "                   n_lags=24, \n",
        "                   num_hidden_layers=0, \n",
        "                   d_hidden=None, \n",
        "                   ar_reg=None, \n",
        "                   learning_rate=None, \n",
        "                   epochs=None, \n",
        "                   batch_size=None, \n",
        "                   loss_func='MSE',\n",
        "                   optimizer='AdamW', \n",
        "                   newer_samples_weight=2, \n",
        "                   newer_samples_start=0.0, \n",
        "                   quantiles=None, \n",
        "                   impute_missing=True, \n",
        "                   impute_linear=10, \n",
        "                   impute_rolling=10, \n",
        "                   drop_missing=False, \n",
        "                   collect_metrics=True, \n",
        "                   normalize='auto', \n",
        "                   global_normalization=False, \n",
        "                   global_time_normalization=True, \n",
        "                   unknown_data_normalization=False)"
      ]
    },
    {
      "cell_type": "code",
      "execution_count": null,
      "metadata": {
        "colab": {
          "base_uri": "https://localhost:8080/"
        },
        "id": "2ZsPiAjHc5Sp",
        "outputId": "e9b68b8c-8eb5-4721-dd00-315cc8b39990"
      },
      "outputs": [
        {
          "name": "stderr",
          "output_type": "stream",
          "text": [
            "INFO - (NP.forecaster.add_lagged_regressor) - n_lags = 'auto', number of lags for regressor is set to Autoregression number of lags (24)\n"
          ]
        },
        {
          "data": {
            "text/plain": [
              "<neuralprophet.forecaster.NeuralProphet at 0x7f86801b44c0>"
            ]
          },
          "execution_count": 50,
          "metadata": {},
          "output_type": "execute_result"
        }
      ],
      "source": [
        "# addd past covariates to the model\n",
        "NP.add_lagged_regressor(['CREATED_OPPORTUNITIES','CREATED_LEADS'])"
      ]
    },
    {
      "cell_type": "code",
      "execution_count": null,
      "metadata": {
        "colab": {
          "base_uri": "https://localhost:8080/",
          "height": 358,
          "referenced_widgets": [
            "7c203003c73f49c89a45034267458f6e",
            "d523396e429d46038e4ef88d0c66fbe3",
            "bd2c6f33ae084e0383a103996708ee0f",
            "60eedb6ad9e5478fba928e815a42bf19",
            "c8f1509400c9472087d7a50ac20d339b",
            "ee48d69bff0d4db09b23727fd42e360f",
            "5b8254562b644192a5fc1866e14b9bd7",
            "58b41d7facf04c1cb410d17a7d2866b9",
            "f10e89a325f34e8db8207a244bdc951d",
            "329bfb13278a47a28949e9e7f58c86ef",
            "c8d92778bcfe40c4846e57745d3a43f0",
            "c5e50416af9e40988866c43cd30f8b5b",
            "c696d89b2a6f45649dcf4bb49154f566",
            "6511b6a242b245a2b2c0d32afbd940b8",
            "628620421c414d9db59d60f31957b963",
            "8699a1c2d57f4a4fa15b8db9dfa92919",
            "6af5a11f2d3d464ebb88dd3ddbbab30a",
            "3c34fc62308a4cc0b27a469bf78eae16",
            "6b82e1f8e7f047deb9c06ff2efa45a2f",
            "8dba49f704b54dee9f7bcf458d25ce5e",
            "6388d748b74043dd91b11fb37b0c11bf",
            "e496679bc2e74f798213ab291beb90ab",
            "0c771aa9dc9443249b76f0f55c6f3e2a",
            "79b81c0d0c4d4033b90ec9a98d61cbce",
            "05278fc8652b432387cb053d49da08f7",
            "49f6768724134274a1db236f161cbdfd",
            "e701b975133b41808d2f4635d9739d2c",
            "2b56dafe0cda4816bb2c3ad60281dcc6"
          ]
        },
        "id": "mH2ARO26c43D",
        "outputId": "3e62370d-33d3-4ccf-d035-f218b6467e3a"
      },
      "outputs": [
        {
          "name": "stderr",
          "output_type": "stream",
          "text": [
            "WARNING - (NP.forecaster.fit) - When Global modeling with local normalization, metrics are displayed in normalized scale.\n",
            "INFO - (NP.df_utils._infer_frequency) - Major frequency MS corresponds to [98.507]% of the data.\n",
            "INFO - (NP.df_utils._infer_frequency) - Dataframe freq automatically defined as MS\n",
            "INFO - (NP.config.init_data_params) - Setting normalization to global as only one dataframe provided for training.\n",
            "INFO - (NP.utils.set_auto_seasonalities) - Disabling weekly seasonality. Run NeuralProphet with weekly_seasonality=True to override this.\n",
            "INFO - (NP.utils.set_auto_seasonalities) - Disabling daily seasonality. Run NeuralProphet with daily_seasonality=True to override this.\n",
            "INFO - (NP.config.set_auto_batch_epoch) - Auto-set batch_size to 16\n",
            "INFO - (NP.config.set_auto_batch_epoch) - Auto-set epochs to 1000\n",
            "WARNING - (NP.config.set_lr_finder_args) - Learning rate finder: The number of batches (2) is too small than the required number for the learning rate finder (205). The results might not be optimal.\n"
          ]
        },
        {
          "data": {
            "application/vnd.jupyter.widget-view+json": {
              "model_id": "e701b975133b41808d2f4635d9739d2c",
              "version_major": 2,
              "version_minor": 0
            },
            "text/plain": [
              "Finding best initial lr:   0%|          | 0/205 [00:00<?, ?it/s]"
            ]
          },
          "metadata": {},
          "output_type": "display_data"
        },
        {
          "data": {
            "application/vnd.jupyter.widget-view+json": {
              "model_id": "2b56dafe0cda4816bb2c3ad60281dcc6",
              "version_major": 2,
              "version_minor": 0
            },
            "text/plain": [
              "Training: 0it [00:00, ?it/s]"
            ]
          },
          "metadata": {},
          "output_type": "display_data"
        }
      ],
      "source": [
        "# train heuristics model\n",
        "train_metrics = NP.fit(df_train)"
      ]
    },
    {
      "cell_type": "code",
      "execution_count": null,
      "metadata": {
        "colab": {
          "base_uri": "https://localhost:8080/",
          "height": 671,
          "referenced_widgets": [
            "da2a28742dd840368ceb6f5434e904e6",
            "f4256987556144cb85619bea44de0694",
            "6b04cd6143c5442dae29b4c413303628",
            "9d7f4d7eb64648a29ba9a54feb640b5e",
            "d12e489224364dbd80054f376da64419",
            "a717dec3193745b487fc5228ac1c0153",
            "1ae66c3677744ffd8d973ae690017be6",
            "3bc32495f9164296bdf33585e5cedde3",
            "b1c79f879f8a4deeaba2b47cc1db6f99",
            "367bcb0feb7d4f6aa1b1e623b16257a4",
            "b93812937c0c471d9b7980ce90365325",
            "c0dbe510e018416c90af54b5a6ba5051",
            "00d4c79d2837400ab015be5aa6021a53",
            "f1ac155b0a92467987c76a893e7c2edb",
            "bad1cf860b154af484d8c60b8c282a2e",
            "3ac086f411024ba0854ddd9b98ad37e6"
          ]
        },
        "id": "08xwLcTGmbQi",
        "outputId": "da3152ae-0d04-42db-8ea6-6700609d609a"
      },
      "outputs": [
        {
          "name": "stderr",
          "output_type": "stream",
          "text": [
            "INFO - (NP.df_utils._infer_frequency) - Major frequency MS corresponds to [98.734]% of the data.\n",
            "INFO - (NP.df_utils._infer_frequency) - Defined frequency is equal to major frequency - MS\n",
            "INFO - (NP.df_utils._infer_frequency) - Major frequency MS corresponds to [98.734]% of the data.\n",
            "INFO - (NP.df_utils._infer_frequency) - Defined frequency is equal to major frequency - MS\n"
          ]
        },
        {
          "data": {
            "application/vnd.jupyter.widget-view+json": {
              "model_id": "3ac086f411024ba0854ddd9b98ad37e6",
              "version_major": 2,
              "version_minor": 0
            },
            "text/plain": [
              "Predicting: 2it [00:00, ?it/s]"
            ]
          },
          "metadata": {},
          "output_type": "display_data"
        },
        {
          "name": "stderr",
          "output_type": "stream",
          "text": [
            "INFO - (NP.df_utils.return_df_in_original_format) - Returning df with no ID column\n"
          ]
        }
      ],
      "source": [
        "# generate prediction\n",
        "predicted = NP.predict(enlarged_df)"
      ]
    },
    {
      "cell_type": "code",
      "execution_count": null,
      "metadata": {
        "id": "dunyVTkMfOmK"
      },
      "outputs": [],
      "source": [
        "# clip values below 0\n",
        "predicted['yhat12'] = [x if (x!=x or x >= 0) else 0 for x in predicted['yhat12']]"
      ]
    },
    {
      "cell_type": "code",
      "execution_count": null,
      "metadata": {
        "id": "pMnmtS2sjqEM"
      },
      "outputs": [],
      "source": [
        "# plot heuristics forecast\n",
        "plt.figure(figsize=(15, 7.5))\n",
        "plt.plot(predicted.set_index('ds')['yhat12'], color='r', label='model')\n",
        "plt.axvspan(predicted.set_index('ds').index[-12], predicted.set_index('ds').index[-1], alpha=0.5, color='lightgrey')\n",
        "plt.plot(df.set_index(\"ds\")['y'], label='actual')\n",
        "plt.grid(axis='y')\n",
        "plt.xlabel('DATE', fontsize=20)\n",
        "plt.ylabel('WON_REVENUE', fontsize=20)\n",
        "plt.legend()\n",
        "plt.show()"
      ]
    },
    {
      "cell_type": "code",
      "execution_count": null,
      "metadata": {
        "id": "qeZs5F_no27V"
      },
      "outputs": [],
      "source": [
        "# plot NP parameters\n",
        "NP.plot_parameters()"
      ]
    },
    {
      "cell_type": "code",
      "execution_count": null,
      "metadata": {
        "colab": {
          "base_uri": "https://localhost:8080/"
        },
        "id": "5aNMewA0jvUs",
        "outputId": "fb29687e-dad8-4c46-f5ab-904b58512c2f"
      },
      "outputs": [
        {
          "name": "stdout",
          "output_type": "stream",
          "text": [
            "RMSE: 158705.36982290875\n",
            "Explained variance: 0.052086937114757315\n"
          ]
        }
      ],
      "source": [
        "print('RMSE:',math.sqrt(mean_squared_error(df_test['y'], predicted['yhat12'][-12:])))\n",
        "print('Explained variance:',explained_variance_score(df_test['y'], predicted['yhat12'][-12:]))"
      ]
    },
    {
      "cell_type": "markdown",
      "metadata": {
        "id": "8rGgYkqS2P-6"
      },
      "source": [
        "##### Optimized\n",
        "For the optimization approach, n_forecasts was again set to be equal to the forecasting horizon (12 periods) and the loss_func to be the MSE, but this time, n_lags was varied in the range from 1 to 24 and num_hidden_layers was varied within the range from 0 to 2. Further a validation split of 12 periods was introduced to the train set to optimize for the validation loss."
      ]
    },
    {
      "cell_type": "code",
      "execution_count": null,
      "metadata": {
        "id": "IhiP-oagujNp"
      },
      "outputs": [],
      "source": [
        "# initialize lists to store configurations along with the respective train, validation and test loss\n",
        "'''configs = []\n",
        "test_losses = []\n",
        "train_losses = []\n",
        "val_losses = []'''"
      ]
    },
    {
      "cell_type": "code",
      "execution_count": null,
      "metadata": {
        "id": "HXwbXbGahhtT"
      },
      "outputs": [],
      "source": [
        "# Grid search (value of p must be adjusted)\n",
        "'''p = 1\n",
        "for l in range(0,3):\n",
        "    set_random_seed(0)\n",
        "    NP = NeuralProphet(growth='linear',\n",
        "                      n_lags=p, \n",
        "                      n_forecasts=12,\n",
        "                      num_hidden_layers=l, \n",
        "                      d_hidden=None,\n",
        "                      loss_func='MSE')\n",
        "    NP.add_lagged_regressor(['CREATED_OPPORTUNITIES','CREATED_LEADS'])\n",
        "    train,val = NP.split_df(df_train,valid_p=1)\n",
        "    train_metrics = NP.fit(train)\n",
        "    val_metrics = NP.test(val)\n",
        "    configs.append((l,p))\n",
        "    predicted = NP.predict(enlarged_df)\n",
        "    test_losses.append(mean_squared_error(df_test['y'], NP.predict(enlarged_df)['yhat12'][-12:]))\n",
        "    train_losses.append(train_metrics.iloc[-1,2])\n",
        "    val_losses.append(val_metrics.iloc[0,0]) '''"
      ]
    },
    {
      "cell_type": "code",
      "execution_count": null,
      "metadata": {
        "colab": {
          "base_uri": "https://localhost:8080/",
          "height": 424
        },
        "id": "VdBH1AuSgaNS",
        "outputId": "b6c08c14-c0d8-4c79-dea6-7e76b1d8dc5d"
      },
      "outputs": [
        {
          "data": {
            "text/html": [
              "\n",
              "  <div id=\"df-ad344655-4479-4439-845e-0f8daccd642b\">\n",
              "    <div class=\"colab-df-container\">\n",
              "      <div>\n",
              "<style scoped>\n",
              "    .dataframe tbody tr th:only-of-type {\n",
              "        vertical-align: middle;\n",
              "    }\n",
              "\n",
              "    .dataframe tbody tr th {\n",
              "        vertical-align: top;\n",
              "    }\n",
              "\n",
              "    .dataframe thead th {\n",
              "        text-align: right;\n",
              "    }\n",
              "</style>\n",
              "<table border=\"1\" class=\"dataframe\">\n",
              "  <thead>\n",
              "    <tr style=\"text-align: right;\">\n",
              "      <th></th>\n",
              "      <th>config</th>\n",
              "      <th>test loss</th>\n",
              "      <th>val loss</th>\n",
              "      <th>train loss</th>\n",
              "    </tr>\n",
              "  </thead>\n",
              "  <tbody>\n",
              "    <tr>\n",
              "      <th>6</th>\n",
              "      <td>(0, 3)</td>\n",
              "      <td>2.305943e+10</td>\n",
              "      <td>0.530428</td>\n",
              "      <td>0.022731</td>\n",
              "    </tr>\n",
              "    <tr>\n",
              "      <th>0</th>\n",
              "      <td>(0, 1)</td>\n",
              "      <td>2.312171e+10</td>\n",
              "      <td>0.563162</td>\n",
              "      <td>0.024955</td>\n",
              "    </tr>\n",
              "    <tr>\n",
              "      <th>3</th>\n",
              "      <td>(0, 2)</td>\n",
              "      <td>2.604733e+10</td>\n",
              "      <td>0.574342</td>\n",
              "      <td>0.023598</td>\n",
              "    </tr>\n",
              "    <tr>\n",
              "      <th>29</th>\n",
              "      <td>(2, 10)</td>\n",
              "      <td>2.844907e+10</td>\n",
              "      <td>0.592984</td>\n",
              "      <td>0.018774</td>\n",
              "    </tr>\n",
              "    <tr>\n",
              "      <th>1</th>\n",
              "      <td>(1, 1)</td>\n",
              "      <td>2.865230e+10</td>\n",
              "      <td>0.599964</td>\n",
              "      <td>0.025180</td>\n",
              "    </tr>\n",
              "    <tr>\n",
              "      <th>...</th>\n",
              "      <td>...</td>\n",
              "      <td>...</td>\n",
              "      <td>...</td>\n",
              "      <td>...</td>\n",
              "    </tr>\n",
              "    <tr>\n",
              "      <th>33</th>\n",
              "      <td>(0, 12)</td>\n",
              "      <td>4.957205e+10</td>\n",
              "      <td>1.517755</td>\n",
              "      <td>0.000027</td>\n",
              "    </tr>\n",
              "    <tr>\n",
              "      <th>40</th>\n",
              "      <td>(1, 14)</td>\n",
              "      <td>2.761474e+10</td>\n",
              "      <td>1.615229</td>\n",
              "      <td>0.003377</td>\n",
              "    </tr>\n",
              "    <tr>\n",
              "      <th>53</th>\n",
              "      <td>(2, 18)</td>\n",
              "      <td>4.480163e+10</td>\n",
              "      <td>1.729113</td>\n",
              "      <td>0.006697</td>\n",
              "    </tr>\n",
              "    <tr>\n",
              "      <th>46</th>\n",
              "      <td>(1, 16)</td>\n",
              "      <td>3.751091e+10</td>\n",
              "      <td>1.761422</td>\n",
              "      <td>0.001640</td>\n",
              "    </tr>\n",
              "    <tr>\n",
              "      <th>37</th>\n",
              "      <td>(1, 13)</td>\n",
              "      <td>2.510712e+10</td>\n",
              "      <td>2.788369</td>\n",
              "      <td>0.004001</td>\n",
              "    </tr>\n",
              "  </tbody>\n",
              "</table>\n",
              "<p>72 rows × 4 columns</p>\n",
              "</div>\n",
              "      <button class=\"colab-df-convert\" onclick=\"convertToInteractive('df-ad344655-4479-4439-845e-0f8daccd642b')\"\n",
              "              title=\"Convert this dataframe to an interactive table.\"\n",
              "              style=\"display:none;\">\n",
              "        \n",
              "  <svg xmlns=\"http://www.w3.org/2000/svg\" height=\"24px\"viewBox=\"0 0 24 24\"\n",
              "       width=\"24px\">\n",
              "    <path d=\"M0 0h24v24H0V0z\" fill=\"none\"/>\n",
              "    <path d=\"M18.56 5.44l.94 2.06.94-2.06 2.06-.94-2.06-.94-.94-2.06-.94 2.06-2.06.94zm-11 1L8.5 8.5l.94-2.06 2.06-.94-2.06-.94L8.5 2.5l-.94 2.06-2.06.94zm10 10l.94 2.06.94-2.06 2.06-.94-2.06-.94-.94-2.06-.94 2.06-2.06.94z\"/><path d=\"M17.41 7.96l-1.37-1.37c-.4-.4-.92-.59-1.43-.59-.52 0-1.04.2-1.43.59L10.3 9.45l-7.72 7.72c-.78.78-.78 2.05 0 2.83L4 21.41c.39.39.9.59 1.41.59.51 0 1.02-.2 1.41-.59l7.78-7.78 2.81-2.81c.8-.78.8-2.07 0-2.86zM5.41 20L4 18.59l7.72-7.72 1.47 1.35L5.41 20z\"/>\n",
              "  </svg>\n",
              "      </button>\n",
              "      \n",
              "  <style>\n",
              "    .colab-df-container {\n",
              "      display:flex;\n",
              "      flex-wrap:wrap;\n",
              "      gap: 12px;\n",
              "    }\n",
              "\n",
              "    .colab-df-convert {\n",
              "      background-color: #E8F0FE;\n",
              "      border: none;\n",
              "      border-radius: 50%;\n",
              "      cursor: pointer;\n",
              "      display: none;\n",
              "      fill: #1967D2;\n",
              "      height: 32px;\n",
              "      padding: 0 0 0 0;\n",
              "      width: 32px;\n",
              "    }\n",
              "\n",
              "    .colab-df-convert:hover {\n",
              "      background-color: #E2EBFA;\n",
              "      box-shadow: 0px 1px 2px rgba(60, 64, 67, 0.3), 0px 1px 3px 1px rgba(60, 64, 67, 0.15);\n",
              "      fill: #174EA6;\n",
              "    }\n",
              "\n",
              "    [theme=dark] .colab-df-convert {\n",
              "      background-color: #3B4455;\n",
              "      fill: #D2E3FC;\n",
              "    }\n",
              "\n",
              "    [theme=dark] .colab-df-convert:hover {\n",
              "      background-color: #434B5C;\n",
              "      box-shadow: 0px 1px 3px 1px rgba(0, 0, 0, 0.15);\n",
              "      filter: drop-shadow(0px 1px 2px rgba(0, 0, 0, 0.3));\n",
              "      fill: #FFFFFF;\n",
              "    }\n",
              "  </style>\n",
              "\n",
              "      <script>\n",
              "        const buttonEl =\n",
              "          document.querySelector('#df-ad344655-4479-4439-845e-0f8daccd642b button.colab-df-convert');\n",
              "        buttonEl.style.display =\n",
              "          google.colab.kernel.accessAllowed ? 'block' : 'none';\n",
              "\n",
              "        async function convertToInteractive(key) {\n",
              "          const element = document.querySelector('#df-ad344655-4479-4439-845e-0f8daccd642b');\n",
              "          const dataTable =\n",
              "            await google.colab.kernel.invokeFunction('convertToInteractive',\n",
              "                                                     [key], {});\n",
              "          if (!dataTable) return;\n",
              "\n",
              "          const docLinkHtml = 'Like what you see? Visit the ' +\n",
              "            '<a target=\"_blank\" href=https://colab.research.google.com/notebooks/data_table.ipynb>data table notebook</a>'\n",
              "            + ' to learn more about interactive tables.';\n",
              "          element.innerHTML = '';\n",
              "          dataTable['output_type'] = 'display_data';\n",
              "          await google.colab.output.renderOutput(dataTable, element);\n",
              "          const docLink = document.createElement('div');\n",
              "          docLink.innerHTML = docLinkHtml;\n",
              "          element.appendChild(docLink);\n",
              "        }\n",
              "      </script>\n",
              "    </div>\n",
              "  </div>\n",
              "  "
            ],
            "text/plain": [
              "     config     test loss  val loss  train loss\n",
              "6    (0, 3)  2.305943e+10  0.530428    0.022731\n",
              "0    (0, 1)  2.312171e+10  0.563162    0.024955\n",
              "3    (0, 2)  2.604733e+10  0.574342    0.023598\n",
              "29  (2, 10)  2.844907e+10  0.592984    0.018774\n",
              "1    (1, 1)  2.865230e+10  0.599964    0.025180\n",
              "..      ...           ...       ...         ...\n",
              "33  (0, 12)  4.957205e+10  1.517755    0.000027\n",
              "40  (1, 14)  2.761474e+10  1.615229    0.003377\n",
              "53  (2, 18)  4.480163e+10  1.729113    0.006697\n",
              "46  (1, 16)  3.751091e+10  1.761422    0.001640\n",
              "37  (1, 13)  2.510712e+10  2.788369    0.004001\n",
              "\n",
              "[72 rows x 4 columns]"
            ]
          },
          "execution_count": 52,
          "metadata": {},
          "output_type": "execute_result"
        }
      ],
      "source": [
        "# sorted results from hyperparameter tuning\n",
        "results = pd.DataFrame({'config':configs,'test loss':test_losses, 'val loss':val_losses, 'train loss':train_losses})\n",
        "results.sort_values('val loss')"
      ]
    },
    {
      "cell_type": "code",
      "execution_count": null,
      "metadata": {
        "id": "wbLxcwGJ0_FZ"
      },
      "outputs": [],
      "source": [
        "# initialize optimal model with n_lags=3 and num_hidden_layers=0\n",
        "set_random_seed(0)\n",
        "NP = NeuralProphet(growth='linear',\n",
        "                   changepoints=None,\n",
        "                   n_changepoints=10,\n",
        "                   changepoints_range=0.8,\n",
        "                   trend_reg=0, \n",
        "                   trend_reg_threshold=False, \n",
        "                   trend_global_local='global', \n",
        "                   yearly_seasonality='auto', \n",
        "                   weekly_seasonality='auto', \n",
        "                   daily_seasonality='auto', \n",
        "                   seasonality_mode='additive', \n",
        "                   seasonality_reg=0, \n",
        "                   season_global_local='global', \n",
        "                   n_forecasts=12, \n",
        "                   n_lags=3, \n",
        "                   num_hidden_layers=0, \n",
        "                   d_hidden=None, \n",
        "                   ar_reg=None, \n",
        "                   learning_rate=None, \n",
        "                   epochs=None, \n",
        "                   batch_size=None, \n",
        "                   loss_func='MSE',\n",
        "                   optimizer='AdamW', \n",
        "                   newer_samples_weight=2, \n",
        "                   newer_samples_start=0.0, \n",
        "                   quantiles=None, \n",
        "                   impute_missing=True, \n",
        "                   impute_linear=10, \n",
        "                   impute_rolling=10, \n",
        "                   drop_missing=False, \n",
        "                   collect_metrics=True, \n",
        "                   normalize='auto', \n",
        "                   global_normalization=False, \n",
        "                   global_time_normalization=True, \n",
        "                   unknown_data_normalization=False)"
      ]
    },
    {
      "cell_type": "code",
      "execution_count": null,
      "metadata": {
        "colab": {
          "base_uri": "https://localhost:8080/"
        },
        "id": "TX4Qo5HA0_FZ",
        "outputId": "e9b68b8c-8eb5-4721-dd00-315cc8b39990"
      },
      "outputs": [
        {
          "name": "stderr",
          "output_type": "stream",
          "text": [
            "INFO - (NP.forecaster.add_lagged_regressor) - n_lags = 'auto', number of lags for regressor is set to Autoregression number of lags (3)\n"
          ]
        },
        {
          "data": {
            "text/plain": [
              "<neuralprophet.forecaster.NeuralProphet at 0x7f86803d3250>"
            ]
          },
          "execution_count": 56,
          "metadata": {},
          "output_type": "execute_result"
        }
      ],
      "source": [
        "# addd past covariates to the model\n",
        "NP.add_lagged_regressor(['CREATED_OPPORTUNITIES','CREATED_LEADS'])"
      ]
    },
    {
      "cell_type": "code",
      "execution_count": null,
      "metadata": {
        "colab": {
          "base_uri": "https://localhost:8080/",
          "height": 358,
          "referenced_widgets": [
            "7c203003c73f49c89a45034267458f6e",
            "d523396e429d46038e4ef88d0c66fbe3",
            "bd2c6f33ae084e0383a103996708ee0f",
            "60eedb6ad9e5478fba928e815a42bf19",
            "c8f1509400c9472087d7a50ac20d339b",
            "ee48d69bff0d4db09b23727fd42e360f",
            "5b8254562b644192a5fc1866e14b9bd7",
            "58b41d7facf04c1cb410d17a7d2866b9",
            "f10e89a325f34e8db8207a244bdc951d",
            "329bfb13278a47a28949e9e7f58c86ef",
            "c8d92778bcfe40c4846e57745d3a43f0",
            "c5e50416af9e40988866c43cd30f8b5b",
            "c696d89b2a6f45649dcf4bb49154f566",
            "6511b6a242b245a2b2c0d32afbd940b8",
            "628620421c414d9db59d60f31957b963",
            "8699a1c2d57f4a4fa15b8db9dfa92919",
            "6af5a11f2d3d464ebb88dd3ddbbab30a",
            "3c34fc62308a4cc0b27a469bf78eae16",
            "6b82e1f8e7f047deb9c06ff2efa45a2f",
            "8dba49f704b54dee9f7bcf458d25ce5e",
            "6388d748b74043dd91b11fb37b0c11bf",
            "e496679bc2e74f798213ab291beb90ab",
            "63c4e1680da34efdb093cf8feeb42ecd",
            "d318fdfe8d554e6d8c0e1db5290073e9",
            "ab64a02433854ee68022c2cdb41ea8ce",
            "9344ce1fbd5b4e5ba1fc61e9d7c36972",
            "d698e3e7563c4e429a5a28e7d817cc87",
            "d1c6155d58e14f0b83ef8594c1fd7a67"
          ]
        },
        "id": "8gCkFfV-0_FZ",
        "outputId": "3e62370d-33d3-4ccf-d035-f218b6467e3a"
      },
      "outputs": [
        {
          "name": "stderr",
          "output_type": "stream",
          "text": [
            "WARNING - (NP.forecaster.fit) - When Global modeling with local normalization, metrics are displayed in normalized scale.\n",
            "INFO - (NP.df_utils._infer_frequency) - Major frequency MS corresponds to [98.507]% of the data.\n",
            "INFO - (NP.df_utils._infer_frequency) - Dataframe freq automatically defined as MS\n",
            "INFO - (NP.config.init_data_params) - Setting normalization to global as only one dataframe provided for training.\n",
            "INFO - (NP.utils.set_auto_seasonalities) - Disabling weekly seasonality. Run NeuralProphet with weekly_seasonality=True to override this.\n",
            "INFO - (NP.utils.set_auto_seasonalities) - Disabling daily seasonality. Run NeuralProphet with daily_seasonality=True to override this.\n",
            "INFO - (NP.config.set_auto_batch_epoch) - Auto-set batch_size to 16\n",
            "INFO - (NP.config.set_auto_batch_epoch) - Auto-set epochs to 831\n",
            "WARNING - (NP.config.set_lr_finder_args) - Learning rate finder: The number of batches (4) is too small than the required number for the learning rate finder (205). The results might not be optimal.\n"
          ]
        },
        {
          "data": {
            "application/vnd.jupyter.widget-view+json": {
              "model_id": "d698e3e7563c4e429a5a28e7d817cc87",
              "version_major": 2,
              "version_minor": 0
            },
            "text/plain": [
              "Finding best initial lr:   0%|          | 0/205 [00:00<?, ?it/s]"
            ]
          },
          "metadata": {},
          "output_type": "display_data"
        },
        {
          "data": {
            "application/vnd.jupyter.widget-view+json": {
              "model_id": "d1c6155d58e14f0b83ef8594c1fd7a67",
              "version_major": 2,
              "version_minor": 0
            },
            "text/plain": [
              "Training: 0it [00:00, ?it/s]"
            ]
          },
          "metadata": {},
          "output_type": "display_data"
        }
      ],
      "source": [
        "# train optimized model\n",
        "train_metrics = NP.fit(df_train)"
      ]
    },
    {
      "cell_type": "code",
      "execution_count": null,
      "metadata": {
        "colab": {
          "base_uri": "https://localhost:8080/",
          "height": 671,
          "referenced_widgets": [
            "da2a28742dd840368ceb6f5434e904e6",
            "f4256987556144cb85619bea44de0694",
            "6b04cd6143c5442dae29b4c413303628",
            "9d7f4d7eb64648a29ba9a54feb640b5e",
            "d12e489224364dbd80054f376da64419",
            "a717dec3193745b487fc5228ac1c0153",
            "1ae66c3677744ffd8d973ae690017be6",
            "3bc32495f9164296bdf33585e5cedde3",
            "b1c79f879f8a4deeaba2b47cc1db6f99",
            "367bcb0feb7d4f6aa1b1e623b16257a4",
            "b93812937c0c471d9b7980ce90365325",
            "6cdfbeba74b94bf88d3fba417e7c0594",
            "383f8d2e94df497e90c8a85c388a437a",
            "91f446e1a342477f9b703b39cecb516d",
            "7c8d072e33474556b6d8a30f8383e442",
            "04e16d8ab6834be3a49c16a11cac6bb6"
          ]
        },
        "id": "oEHvWMm_0_FZ",
        "outputId": "da3152ae-0d04-42db-8ea6-6700609d609a"
      },
      "outputs": [
        {
          "name": "stderr",
          "output_type": "stream",
          "text": [
            "INFO - (NP.df_utils._infer_frequency) - Major frequency MS corresponds to [98.734]% of the data.\n",
            "INFO - (NP.df_utils._infer_frequency) - Defined frequency is equal to major frequency - MS\n",
            "INFO - (NP.df_utils._infer_frequency) - Major frequency MS corresponds to [98.734]% of the data.\n",
            "INFO - (NP.df_utils._infer_frequency) - Defined frequency is equal to major frequency - MS\n"
          ]
        },
        {
          "data": {
            "application/vnd.jupyter.widget-view+json": {
              "model_id": "04e16d8ab6834be3a49c16a11cac6bb6",
              "version_major": 2,
              "version_minor": 0
            },
            "text/plain": [
              "Predicting: 4it [00:00, ?it/s]"
            ]
          },
          "metadata": {},
          "output_type": "display_data"
        },
        {
          "name": "stderr",
          "output_type": "stream",
          "text": [
            "INFO - (NP.df_utils.return_df_in_original_format) - Returning df with no ID column\n"
          ]
        }
      ],
      "source": [
        "# generate prediction\n",
        "predicted = NP.predict(enlarged_df)"
      ]
    },
    {
      "cell_type": "code",
      "execution_count": null,
      "metadata": {
        "id": "1Jwq6OO20_FZ"
      },
      "outputs": [],
      "source": [
        "# clip values below 0\n",
        "predicted['yhat12'] = [x if (x!=x or x >= 0) else 0 for x in predicted['yhat12']]"
      ]
    },
    {
      "cell_type": "code",
      "execution_count": null,
      "metadata": {
        "id": "YvWCvqPL0_FZ"
      },
      "outputs": [],
      "source": [
        "# plot optimized forecast\n",
        "plt.figure(figsize=(15, 7.5))\n",
        "plt.plot(predicted.set_index('ds')['yhat12'], color='r', label='model')\n",
        "plt.axvspan(predicted.set_index('ds').index[-12], predicted.set_index('ds').index[-1], alpha=0.5, color='lightgrey')\n",
        "plt.plot(df.set_index(\"ds\")['y'], label='actual')\n",
        "plt.grid(axis='y')\n",
        "plt.xlabel('DATE', fontsize=20)\n",
        "plt.ylabel('WON_REVENUE', fontsize=20)\n",
        "plt.legend()\n",
        "plt.show()"
      ]
    },
    {
      "cell_type": "code",
      "execution_count": null,
      "metadata": {
        "id": "Mksv8X2f0_FZ"
      },
      "outputs": [],
      "source": [
        "# plot NP parameters\n",
        "NP.plot_parameters()"
      ]
    },
    {
      "cell_type": "code",
      "execution_count": null,
      "metadata": {
        "colab": {
          "base_uri": "https://localhost:8080/"
        },
        "id": "n6MimIIQ0_FZ",
        "outputId": "fb29687e-dad8-4c46-f5ab-904b58512c2f"
      },
      "outputs": [
        {
          "name": "stdout",
          "output_type": "stream",
          "text": [
            "RMSE: 171660.69782902786\n",
            "Explained variance: -0.24798697918613666\n"
          ]
        }
      ],
      "source": [
        "print('RMSE:',math.sqrt(mean_squared_error(df_test['y'], predicted['yhat12'][-12:])))\n",
        "print('Explained variance:',explained_variance_score(df_test['y'], predicted['yhat12'][-12:]))"
      ]
    },
    {
      "cell_type": "markdown",
      "metadata": {
        "id": "UWRZKTkDoWs5"
      },
      "source": [
        "#### 2 years window\n",
        "For the 2 years window, only the heuristics approach was pursued. Thus, n_forecasts was set to be equal to the forecasting horizon (12 periods), num_hidden_layers to 0 and the loss_func set to the MSE. Due to the shortened length of the series n_lags could only be set to a maximum of 12."
      ]
    },
    {
      "cell_type": "code",
      "execution_count": null,
      "metadata": {
        "id": "x0srhXEdoWs6"
      },
      "outputs": [],
      "source": [
        "# shorten dataset to only retain most recent three years (2 years of training data + 1 year of test data)\n",
        "df = df[df['ds']>=pd.Timestamp(\"2020-01-01\")]\n",
        "df.head()"
      ]
    },
    {
      "cell_type": "code",
      "execution_count": null,
      "metadata": {
        "id": "TiSzdk2voWs6"
      },
      "outputs": [],
      "source": [
        "# split data\n",
        "df_train = df[:-12]\n",
        "df_test = df[-12:]"
      ]
    },
    {
      "cell_type": "code",
      "execution_count": null,
      "metadata": {
        "id": "4VS3LJSqw586"
      },
      "outputs": [],
      "source": [
        "# create enlarged train series for prediction generation\n",
        "enlarged_df = df_train.append(pd.DataFrame({'ds':[pd.Timestamp('2022-01-01'),pd.Timestamp('2022-02-01'),pd.Timestamp('2022-03-01'),pd.Timestamp('2022-04-01'),pd.Timestamp('2022-05-01'),pd.Timestamp('2022-06-01'),pd.Timestamp('2022-07-01'),pd.Timestamp('2022-08-01'),pd.Timestamp('2022-09-01'),pd.Timestamp('2022-10-01'),pd.Timestamp('2022-11-01'),pd.Timestamp('2022-12-01')],'CREATED_OPPORTUNITIES':[np.nan for i in range(12)],'CREATED_LEADS':[np.nan for i in range(12)],'y':[np.nan for i in range(12)]}))\n",
        "enlarged_df.tail(13)"
      ]
    },
    {
      "cell_type": "code",
      "execution_count": null,
      "metadata": {
        "id": "FEIJ7Gw6oWs6"
      },
      "outputs": [],
      "source": [
        "# initialize heuristics model\n",
        "set_random_seed(0)\n",
        "NP = NeuralProphet(growth='linear',\n",
        "                   changepoints=None,\n",
        "                   n_changepoints=10,\n",
        "                   changepoints_range=0.8,\n",
        "                   trend_reg=0, \n",
        "                   trend_reg_threshold=False, \n",
        "                   trend_global_local='global', \n",
        "                   yearly_seasonality='auto', \n",
        "                   weekly_seasonality='auto', \n",
        "                   daily_seasonality='auto', \n",
        "                   seasonality_mode='additive', \n",
        "                   seasonality_reg=0, \n",
        "                   season_global_local='global', \n",
        "                   n_forecasts=12, \n",
        "                   n_lags=12, \n",
        "                   num_hidden_layers=0, \n",
        "                   d_hidden=None, \n",
        "                   ar_reg=None, \n",
        "                   learning_rate=None, \n",
        "                   epochs=None, \n",
        "                   batch_size=None, \n",
        "                   loss_func='MSE', #quantile loss?\n",
        "                   optimizer='AdamW', \n",
        "                   newer_samples_weight=2, \n",
        "                   newer_samples_start=0.0, \n",
        "                   quantiles=None, \n",
        "                   impute_missing=True, \n",
        "                   impute_linear=10, \n",
        "                   impute_rolling=10, \n",
        "                   drop_missing=False, \n",
        "                   collect_metrics=True, \n",
        "                   normalize='auto', \n",
        "                   global_normalization=False, \n",
        "                   global_time_normalization=True, \n",
        "                   unknown_data_normalization=False)"
      ]
    },
    {
      "cell_type": "code",
      "execution_count": null,
      "metadata": {
        "colab": {
          "base_uri": "https://localhost:8080/"
        },
        "id": "JvQGf0SYf0JF",
        "outputId": "6cc31fea-5a51-4cd2-f4be-cfa0d2ae52df"
      },
      "outputs": [
        {
          "name": "stderr",
          "output_type": "stream",
          "text": [
            "INFO - (NP.forecaster.add_lagged_regressor) - n_lags = 'auto', number of lags for regressor is set to Autoregression number of lags (12)\n"
          ]
        },
        {
          "data": {
            "text/plain": [
              "<neuralprophet.forecaster.NeuralProphet at 0x7f867f8cfb50>"
            ]
          },
          "execution_count": 65,
          "metadata": {},
          "output_type": "execute_result"
        }
      ],
      "source": [
        "# add past covariates to the model\n",
        "NP.add_lagged_regressor(['CREATED_OPPORTUNITIES','CREATED_LEADS'])"
      ]
    },
    {
      "cell_type": "code",
      "execution_count": null,
      "metadata": {
        "colab": {
          "base_uri": "https://localhost:8080/",
          "height": 394,
          "referenced_widgets": [
            "e2c8e8be923847e09651c442edf040f4",
            "2a05dfa187a24a05a9060fdcab8ff4d0",
            "39fe338700954be58ae3c840baff04a4",
            "8eeeb12552da442cb6b5905453d39af6",
            "0ee604a2c3dc49a39ba974ecaba18ce8",
            "94657b243e044b9c934f27bf791a4064",
            "5c179dd4395946b59b20a338b920ad9a",
            "1ca1740b6289447dadc2728edfb77611",
            "387db3857f13452cbdd98f84938a3f64",
            "9a3303a2cb64417cbc21ad1f315427e4",
            "665652c16ee64a5385ecb3e03ae3b1d2",
            "e6b4e687ef964ea9afa61ef1f4cf784a",
            "834530d046c141e485270b51a0dd995a",
            "c4a2c606e67b4dd2a590328f194a9415",
            "dabe748ad8c94f06a37b70db7380f395",
            "6769458e5e7a4b42ba5c0ce6d04e8502",
            "6677f636abfb479ca445fd054ec38da4",
            "366515faa3764eb788a73aedb2a286fc",
            "48b618edf93a4030b67e2aff1bbd3002",
            "1e6be083b1f24514a9f64e4c288e59a3",
            "e4ed8a2bcb254b56a19fce2309d30da8",
            "e8fa61b1f7e0418e9c1d18a0b378ef6c",
            "cee57ddf59004114a30fcfff1d413e3e",
            "f94cc9872e1340c39901264f145cd00e",
            "77e98dcf627149fd8a6d2d559e5475bb",
            "149deb4368a747cfb699ece8cc6e839c",
            "13eae7a5a82343d68440abe01f6d6fd7",
            "5e20848383314edab1452333ab02621e"
          ]
        },
        "id": "-GtldeRJfwt3",
        "outputId": "c2dbdc31-4a65-4c05-b503-b36720477813"
      },
      "outputs": [
        {
          "name": "stderr",
          "output_type": "stream",
          "text": [
            "WARNING - (NP.forecaster.fit) - When Global modeling with local normalization, metrics are displayed in normalized scale.\n",
            "INFO - (NP.df_utils._infer_frequency) - Major frequency MS corresponds to [95.833]% of the data.\n",
            "INFO - (NP.df_utils._infer_frequency) - Dataframe freq automatically defined as MS\n",
            "INFO - (NP.config.init_data_params) - Setting normalization to global as only one dataframe provided for training.\n",
            "INFO - (NP.utils.set_auto_seasonalities) - Disabling yearly seasonality. Run NeuralProphet with yearly_seasonality=True to override this.\n",
            "INFO - (NP.utils.set_auto_seasonalities) - Disabling weekly seasonality. Run NeuralProphet with weekly_seasonality=True to override this.\n",
            "INFO - (NP.utils.set_auto_seasonalities) - Disabling daily seasonality. Run NeuralProphet with daily_seasonality=True to override this.\n",
            "INFO - (NP.config.set_auto_batch_epoch) - Auto-set batch_size to 1\n",
            "INFO - (NP.config.set_auto_batch_epoch) - Auto-set epochs to 1000\n",
            "WARNING - (NP.config.set_lr_finder_args) - Learning rate finder: The number of batches (1) is too small than the required number for the learning rate finder (202). The results might not be optimal.\n"
          ]
        },
        {
          "data": {
            "application/vnd.jupyter.widget-view+json": {
              "model_id": "13eae7a5a82343d68440abe01f6d6fd7",
              "version_major": 2,
              "version_minor": 0
            },
            "text/plain": [
              "Finding best initial lr:   0%|          | 0/202 [00:00<?, ?it/s]"
            ]
          },
          "metadata": {},
          "output_type": "display_data"
        },
        {
          "data": {
            "application/vnd.jupyter.widget-view+json": {
              "model_id": "5e20848383314edab1452333ab02621e",
              "version_major": 2,
              "version_minor": 0
            },
            "text/plain": [
              "Training: 0it [00:00, ?it/s]"
            ]
          },
          "metadata": {},
          "output_type": "display_data"
        }
      ],
      "source": [
        "# train heuristics model\n",
        "train_metrics = NP.fit(df_train)"
      ]
    },
    {
      "cell_type": "code",
      "execution_count": null,
      "metadata": {
        "colab": {
          "base_uri": "https://localhost:8080/",
          "height": 671,
          "referenced_widgets": [
            "e137568f694a4e718c6a0ef1df400d62",
            "103a806db17e45868b75c99f98754d9a",
            "581ffe7cc6a74b8b8b61498d905579db",
            "8af7af2551234d39b403d4e62a13b891",
            "c43ce6959abb405dbc96a259a7234041",
            "20073797b550433e8632431de672a795",
            "737106afc0634510b179cb872e83066d",
            "a5f1b1bff9864de69f5c65da4d4dd9c1",
            "65f0d5544235440ea0d21ae0f36bfb43",
            "357ff566e885424bb168f4289293dfbd",
            "65fed9575e4d406fb2717ae447c3528b",
            "c61e56a48f934721b372030ce1130652",
            "6195ba77b230450d98e59a6eec3a8eac",
            "8ab10ca79a6d4f42a60c129c80d737de",
            "2f2b56bd19bd43d591521b37d243f128",
            "9603fa09e5f044ef8650ec7c5eeeccc1"
          ]
        },
        "id": "BhV1gc1uoWs7",
        "outputId": "889a4102-9764-4c59-e470-1728e57916d5"
      },
      "outputs": [
        {
          "name": "stderr",
          "output_type": "stream",
          "text": [
            "INFO - (NP.df_utils._infer_frequency) - Major frequency MS corresponds to [97.222]% of the data.\n",
            "INFO - (NP.df_utils._infer_frequency) - Defined frequency is equal to major frequency - MS\n",
            "INFO - (NP.df_utils._infer_frequency) - Major frequency MS corresponds to [97.222]% of the data.\n",
            "INFO - (NP.df_utils._infer_frequency) - Defined frequency is equal to major frequency - MS\n"
          ]
        },
        {
          "data": {
            "application/vnd.jupyter.widget-view+json": {
              "model_id": "9603fa09e5f044ef8650ec7c5eeeccc1",
              "version_major": 2,
              "version_minor": 0
            },
            "text/plain": [
              "Predicting: 1it [00:00, ?it/s]"
            ]
          },
          "metadata": {},
          "output_type": "display_data"
        },
        {
          "name": "stderr",
          "output_type": "stream",
          "text": [
            "INFO - (NP.df_utils.return_df_in_original_format) - Returning df with no ID column\n"
          ]
        }
      ],
      "source": [
        "# generate prediction\n",
        "predicted = NP.predict(enlarged_df)"
      ]
    },
    {
      "cell_type": "code",
      "execution_count": null,
      "metadata": {
        "id": "LXZWUCmvoWs7"
      },
      "outputs": [],
      "source": [
        "# plot heuristics forecast\n",
        "plt.figure(figsize=(15, 7.5))\n",
        "plt.plot(predicted.set_index('ds')['yhat12'], color='r', label='model')\n",
        "plt.axvspan(predicted.set_index('ds').index[-12], predicted.set_index('ds').index[-1], alpha=0.5, color='lightgrey')\n",
        "plt.plot(df.set_index(\"ds\")['y'], label='actual')\n",
        "plt.grid(axis='y')\n",
        "plt.xlabel('DATE', fontsize=20)\n",
        "plt.ylabel('WON_REVENUE', fontsize=20)\n",
        "plt.legend()\n",
        "plt.show()"
      ]
    },
    {
      "cell_type": "code",
      "execution_count": null,
      "metadata": {
        "id": "LAeKWc7LoWs7"
      },
      "outputs": [],
      "source": [
        "# plot NP parameters\n",
        "NP.plot_parameters()"
      ]
    },
    {
      "cell_type": "code",
      "execution_count": null,
      "metadata": {
        "colab": {
          "base_uri": "https://localhost:8080/"
        },
        "id": "WZ-cRQv-68pf",
        "outputId": "de20dd86-17f1-4788-862f-5388007870d2"
      },
      "outputs": [
        {
          "name": "stdout",
          "output_type": "stream",
          "text": [
            "RMSE: 330643.71835086984\n",
            "Explained variance: -2.08103354321336\n"
          ]
        }
      ],
      "source": [
        "print('RMSE:',math.sqrt(mean_squared_error(df_test['y'], predicted['yhat12'][-12:])))\n",
        "print('Explained variance:',explained_variance_score(df_test['y'], predicted['yhat12'][-12:]))"
      ]
    }
  ],
  "metadata": {
    "colab": {
      "collapsed_sections": [
        "VVEjKFTbpiDT"
      ],
      "provenance": []
    },
    "gpuClass": "standard",
    "kernelspec": {
      "display_name": "Python 3",
      "language": "python",
      "name": "python3"
    },
    "language_info": {
      "codemirror_mode": {
        "name": "ipython",
        "version": 3
      },
      "file_extension": ".py",
      "mimetype": "text/x-python",
      "name": "python",
      "nbconvert_exporter": "python",
      "pygments_lexer": "ipython3",
      "version": "3.8.8"
    },
    "widgets": {
      "application/vnd.jupyter.widget-state+json": {
        "051d468a34d24e208c0a5359d548237b": {
          "model_module": "@jupyter-widgets/base",
          "model_module_version": "1.2.0",
          "model_name": "LayoutModel",
          "state": {
            "_model_module": "@jupyter-widgets/base",
            "_model_module_version": "1.2.0",
            "_model_name": "LayoutModel",
            "_view_count": null,
            "_view_module": "@jupyter-widgets/base",
            "_view_module_version": "1.2.0",
            "_view_name": "LayoutView",
            "align_content": null,
            "align_items": null,
            "align_self": null,
            "border": null,
            "bottom": null,
            "display": null,
            "flex": null,
            "flex_flow": null,
            "grid_area": null,
            "grid_auto_columns": null,
            "grid_auto_flow": null,
            "grid_auto_rows": null,
            "grid_column": null,
            "grid_gap": null,
            "grid_row": null,
            "grid_template_areas": null,
            "grid_template_columns": null,
            "grid_template_rows": null,
            "height": null,
            "justify_content": null,
            "justify_items": null,
            "left": null,
            "margin": null,
            "max_height": null,
            "max_width": null,
            "min_height": null,
            "min_width": null,
            "object_fit": null,
            "object_position": null,
            "order": null,
            "overflow": null,
            "overflow_x": null,
            "overflow_y": null,
            "padding": null,
            "right": null,
            "top": null,
            "visibility": null,
            "width": null
          }
        },
        "0ee604a2c3dc49a39ba974ecaba18ce8": {
          "model_module": "@jupyter-widgets/base",
          "model_module_version": "2.0.0",
          "model_name": "LayoutModel",
          "state": {
            "_model_module": "@jupyter-widgets/base",
            "_model_module_version": "2.0.0",
            "_model_name": "LayoutModel",
            "_view_count": null,
            "_view_module": "@jupyter-widgets/base",
            "_view_module_version": "2.0.0",
            "_view_name": "LayoutView",
            "align_content": null,
            "align_items": null,
            "align_self": null,
            "border_bottom": null,
            "border_left": null,
            "border_right": null,
            "border_top": null,
            "bottom": null,
            "display": null,
            "flex": null,
            "flex_flow": null,
            "grid_area": null,
            "grid_auto_columns": null,
            "grid_auto_flow": null,
            "grid_auto_rows": null,
            "grid_column": null,
            "grid_gap": null,
            "grid_row": null,
            "grid_template_areas": null,
            "grid_template_columns": null,
            "grid_template_rows": null,
            "height": null,
            "justify_content": null,
            "justify_items": null,
            "left": null,
            "margin": null,
            "max_height": null,
            "max_width": null,
            "min_height": null,
            "min_width": null,
            "object_fit": null,
            "object_position": null,
            "order": null,
            "overflow": null,
            "padding": null,
            "right": null,
            "top": null,
            "visibility": null,
            "width": null
          }
        },
        "103a806db17e45868b75c99f98754d9a": {
          "model_module": "@jupyter-widgets/controls",
          "model_module_version": "2.0.0",
          "model_name": "HTMLModel",
          "state": {
            "_dom_classes": [],
            "_model_module": "@jupyter-widgets/controls",
            "_model_module_version": "2.0.0",
            "_model_name": "HTMLModel",
            "_view_count": null,
            "_view_module": "@jupyter-widgets/controls",
            "_view_module_version": "2.0.0",
            "_view_name": "HTMLView",
            "description": "",
            "description_allow_html": false,
            "layout": "IPY_MODEL_20073797b550433e8632431de672a795",
            "placeholder": "​",
            "style": "IPY_MODEL_737106afc0634510b179cb872e83066d",
            "tabbable": null,
            "tooltip": null,
            "value": "Predicting DataLoader 0: 100%"
          }
        },
        "17f0b44b09a44a3e8ff1565a68ee1062": {
          "model_module": "@jupyter-widgets/base",
          "model_module_version": "1.2.0",
          "model_name": "LayoutModel",
          "state": {
            "_model_module": "@jupyter-widgets/base",
            "_model_module_version": "1.2.0",
            "_model_name": "LayoutModel",
            "_view_count": null,
            "_view_module": "@jupyter-widgets/base",
            "_view_module_version": "1.2.0",
            "_view_name": "LayoutView",
            "align_content": null,
            "align_items": null,
            "align_self": null,
            "border": null,
            "bottom": null,
            "display": null,
            "flex": null,
            "flex_flow": null,
            "grid_area": null,
            "grid_auto_columns": null,
            "grid_auto_flow": null,
            "grid_auto_rows": null,
            "grid_column": null,
            "grid_gap": null,
            "grid_row": null,
            "grid_template_areas": null,
            "grid_template_columns": null,
            "grid_template_rows": null,
            "height": null,
            "justify_content": null,
            "justify_items": null,
            "left": null,
            "margin": null,
            "max_height": null,
            "max_width": null,
            "min_height": null,
            "min_width": null,
            "object_fit": null,
            "object_position": null,
            "order": null,
            "overflow": null,
            "overflow_x": null,
            "overflow_y": null,
            "padding": null,
            "right": null,
            "top": null,
            "visibility": null,
            "width": null
          }
        },
        "1ae66c3677744ffd8d973ae690017be6": {
          "model_module": "@jupyter-widgets/controls",
          "model_module_version": "2.0.0",
          "model_name": "HTMLStyleModel",
          "state": {
            "_model_module": "@jupyter-widgets/controls",
            "_model_module_version": "2.0.0",
            "_model_name": "HTMLStyleModel",
            "_view_count": null,
            "_view_module": "@jupyter-widgets/base",
            "_view_module_version": "2.0.0",
            "_view_name": "StyleView",
            "background": null,
            "description_width": "",
            "font_size": null,
            "text_color": null
          }
        },
        "1ca1740b6289447dadc2728edfb77611": {
          "model_module": "@jupyter-widgets/base",
          "model_module_version": "2.0.0",
          "model_name": "LayoutModel",
          "state": {
            "_model_module": "@jupyter-widgets/base",
            "_model_module_version": "2.0.0",
            "_model_name": "LayoutModel",
            "_view_count": null,
            "_view_module": "@jupyter-widgets/base",
            "_view_module_version": "2.0.0",
            "_view_name": "LayoutView",
            "align_content": null,
            "align_items": null,
            "align_self": null,
            "border_bottom": null,
            "border_left": null,
            "border_right": null,
            "border_top": null,
            "bottom": null,
            "display": null,
            "flex": null,
            "flex_flow": null,
            "grid_area": null,
            "grid_auto_columns": null,
            "grid_auto_flow": null,
            "grid_auto_rows": null,
            "grid_column": null,
            "grid_gap": null,
            "grid_row": null,
            "grid_template_areas": null,
            "grid_template_columns": null,
            "grid_template_rows": null,
            "height": null,
            "justify_content": null,
            "justify_items": null,
            "left": null,
            "margin": null,
            "max_height": null,
            "max_width": null,
            "min_height": null,
            "min_width": null,
            "object_fit": null,
            "object_position": null,
            "order": null,
            "overflow": null,
            "padding": null,
            "right": null,
            "top": null,
            "visibility": null,
            "width": null
          }
        },
        "1d3cf87c79cc43db964f4ca6f3c47bf6": {
          "model_module": "@jupyter-widgets/base",
          "model_module_version": "1.2.0",
          "model_name": "LayoutModel",
          "state": {
            "_model_module": "@jupyter-widgets/base",
            "_model_module_version": "1.2.0",
            "_model_name": "LayoutModel",
            "_view_count": null,
            "_view_module": "@jupyter-widgets/base",
            "_view_module_version": "1.2.0",
            "_view_name": "LayoutView",
            "align_content": null,
            "align_items": null,
            "align_self": null,
            "border": null,
            "bottom": null,
            "display": null,
            "flex": null,
            "flex_flow": null,
            "grid_area": null,
            "grid_auto_columns": null,
            "grid_auto_flow": null,
            "grid_auto_rows": null,
            "grid_column": null,
            "grid_gap": null,
            "grid_row": null,
            "grid_template_areas": null,
            "grid_template_columns": null,
            "grid_template_rows": null,
            "height": null,
            "justify_content": null,
            "justify_items": null,
            "left": null,
            "margin": null,
            "max_height": null,
            "max_width": null,
            "min_height": null,
            "min_width": null,
            "object_fit": null,
            "object_position": null,
            "order": null,
            "overflow": null,
            "overflow_x": null,
            "overflow_y": null,
            "padding": null,
            "right": null,
            "top": null,
            "visibility": null,
            "width": null
          }
        },
        "1e6be083b1f24514a9f64e4c288e59a3": {
          "model_module": "@jupyter-widgets/controls",
          "model_module_version": "2.0.0",
          "model_name": "ProgressStyleModel",
          "state": {
            "_model_module": "@jupyter-widgets/controls",
            "_model_module_version": "2.0.0",
            "_model_name": "ProgressStyleModel",
            "_view_count": null,
            "_view_module": "@jupyter-widgets/base",
            "_view_module_version": "2.0.0",
            "_view_name": "StyleView",
            "bar_color": null,
            "description_width": ""
          }
        },
        "1fd3c85be71d4e9b9b76d8c6fb01da15": {
          "model_module": "@jupyter-widgets/controls",
          "model_module_version": "1.5.0",
          "model_name": "HBoxModel",
          "state": {
            "_dom_classes": [],
            "_model_module": "@jupyter-widgets/controls",
            "_model_module_version": "1.5.0",
            "_model_name": "HBoxModel",
            "_view_count": null,
            "_view_module": "@jupyter-widgets/controls",
            "_view_module_version": "1.5.0",
            "_view_name": "HBoxView",
            "box_style": "",
            "children": [
              "IPY_MODEL_e11d999feabe44f58022b5ce7446d62c",
              "IPY_MODEL_6acbfb0ba9cf4f1cae5cd894799ca980",
              "IPY_MODEL_6777d543666341a3a7488bc2ccd31e8b"
            ],
            "layout": "IPY_MODEL_5ec990c79a1b4ac6845ebeb8309bb89b"
          }
        },
        "20073797b550433e8632431de672a795": {
          "model_module": "@jupyter-widgets/base",
          "model_module_version": "2.0.0",
          "model_name": "LayoutModel",
          "state": {
            "_model_module": "@jupyter-widgets/base",
            "_model_module_version": "2.0.0",
            "_model_name": "LayoutModel",
            "_view_count": null,
            "_view_module": "@jupyter-widgets/base",
            "_view_module_version": "2.0.0",
            "_view_name": "LayoutView",
            "align_content": null,
            "align_items": null,
            "align_self": null,
            "border_bottom": null,
            "border_left": null,
            "border_right": null,
            "border_top": null,
            "bottom": null,
            "display": null,
            "flex": null,
            "flex_flow": null,
            "grid_area": null,
            "grid_auto_columns": null,
            "grid_auto_flow": null,
            "grid_auto_rows": null,
            "grid_column": null,
            "grid_gap": null,
            "grid_row": null,
            "grid_template_areas": null,
            "grid_template_columns": null,
            "grid_template_rows": null,
            "height": null,
            "justify_content": null,
            "justify_items": null,
            "left": null,
            "margin": null,
            "max_height": null,
            "max_width": null,
            "min_height": null,
            "min_width": null,
            "object_fit": null,
            "object_position": null,
            "order": null,
            "overflow": null,
            "padding": null,
            "right": null,
            "top": null,
            "visibility": null,
            "width": null
          }
        },
        "217fec49eaed4debbccfb6797dd12009": {
          "model_module": "@jupyter-widgets/base",
          "model_module_version": "1.2.0",
          "model_name": "LayoutModel",
          "state": {
            "_model_module": "@jupyter-widgets/base",
            "_model_module_version": "1.2.0",
            "_model_name": "LayoutModel",
            "_view_count": null,
            "_view_module": "@jupyter-widgets/base",
            "_view_module_version": "1.2.0",
            "_view_name": "LayoutView",
            "align_content": null,
            "align_items": null,
            "align_self": null,
            "border": null,
            "bottom": null,
            "display": null,
            "flex": null,
            "flex_flow": null,
            "grid_area": null,
            "grid_auto_columns": null,
            "grid_auto_flow": null,
            "grid_auto_rows": null,
            "grid_column": null,
            "grid_gap": null,
            "grid_row": null,
            "grid_template_areas": null,
            "grid_template_columns": null,
            "grid_template_rows": null,
            "height": null,
            "justify_content": null,
            "justify_items": null,
            "left": null,
            "margin": null,
            "max_height": null,
            "max_width": null,
            "min_height": null,
            "min_width": null,
            "object_fit": null,
            "object_position": null,
            "order": null,
            "overflow": null,
            "overflow_x": null,
            "overflow_y": null,
            "padding": null,
            "right": null,
            "top": null,
            "visibility": null,
            "width": null
          }
        },
        "2635e995912241c6bca122cd5a9a33a4": {
          "model_module": "@jupyter-widgets/controls",
          "model_module_version": "1.5.0",
          "model_name": "DescriptionStyleModel",
          "state": {
            "_model_module": "@jupyter-widgets/controls",
            "_model_module_version": "1.5.0",
            "_model_name": "DescriptionStyleModel",
            "_view_count": null,
            "_view_module": "@jupyter-widgets/base",
            "_view_module_version": "1.2.0",
            "_view_name": "StyleView",
            "description_width": ""
          }
        },
        "2855ec69eb214e8e93884651bf32d38c": {
          "model_module": "@jupyter-widgets/base",
          "model_module_version": "1.2.0",
          "model_name": "LayoutModel",
          "state": {
            "_model_module": "@jupyter-widgets/base",
            "_model_module_version": "1.2.0",
            "_model_name": "LayoutModel",
            "_view_count": null,
            "_view_module": "@jupyter-widgets/base",
            "_view_module_version": "1.2.0",
            "_view_name": "LayoutView",
            "align_content": null,
            "align_items": null,
            "align_self": null,
            "border": null,
            "bottom": null,
            "display": null,
            "flex": null,
            "flex_flow": null,
            "grid_area": null,
            "grid_auto_columns": null,
            "grid_auto_flow": null,
            "grid_auto_rows": null,
            "grid_column": null,
            "grid_gap": null,
            "grid_row": null,
            "grid_template_areas": null,
            "grid_template_columns": null,
            "grid_template_rows": null,
            "height": null,
            "justify_content": null,
            "justify_items": null,
            "left": null,
            "margin": null,
            "max_height": null,
            "max_width": null,
            "min_height": null,
            "min_width": null,
            "object_fit": null,
            "object_position": null,
            "order": null,
            "overflow": null,
            "overflow_x": null,
            "overflow_y": null,
            "padding": null,
            "right": null,
            "top": null,
            "visibility": null,
            "width": null
          }
        },
        "2892d59f051a4fd79f5835f911967faa": {
          "model_module": "@jupyter-widgets/controls",
          "model_module_version": "1.5.0",
          "model_name": "HBoxModel",
          "state": {
            "_dom_classes": [],
            "_model_module": "@jupyter-widgets/controls",
            "_model_module_version": "1.5.0",
            "_model_name": "HBoxModel",
            "_view_count": null,
            "_view_module": "@jupyter-widgets/controls",
            "_view_module_version": "1.5.0",
            "_view_name": "HBoxView",
            "box_style": "",
            "children": [
              "IPY_MODEL_2abc15861d6b4408aea45895444312bf",
              "IPY_MODEL_b624078184354bc0a7e4b9585a3ead93",
              "IPY_MODEL_a33d74aedc534c7490c1f34d172be0d4"
            ],
            "layout": "IPY_MODEL_78454dd4891b47c48f2554473461f02a"
          }
        },
        "2a05dfa187a24a05a9060fdcab8ff4d0": {
          "model_module": "@jupyter-widgets/controls",
          "model_module_version": "2.0.0",
          "model_name": "HTMLModel",
          "state": {
            "_dom_classes": [],
            "_model_module": "@jupyter-widgets/controls",
            "_model_module_version": "2.0.0",
            "_model_name": "HTMLModel",
            "_view_count": null,
            "_view_module": "@jupyter-widgets/controls",
            "_view_module_version": "2.0.0",
            "_view_name": "HTMLView",
            "description": "",
            "description_allow_html": false,
            "layout": "IPY_MODEL_94657b243e044b9c934f27bf791a4064",
            "placeholder": "​",
            "style": "IPY_MODEL_5c179dd4395946b59b20a338b920ad9a",
            "tabbable": null,
            "tooltip": null,
            "value": "Finding best initial lr: 100%"
          }
        },
        "2a3640b041e84a62906e92942c0e96d0": {
          "model_module": "@jupyter-widgets/base",
          "model_module_version": "1.2.0",
          "model_name": "LayoutModel",
          "state": {
            "_model_module": "@jupyter-widgets/base",
            "_model_module_version": "1.2.0",
            "_model_name": "LayoutModel",
            "_view_count": null,
            "_view_module": "@jupyter-widgets/base",
            "_view_module_version": "1.2.0",
            "_view_name": "LayoutView",
            "align_content": null,
            "align_items": null,
            "align_self": null,
            "border": null,
            "bottom": null,
            "display": null,
            "flex": null,
            "flex_flow": null,
            "grid_area": null,
            "grid_auto_columns": null,
            "grid_auto_flow": null,
            "grid_auto_rows": null,
            "grid_column": null,
            "grid_gap": null,
            "grid_row": null,
            "grid_template_areas": null,
            "grid_template_columns": null,
            "grid_template_rows": null,
            "height": null,
            "justify_content": null,
            "justify_items": null,
            "left": null,
            "margin": null,
            "max_height": null,
            "max_width": null,
            "min_height": null,
            "min_width": null,
            "object_fit": null,
            "object_position": null,
            "order": null,
            "overflow": null,
            "overflow_x": null,
            "overflow_y": null,
            "padding": null,
            "right": null,
            "top": null,
            "visibility": null,
            "width": null
          }
        },
        "2abc15861d6b4408aea45895444312bf": {
          "model_module": "@jupyter-widgets/controls",
          "model_module_version": "1.5.0",
          "model_name": "HTMLModel",
          "state": {
            "_dom_classes": [],
            "_model_module": "@jupyter-widgets/controls",
            "_model_module_version": "1.5.0",
            "_model_name": "HTMLModel",
            "_view_count": null,
            "_view_module": "@jupyter-widgets/controls",
            "_view_module_version": "1.5.0",
            "_view_name": "HTMLView",
            "description": "",
            "description_tooltip": null,
            "layout": "IPY_MODEL_d0ca970cc7bd462ba64b913c232e8036",
            "placeholder": "​",
            "style": "IPY_MODEL_737a55ea756b46409ebac2fa5bb75262",
            "value": "Finding best initial lr: 100%"
          }
        },
        "305a924953034675b944dc288a352a4c": {
          "model_module": "@jupyter-widgets/base",
          "model_module_version": "1.2.0",
          "model_name": "LayoutModel",
          "state": {
            "_model_module": "@jupyter-widgets/base",
            "_model_module_version": "1.2.0",
            "_model_name": "LayoutModel",
            "_view_count": null,
            "_view_module": "@jupyter-widgets/base",
            "_view_module_version": "1.2.0",
            "_view_name": "LayoutView",
            "align_content": null,
            "align_items": null,
            "align_self": null,
            "border": null,
            "bottom": null,
            "display": "inline-flex",
            "flex": null,
            "flex_flow": "row wrap",
            "grid_area": null,
            "grid_auto_columns": null,
            "grid_auto_flow": null,
            "grid_auto_rows": null,
            "grid_column": null,
            "grid_gap": null,
            "grid_row": null,
            "grid_template_areas": null,
            "grid_template_columns": null,
            "grid_template_rows": null,
            "height": null,
            "justify_content": null,
            "justify_items": null,
            "left": null,
            "margin": null,
            "max_height": null,
            "max_width": null,
            "min_height": null,
            "min_width": null,
            "object_fit": null,
            "object_position": null,
            "order": null,
            "overflow": null,
            "overflow_x": null,
            "overflow_y": null,
            "padding": null,
            "right": null,
            "top": null,
            "visibility": null,
            "width": "100%"
          }
        },
        "307d859616384892844b06fc7c2a1f12": {
          "model_module": "@jupyter-widgets/base",
          "model_module_version": "1.2.0",
          "model_name": "LayoutModel",
          "state": {
            "_model_module": "@jupyter-widgets/base",
            "_model_module_version": "1.2.0",
            "_model_name": "LayoutModel",
            "_view_count": null,
            "_view_module": "@jupyter-widgets/base",
            "_view_module_version": "1.2.0",
            "_view_name": "LayoutView",
            "align_content": null,
            "align_items": null,
            "align_self": null,
            "border": null,
            "bottom": null,
            "display": null,
            "flex": null,
            "flex_flow": null,
            "grid_area": null,
            "grid_auto_columns": null,
            "grid_auto_flow": null,
            "grid_auto_rows": null,
            "grid_column": null,
            "grid_gap": null,
            "grid_row": null,
            "grid_template_areas": null,
            "grid_template_columns": null,
            "grid_template_rows": null,
            "height": null,
            "justify_content": null,
            "justify_items": null,
            "left": null,
            "margin": null,
            "max_height": null,
            "max_width": null,
            "min_height": null,
            "min_width": null,
            "object_fit": null,
            "object_position": null,
            "order": null,
            "overflow": null,
            "overflow_x": null,
            "overflow_y": null,
            "padding": null,
            "right": null,
            "top": null,
            "visibility": null,
            "width": null
          }
        },
        "329bfb13278a47a28949e9e7f58c86ef": {
          "model_module": "@jupyter-widgets/base",
          "model_module_version": "2.0.0",
          "model_name": "LayoutModel",
          "state": {
            "_model_module": "@jupyter-widgets/base",
            "_model_module_version": "2.0.0",
            "_model_name": "LayoutModel",
            "_view_count": null,
            "_view_module": "@jupyter-widgets/base",
            "_view_module_version": "2.0.0",
            "_view_name": "LayoutView",
            "align_content": null,
            "align_items": null,
            "align_self": null,
            "border_bottom": null,
            "border_left": null,
            "border_right": null,
            "border_top": null,
            "bottom": null,
            "display": null,
            "flex": null,
            "flex_flow": null,
            "grid_area": null,
            "grid_auto_columns": null,
            "grid_auto_flow": null,
            "grid_auto_rows": null,
            "grid_column": null,
            "grid_gap": null,
            "grid_row": null,
            "grid_template_areas": null,
            "grid_template_columns": null,
            "grid_template_rows": null,
            "height": null,
            "justify_content": null,
            "justify_items": null,
            "left": null,
            "margin": null,
            "max_height": null,
            "max_width": null,
            "min_height": null,
            "min_width": null,
            "object_fit": null,
            "object_position": null,
            "order": null,
            "overflow": null,
            "padding": null,
            "right": null,
            "top": null,
            "visibility": null,
            "width": null
          }
        },
        "357ff566e885424bb168f4289293dfbd": {
          "model_module": "@jupyter-widgets/base",
          "model_module_version": "2.0.0",
          "model_name": "LayoutModel",
          "state": {
            "_model_module": "@jupyter-widgets/base",
            "_model_module_version": "2.0.0",
            "_model_name": "LayoutModel",
            "_view_count": null,
            "_view_module": "@jupyter-widgets/base",
            "_view_module_version": "2.0.0",
            "_view_name": "LayoutView",
            "align_content": null,
            "align_items": null,
            "align_self": null,
            "border_bottom": null,
            "border_left": null,
            "border_right": null,
            "border_top": null,
            "bottom": null,
            "display": null,
            "flex": null,
            "flex_flow": null,
            "grid_area": null,
            "grid_auto_columns": null,
            "grid_auto_flow": null,
            "grid_auto_rows": null,
            "grid_column": null,
            "grid_gap": null,
            "grid_row": null,
            "grid_template_areas": null,
            "grid_template_columns": null,
            "grid_template_rows": null,
            "height": null,
            "justify_content": null,
            "justify_items": null,
            "left": null,
            "margin": null,
            "max_height": null,
            "max_width": null,
            "min_height": null,
            "min_width": null,
            "object_fit": null,
            "object_position": null,
            "order": null,
            "overflow": null,
            "padding": null,
            "right": null,
            "top": null,
            "visibility": null,
            "width": null
          }
        },
        "366515faa3764eb788a73aedb2a286fc": {
          "model_module": "@jupyter-widgets/controls",
          "model_module_version": "2.0.0",
          "model_name": "HTMLStyleModel",
          "state": {
            "_model_module": "@jupyter-widgets/controls",
            "_model_module_version": "2.0.0",
            "_model_name": "HTMLStyleModel",
            "_view_count": null,
            "_view_module": "@jupyter-widgets/base",
            "_view_module_version": "2.0.0",
            "_view_name": "StyleView",
            "background": null,
            "description_width": "",
            "font_size": null,
            "text_color": null
          }
        },
        "367bcb0feb7d4f6aa1b1e623b16257a4": {
          "model_module": "@jupyter-widgets/base",
          "model_module_version": "2.0.0",
          "model_name": "LayoutModel",
          "state": {
            "_model_module": "@jupyter-widgets/base",
            "_model_module_version": "2.0.0",
            "_model_name": "LayoutModel",
            "_view_count": null,
            "_view_module": "@jupyter-widgets/base",
            "_view_module_version": "2.0.0",
            "_view_name": "LayoutView",
            "align_content": null,
            "align_items": null,
            "align_self": null,
            "border_bottom": null,
            "border_left": null,
            "border_right": null,
            "border_top": null,
            "bottom": null,
            "display": null,
            "flex": null,
            "flex_flow": null,
            "grid_area": null,
            "grid_auto_columns": null,
            "grid_auto_flow": null,
            "grid_auto_rows": null,
            "grid_column": null,
            "grid_gap": null,
            "grid_row": null,
            "grid_template_areas": null,
            "grid_template_columns": null,
            "grid_template_rows": null,
            "height": null,
            "justify_content": null,
            "justify_items": null,
            "left": null,
            "margin": null,
            "max_height": null,
            "max_width": null,
            "min_height": null,
            "min_width": null,
            "object_fit": null,
            "object_position": null,
            "order": null,
            "overflow": null,
            "padding": null,
            "right": null,
            "top": null,
            "visibility": null,
            "width": null
          }
        },
        "387db3857f13452cbdd98f84938a3f64": {
          "model_module": "@jupyter-widgets/controls",
          "model_module_version": "2.0.0",
          "model_name": "ProgressStyleModel",
          "state": {
            "_model_module": "@jupyter-widgets/controls",
            "_model_module_version": "2.0.0",
            "_model_name": "ProgressStyleModel",
            "_view_count": null,
            "_view_module": "@jupyter-widgets/base",
            "_view_module_version": "2.0.0",
            "_view_name": "StyleView",
            "bar_color": null,
            "description_width": ""
          }
        },
        "39528c4032084a7cbf6f3f75a677a3fa": {
          "model_module": "@jupyter-widgets/controls",
          "model_module_version": "1.5.0",
          "model_name": "HTMLModel",
          "state": {
            "_dom_classes": [],
            "_model_module": "@jupyter-widgets/controls",
            "_model_module_version": "1.5.0",
            "_model_name": "HTMLModel",
            "_view_count": null,
            "_view_module": "@jupyter-widgets/controls",
            "_view_module_version": "1.5.0",
            "_view_name": "HTMLView",
            "description": "",
            "description_tooltip": null,
            "layout": "IPY_MODEL_307d859616384892844b06fc7c2a1f12",
            "placeholder": "​",
            "style": "IPY_MODEL_f23687a7cd614e0c9aebaf3b4fae2f7f",
            "value": " 1000/1000 [00:00&lt;00:00, 33459.94it/s, loss=4.81e-08, v_num=111, MAE=0.659, RMSE=1.700, Loss=4.81e-8, RegLoss=0.000]"
          }
        },
        "39fe338700954be58ae3c840baff04a4": {
          "model_module": "@jupyter-widgets/controls",
          "model_module_version": "2.0.0",
          "model_name": "FloatProgressModel",
          "state": {
            "_dom_classes": [],
            "_model_module": "@jupyter-widgets/controls",
            "_model_module_version": "2.0.0",
            "_model_name": "FloatProgressModel",
            "_view_count": null,
            "_view_module": "@jupyter-widgets/controls",
            "_view_module_version": "2.0.0",
            "_view_name": "ProgressView",
            "bar_style": "",
            "description": "",
            "description_allow_html": false,
            "layout": "IPY_MODEL_1ca1740b6289447dadc2728edfb77611",
            "max": 202,
            "min": 0,
            "orientation": "horizontal",
            "style": "IPY_MODEL_387db3857f13452cbdd98f84938a3f64",
            "tabbable": null,
            "tooltip": null,
            "value": 202
          }
        },
        "3bc32495f9164296bdf33585e5cedde3": {
          "model_module": "@jupyter-widgets/base",
          "model_module_version": "2.0.0",
          "model_name": "LayoutModel",
          "state": {
            "_model_module": "@jupyter-widgets/base",
            "_model_module_version": "2.0.0",
            "_model_name": "LayoutModel",
            "_view_count": null,
            "_view_module": "@jupyter-widgets/base",
            "_view_module_version": "2.0.0",
            "_view_name": "LayoutView",
            "align_content": null,
            "align_items": null,
            "align_self": null,
            "border_bottom": null,
            "border_left": null,
            "border_right": null,
            "border_top": null,
            "bottom": null,
            "display": null,
            "flex": "2",
            "flex_flow": null,
            "grid_area": null,
            "grid_auto_columns": null,
            "grid_auto_flow": null,
            "grid_auto_rows": null,
            "grid_column": null,
            "grid_gap": null,
            "grid_row": null,
            "grid_template_areas": null,
            "grid_template_columns": null,
            "grid_template_rows": null,
            "height": null,
            "justify_content": null,
            "justify_items": null,
            "left": null,
            "margin": null,
            "max_height": null,
            "max_width": null,
            "min_height": null,
            "min_width": null,
            "object_fit": null,
            "object_position": null,
            "order": null,
            "overflow": null,
            "padding": null,
            "right": null,
            "top": null,
            "visibility": null,
            "width": null
          }
        },
        "3c34fc62308a4cc0b27a469bf78eae16": {
          "model_module": "@jupyter-widgets/controls",
          "model_module_version": "2.0.0",
          "model_name": "HTMLStyleModel",
          "state": {
            "_model_module": "@jupyter-widgets/controls",
            "_model_module_version": "2.0.0",
            "_model_name": "HTMLStyleModel",
            "_view_count": null,
            "_view_module": "@jupyter-widgets/base",
            "_view_module_version": "2.0.0",
            "_view_name": "StyleView",
            "background": null,
            "description_width": "",
            "font_size": null,
            "text_color": null
          }
        },
        "3cc18f8af088483d90963467297d7971": {
          "model_module": "@jupyter-widgets/base",
          "model_module_version": "1.2.0",
          "model_name": "LayoutModel",
          "state": {
            "_model_module": "@jupyter-widgets/base",
            "_model_module_version": "1.2.0",
            "_model_name": "LayoutModel",
            "_view_count": null,
            "_view_module": "@jupyter-widgets/base",
            "_view_module_version": "1.2.0",
            "_view_name": "LayoutView",
            "align_content": null,
            "align_items": null,
            "align_self": null,
            "border": null,
            "bottom": null,
            "display": "inline-flex",
            "flex": null,
            "flex_flow": "row wrap",
            "grid_area": null,
            "grid_auto_columns": null,
            "grid_auto_flow": null,
            "grid_auto_rows": null,
            "grid_column": null,
            "grid_gap": null,
            "grid_row": null,
            "grid_template_areas": null,
            "grid_template_columns": null,
            "grid_template_rows": null,
            "height": null,
            "justify_content": null,
            "justify_items": null,
            "left": null,
            "margin": null,
            "max_height": null,
            "max_width": null,
            "min_height": null,
            "min_width": null,
            "object_fit": null,
            "object_position": null,
            "order": null,
            "overflow": null,
            "overflow_x": null,
            "overflow_y": null,
            "padding": null,
            "right": null,
            "top": null,
            "visibility": null,
            "width": "100%"
          }
        },
        "3e313e2f7ad343cc81f077d7aa94c0ab": {
          "model_module": "@jupyter-widgets/controls",
          "model_module_version": "1.5.0",
          "model_name": "FloatProgressModel",
          "state": {
            "_dom_classes": [],
            "_model_module": "@jupyter-widgets/controls",
            "_model_module_version": "1.5.0",
            "_model_name": "FloatProgressModel",
            "_view_count": null,
            "_view_module": "@jupyter-widgets/controls",
            "_view_module_version": "1.5.0",
            "_view_name": "ProgressView",
            "bar_style": "success",
            "description": "",
            "description_tooltip": null,
            "layout": "IPY_MODEL_b0163868c28345acbf5b0d44abb25342",
            "max": 1000,
            "min": 0,
            "orientation": "horizontal",
            "style": "IPY_MODEL_61c11333c5c44c24b2a4d3a4518887d1",
            "value": 1000
          }
        },
        "48b618edf93a4030b67e2aff1bbd3002": {
          "model_module": "@jupyter-widgets/base",
          "model_module_version": "2.0.0",
          "model_name": "LayoutModel",
          "state": {
            "_model_module": "@jupyter-widgets/base",
            "_model_module_version": "2.0.0",
            "_model_name": "LayoutModel",
            "_view_count": null,
            "_view_module": "@jupyter-widgets/base",
            "_view_module_version": "2.0.0",
            "_view_name": "LayoutView",
            "align_content": null,
            "align_items": null,
            "align_self": null,
            "border_bottom": null,
            "border_left": null,
            "border_right": null,
            "border_top": null,
            "bottom": null,
            "display": null,
            "flex": "2",
            "flex_flow": null,
            "grid_area": null,
            "grid_auto_columns": null,
            "grid_auto_flow": null,
            "grid_auto_rows": null,
            "grid_column": null,
            "grid_gap": null,
            "grid_row": null,
            "grid_template_areas": null,
            "grid_template_columns": null,
            "grid_template_rows": null,
            "height": null,
            "justify_content": null,
            "justify_items": null,
            "left": null,
            "margin": null,
            "max_height": null,
            "max_width": null,
            "min_height": null,
            "min_width": null,
            "object_fit": null,
            "object_position": null,
            "order": null,
            "overflow": null,
            "padding": null,
            "right": null,
            "top": null,
            "visibility": null,
            "width": null
          }
        },
        "55826d83bbd547aabd3ffb3e9d2a9f24": {
          "model_module": "@jupyter-widgets/controls",
          "model_module_version": "1.5.0",
          "model_name": "HTMLModel",
          "state": {
            "_dom_classes": [],
            "_model_module": "@jupyter-widgets/controls",
            "_model_module_version": "1.5.0",
            "_model_name": "HTMLModel",
            "_view_count": null,
            "_view_module": "@jupyter-widgets/controls",
            "_view_module_version": "1.5.0",
            "_view_name": "HTMLView",
            "description": "",
            "description_tooltip": null,
            "layout": "IPY_MODEL_2855ec69eb214e8e93884651bf32d38c",
            "placeholder": "​",
            "style": "IPY_MODEL_2635e995912241c6bca122cd5a9a33a4",
            "value": " 1/1 [00:00&lt;00:00, 91.01it/s]"
          }
        },
        "581ffe7cc6a74b8b8b61498d905579db": {
          "model_module": "@jupyter-widgets/controls",
          "model_module_version": "2.0.0",
          "model_name": "FloatProgressModel",
          "state": {
            "_dom_classes": [],
            "_model_module": "@jupyter-widgets/controls",
            "_model_module_version": "2.0.0",
            "_model_name": "FloatProgressModel",
            "_view_count": null,
            "_view_module": "@jupyter-widgets/controls",
            "_view_module_version": "2.0.0",
            "_view_name": "ProgressView",
            "bar_style": "success",
            "description": "",
            "description_allow_html": false,
            "layout": "IPY_MODEL_a5f1b1bff9864de69f5c65da4d4dd9c1",
            "max": 1,
            "min": 0,
            "orientation": "horizontal",
            "style": "IPY_MODEL_65f0d5544235440ea0d21ae0f36bfb43",
            "tabbable": null,
            "tooltip": null,
            "value": 1
          }
        },
        "58b41d7facf04c1cb410d17a7d2866b9": {
          "model_module": "@jupyter-widgets/base",
          "model_module_version": "2.0.0",
          "model_name": "LayoutModel",
          "state": {
            "_model_module": "@jupyter-widgets/base",
            "_model_module_version": "2.0.0",
            "_model_name": "LayoutModel",
            "_view_count": null,
            "_view_module": "@jupyter-widgets/base",
            "_view_module_version": "2.0.0",
            "_view_name": "LayoutView",
            "align_content": null,
            "align_items": null,
            "align_self": null,
            "border_bottom": null,
            "border_left": null,
            "border_right": null,
            "border_top": null,
            "bottom": null,
            "display": null,
            "flex": null,
            "flex_flow": null,
            "grid_area": null,
            "grid_auto_columns": null,
            "grid_auto_flow": null,
            "grid_auto_rows": null,
            "grid_column": null,
            "grid_gap": null,
            "grid_row": null,
            "grid_template_areas": null,
            "grid_template_columns": null,
            "grid_template_rows": null,
            "height": null,
            "justify_content": null,
            "justify_items": null,
            "left": null,
            "margin": null,
            "max_height": null,
            "max_width": null,
            "min_height": null,
            "min_width": null,
            "object_fit": null,
            "object_position": null,
            "order": null,
            "overflow": null,
            "padding": null,
            "right": null,
            "top": null,
            "visibility": null,
            "width": null
          }
        },
        "5b8254562b644192a5fc1866e14b9bd7": {
          "model_module": "@jupyter-widgets/controls",
          "model_module_version": "2.0.0",
          "model_name": "HTMLStyleModel",
          "state": {
            "_model_module": "@jupyter-widgets/controls",
            "_model_module_version": "2.0.0",
            "_model_name": "HTMLStyleModel",
            "_view_count": null,
            "_view_module": "@jupyter-widgets/base",
            "_view_module_version": "2.0.0",
            "_view_name": "StyleView",
            "background": null,
            "description_width": "",
            "font_size": null,
            "text_color": null
          }
        },
        "5c179dd4395946b59b20a338b920ad9a": {
          "model_module": "@jupyter-widgets/controls",
          "model_module_version": "2.0.0",
          "model_name": "HTMLStyleModel",
          "state": {
            "_model_module": "@jupyter-widgets/controls",
            "_model_module_version": "2.0.0",
            "_model_name": "HTMLStyleModel",
            "_view_count": null,
            "_view_module": "@jupyter-widgets/base",
            "_view_module_version": "2.0.0",
            "_view_name": "StyleView",
            "background": null,
            "description_width": "",
            "font_size": null,
            "text_color": null
          }
        },
        "5ec990c79a1b4ac6845ebeb8309bb89b": {
          "model_module": "@jupyter-widgets/base",
          "model_module_version": "1.2.0",
          "model_name": "LayoutModel",
          "state": {
            "_model_module": "@jupyter-widgets/base",
            "_model_module_version": "1.2.0",
            "_model_name": "LayoutModel",
            "_view_count": null,
            "_view_module": "@jupyter-widgets/base",
            "_view_module_version": "1.2.0",
            "_view_name": "LayoutView",
            "align_content": null,
            "align_items": null,
            "align_self": null,
            "border": null,
            "bottom": null,
            "display": "inline-flex",
            "flex": null,
            "flex_flow": "row wrap",
            "grid_area": null,
            "grid_auto_columns": null,
            "grid_auto_flow": null,
            "grid_auto_rows": null,
            "grid_column": null,
            "grid_gap": null,
            "grid_row": null,
            "grid_template_areas": null,
            "grid_template_columns": null,
            "grid_template_rows": null,
            "height": null,
            "justify_content": null,
            "justify_items": null,
            "left": null,
            "margin": null,
            "max_height": null,
            "max_width": null,
            "min_height": null,
            "min_width": null,
            "object_fit": null,
            "object_position": null,
            "order": null,
            "overflow": null,
            "overflow_x": null,
            "overflow_y": null,
            "padding": null,
            "right": null,
            "top": null,
            "visibility": null,
            "width": "100%"
          }
        },
        "60eedb6ad9e5478fba928e815a42bf19": {
          "model_module": "@jupyter-widgets/controls",
          "model_module_version": "2.0.0",
          "model_name": "HTMLModel",
          "state": {
            "_dom_classes": [],
            "_model_module": "@jupyter-widgets/controls",
            "_model_module_version": "2.0.0",
            "_model_name": "HTMLModel",
            "_view_count": null,
            "_view_module": "@jupyter-widgets/controls",
            "_view_module_version": "2.0.0",
            "_view_name": "HTMLView",
            "description": "",
            "description_allow_html": false,
            "layout": "IPY_MODEL_329bfb13278a47a28949e9e7f58c86ef",
            "placeholder": "​",
            "style": "IPY_MODEL_c8d92778bcfe40c4846e57745d3a43f0",
            "tabbable": null,
            "tooltip": null,
            "value": " 205/205 [00:03&lt;00:00, 141.67it/s]"
          }
        },
        "61c11333c5c44c24b2a4d3a4518887d1": {
          "model_module": "@jupyter-widgets/controls",
          "model_module_version": "1.5.0",
          "model_name": "ProgressStyleModel",
          "state": {
            "_model_module": "@jupyter-widgets/controls",
            "_model_module_version": "1.5.0",
            "_model_name": "ProgressStyleModel",
            "_view_count": null,
            "_view_module": "@jupyter-widgets/base",
            "_view_module_version": "1.2.0",
            "_view_name": "StyleView",
            "bar_color": null,
            "description_width": ""
          }
        },
        "6248f75760e745b78dfb1d9c7371b262": {
          "model_module": "@jupyter-widgets/controls",
          "model_module_version": "1.5.0",
          "model_name": "ProgressStyleModel",
          "state": {
            "_model_module": "@jupyter-widgets/controls",
            "_model_module_version": "1.5.0",
            "_model_name": "ProgressStyleModel",
            "_view_count": null,
            "_view_module": "@jupyter-widgets/base",
            "_view_module_version": "1.2.0",
            "_view_name": "StyleView",
            "bar_color": null,
            "description_width": ""
          }
        },
        "628620421c414d9db59d60f31957b963": {
          "model_module": "@jupyter-widgets/controls",
          "model_module_version": "2.0.0",
          "model_name": "HTMLModel",
          "state": {
            "_dom_classes": [],
            "_model_module": "@jupyter-widgets/controls",
            "_model_module_version": "2.0.0",
            "_model_name": "HTMLModel",
            "_view_count": null,
            "_view_module": "@jupyter-widgets/controls",
            "_view_module_version": "2.0.0",
            "_view_name": "HTMLView",
            "description": "",
            "description_allow_html": false,
            "layout": "IPY_MODEL_6388d748b74043dd91b11fb37b0c11bf",
            "placeholder": "​",
            "style": "IPY_MODEL_e496679bc2e74f798213ab291beb90ab",
            "tabbable": null,
            "tooltip": null,
            "value": " 1000/1000 [00:00&lt;00:00, 27313.25it/s, loss=0.00616, v_num=117, MAE=6.53e+3, RMSE=8.86e+3, Loss=0.00618, RegLoss=0.000]"
          }
        },
        "6388d748b74043dd91b11fb37b0c11bf": {
          "model_module": "@jupyter-widgets/base",
          "model_module_version": "2.0.0",
          "model_name": "LayoutModel",
          "state": {
            "_model_module": "@jupyter-widgets/base",
            "_model_module_version": "2.0.0",
            "_model_name": "LayoutModel",
            "_view_count": null,
            "_view_module": "@jupyter-widgets/base",
            "_view_module_version": "2.0.0",
            "_view_name": "LayoutView",
            "align_content": null,
            "align_items": null,
            "align_self": null,
            "border_bottom": null,
            "border_left": null,
            "border_right": null,
            "border_top": null,
            "bottom": null,
            "display": null,
            "flex": null,
            "flex_flow": null,
            "grid_area": null,
            "grid_auto_columns": null,
            "grid_auto_flow": null,
            "grid_auto_rows": null,
            "grid_column": null,
            "grid_gap": null,
            "grid_row": null,
            "grid_template_areas": null,
            "grid_template_columns": null,
            "grid_template_rows": null,
            "height": null,
            "justify_content": null,
            "justify_items": null,
            "left": null,
            "margin": null,
            "max_height": null,
            "max_width": null,
            "min_height": null,
            "min_width": null,
            "object_fit": null,
            "object_position": null,
            "order": null,
            "overflow": null,
            "padding": null,
            "right": null,
            "top": null,
            "visibility": null,
            "width": null
          }
        },
        "6511b6a242b245a2b2c0d32afbd940b8": {
          "model_module": "@jupyter-widgets/controls",
          "model_module_version": "2.0.0",
          "model_name": "FloatProgressModel",
          "state": {
            "_dom_classes": [],
            "_model_module": "@jupyter-widgets/controls",
            "_model_module_version": "2.0.0",
            "_model_name": "FloatProgressModel",
            "_view_count": null,
            "_view_module": "@jupyter-widgets/controls",
            "_view_module_version": "2.0.0",
            "_view_name": "ProgressView",
            "bar_style": "success",
            "description": "",
            "description_allow_html": false,
            "layout": "IPY_MODEL_6b82e1f8e7f047deb9c06ff2efa45a2f",
            "max": 1000,
            "min": 0,
            "orientation": "horizontal",
            "style": "IPY_MODEL_8dba49f704b54dee9f7bcf458d25ce5e",
            "tabbable": null,
            "tooltip": null,
            "value": 1000
          }
        },
        "65f0d5544235440ea0d21ae0f36bfb43": {
          "model_module": "@jupyter-widgets/controls",
          "model_module_version": "2.0.0",
          "model_name": "ProgressStyleModel",
          "state": {
            "_model_module": "@jupyter-widgets/controls",
            "_model_module_version": "2.0.0",
            "_model_name": "ProgressStyleModel",
            "_view_count": null,
            "_view_module": "@jupyter-widgets/base",
            "_view_module_version": "2.0.0",
            "_view_name": "StyleView",
            "bar_color": null,
            "description_width": ""
          }
        },
        "65fed9575e4d406fb2717ae447c3528b": {
          "model_module": "@jupyter-widgets/controls",
          "model_module_version": "2.0.0",
          "model_name": "HTMLStyleModel",
          "state": {
            "_model_module": "@jupyter-widgets/controls",
            "_model_module_version": "2.0.0",
            "_model_name": "HTMLStyleModel",
            "_view_count": null,
            "_view_module": "@jupyter-widgets/base",
            "_view_module_version": "2.0.0",
            "_view_name": "StyleView",
            "background": null,
            "description_width": "",
            "font_size": null,
            "text_color": null
          }
        },
        "665652c16ee64a5385ecb3e03ae3b1d2": {
          "model_module": "@jupyter-widgets/controls",
          "model_module_version": "2.0.0",
          "model_name": "HTMLStyleModel",
          "state": {
            "_model_module": "@jupyter-widgets/controls",
            "_model_module_version": "2.0.0",
            "_model_name": "HTMLStyleModel",
            "_view_count": null,
            "_view_module": "@jupyter-widgets/base",
            "_view_module_version": "2.0.0",
            "_view_name": "StyleView",
            "background": null,
            "description_width": "",
            "font_size": null,
            "text_color": null
          }
        },
        "6677f636abfb479ca445fd054ec38da4": {
          "model_module": "@jupyter-widgets/base",
          "model_module_version": "2.0.0",
          "model_name": "LayoutModel",
          "state": {
            "_model_module": "@jupyter-widgets/base",
            "_model_module_version": "2.0.0",
            "_model_name": "LayoutModel",
            "_view_count": null,
            "_view_module": "@jupyter-widgets/base",
            "_view_module_version": "2.0.0",
            "_view_name": "LayoutView",
            "align_content": null,
            "align_items": null,
            "align_self": null,
            "border_bottom": null,
            "border_left": null,
            "border_right": null,
            "border_top": null,
            "bottom": null,
            "display": null,
            "flex": null,
            "flex_flow": null,
            "grid_area": null,
            "grid_auto_columns": null,
            "grid_auto_flow": null,
            "grid_auto_rows": null,
            "grid_column": null,
            "grid_gap": null,
            "grid_row": null,
            "grid_template_areas": null,
            "grid_template_columns": null,
            "grid_template_rows": null,
            "height": null,
            "justify_content": null,
            "justify_items": null,
            "left": null,
            "margin": null,
            "max_height": null,
            "max_width": null,
            "min_height": null,
            "min_width": null,
            "object_fit": null,
            "object_position": null,
            "order": null,
            "overflow": null,
            "padding": null,
            "right": null,
            "top": null,
            "visibility": null,
            "width": null
          }
        },
        "6769458e5e7a4b42ba5c0ce6d04e8502": {
          "model_module": "@jupyter-widgets/base",
          "model_module_version": "2.0.0",
          "model_name": "LayoutModel",
          "state": {
            "_model_module": "@jupyter-widgets/base",
            "_model_module_version": "2.0.0",
            "_model_name": "LayoutModel",
            "_view_count": null,
            "_view_module": "@jupyter-widgets/base",
            "_view_module_version": "2.0.0",
            "_view_name": "LayoutView",
            "align_content": null,
            "align_items": null,
            "align_self": null,
            "border_bottom": null,
            "border_left": null,
            "border_right": null,
            "border_top": null,
            "bottom": null,
            "display": "inline-flex",
            "flex": null,
            "flex_flow": "row wrap",
            "grid_area": null,
            "grid_auto_columns": null,
            "grid_auto_flow": null,
            "grid_auto_rows": null,
            "grid_column": null,
            "grid_gap": null,
            "grid_row": null,
            "grid_template_areas": null,
            "grid_template_columns": null,
            "grid_template_rows": null,
            "height": null,
            "justify_content": null,
            "justify_items": null,
            "left": null,
            "margin": null,
            "max_height": null,
            "max_width": null,
            "min_height": null,
            "min_width": null,
            "object_fit": null,
            "object_position": null,
            "order": null,
            "overflow": null,
            "padding": null,
            "right": null,
            "top": null,
            "visibility": null,
            "width": "100%"
          }
        },
        "6777d543666341a3a7488bc2ccd31e8b": {
          "model_module": "@jupyter-widgets/controls",
          "model_module_version": "1.5.0",
          "model_name": "HTMLModel",
          "state": {
            "_dom_classes": [],
            "_model_module": "@jupyter-widgets/controls",
            "_model_module_version": "1.5.0",
            "_model_name": "HTMLModel",
            "_view_count": null,
            "_view_module": "@jupyter-widgets/controls",
            "_view_module_version": "1.5.0",
            "_view_name": "HTMLView",
            "description": "",
            "description_tooltip": null,
            "layout": "IPY_MODEL_900b8fc6a68f44f9822919aba514f728",
            "placeholder": "​",
            "style": "IPY_MODEL_f0a82cf0db16403b97978fb1f9aa44cc",
            "value": " 733/733 [00:00&lt;00:00, 11476.70it/s, loss=0.279, v_num=1, MAE=4.59e+3, RMSE=7.22e+3, Loss=0.279, RegLoss=0.000]"
          }
        },
        "67bedf6d8e924f1aaa73a9dce2d7717d": {
          "model_module": "@jupyter-widgets/controls",
          "model_module_version": "1.5.0",
          "model_name": "ProgressStyleModel",
          "state": {
            "_model_module": "@jupyter-widgets/controls",
            "_model_module_version": "1.5.0",
            "_model_name": "ProgressStyleModel",
            "_view_count": null,
            "_view_module": "@jupyter-widgets/base",
            "_view_module_version": "1.2.0",
            "_view_name": "StyleView",
            "bar_color": null,
            "description_width": ""
          }
        },
        "698efc6361b1443bb64c8f0365b5b1f0": {
          "model_module": "@jupyter-widgets/controls",
          "model_module_version": "1.5.0",
          "model_name": "DescriptionStyleModel",
          "state": {
            "_model_module": "@jupyter-widgets/controls",
            "_model_module_version": "1.5.0",
            "_model_name": "DescriptionStyleModel",
            "_view_count": null,
            "_view_module": "@jupyter-widgets/base",
            "_view_module_version": "1.2.0",
            "_view_name": "StyleView",
            "description_width": ""
          }
        },
        "6acbfb0ba9cf4f1cae5cd894799ca980": {
          "model_module": "@jupyter-widgets/controls",
          "model_module_version": "1.5.0",
          "model_name": "FloatProgressModel",
          "state": {
            "_dom_classes": [],
            "_model_module": "@jupyter-widgets/controls",
            "_model_module_version": "1.5.0",
            "_model_name": "FloatProgressModel",
            "_view_count": null,
            "_view_module": "@jupyter-widgets/controls",
            "_view_module_version": "1.5.0",
            "_view_name": "ProgressView",
            "bar_style": "success",
            "description": "",
            "description_tooltip": null,
            "layout": "IPY_MODEL_8810b6b46a1042a19c59edafb5eae1e6",
            "max": 733,
            "min": 0,
            "orientation": "horizontal",
            "style": "IPY_MODEL_67bedf6d8e924f1aaa73a9dce2d7717d",
            "value": 733
          }
        },
        "6af5a11f2d3d464ebb88dd3ddbbab30a": {
          "model_module": "@jupyter-widgets/base",
          "model_module_version": "2.0.0",
          "model_name": "LayoutModel",
          "state": {
            "_model_module": "@jupyter-widgets/base",
            "_model_module_version": "2.0.0",
            "_model_name": "LayoutModel",
            "_view_count": null,
            "_view_module": "@jupyter-widgets/base",
            "_view_module_version": "2.0.0",
            "_view_name": "LayoutView",
            "align_content": null,
            "align_items": null,
            "align_self": null,
            "border_bottom": null,
            "border_left": null,
            "border_right": null,
            "border_top": null,
            "bottom": null,
            "display": null,
            "flex": null,
            "flex_flow": null,
            "grid_area": null,
            "grid_auto_columns": null,
            "grid_auto_flow": null,
            "grid_auto_rows": null,
            "grid_column": null,
            "grid_gap": null,
            "grid_row": null,
            "grid_template_areas": null,
            "grid_template_columns": null,
            "grid_template_rows": null,
            "height": null,
            "justify_content": null,
            "justify_items": null,
            "left": null,
            "margin": null,
            "max_height": null,
            "max_width": null,
            "min_height": null,
            "min_width": null,
            "object_fit": null,
            "object_position": null,
            "order": null,
            "overflow": null,
            "padding": null,
            "right": null,
            "top": null,
            "visibility": null,
            "width": null
          }
        },
        "6b04cd6143c5442dae29b4c413303628": {
          "model_module": "@jupyter-widgets/controls",
          "model_module_version": "2.0.0",
          "model_name": "FloatProgressModel",
          "state": {
            "_dom_classes": [],
            "_model_module": "@jupyter-widgets/controls",
            "_model_module_version": "2.0.0",
            "_model_name": "FloatProgressModel",
            "_view_count": null,
            "_view_module": "@jupyter-widgets/controls",
            "_view_module_version": "2.0.0",
            "_view_name": "ProgressView",
            "bar_style": "success",
            "description": "",
            "description_allow_html": false,
            "layout": "IPY_MODEL_3bc32495f9164296bdf33585e5cedde3",
            "max": 1,
            "min": 0,
            "orientation": "horizontal",
            "style": "IPY_MODEL_b1c79f879f8a4deeaba2b47cc1db6f99",
            "tabbable": null,
            "tooltip": null,
            "value": 1
          }
        },
        "6b6d8570b1f54a5c8ca75f9f535d1781": {
          "model_module": "@jupyter-widgets/controls",
          "model_module_version": "1.5.0",
          "model_name": "ProgressStyleModel",
          "state": {
            "_model_module": "@jupyter-widgets/controls",
            "_model_module_version": "1.5.0",
            "_model_name": "ProgressStyleModel",
            "_view_count": null,
            "_view_module": "@jupyter-widgets/base",
            "_view_module_version": "1.2.0",
            "_view_name": "StyleView",
            "bar_color": null,
            "description_width": ""
          }
        },
        "6b82e1f8e7f047deb9c06ff2efa45a2f": {
          "model_module": "@jupyter-widgets/base",
          "model_module_version": "2.0.0",
          "model_name": "LayoutModel",
          "state": {
            "_model_module": "@jupyter-widgets/base",
            "_model_module_version": "2.0.0",
            "_model_name": "LayoutModel",
            "_view_count": null,
            "_view_module": "@jupyter-widgets/base",
            "_view_module_version": "2.0.0",
            "_view_name": "LayoutView",
            "align_content": null,
            "align_items": null,
            "align_self": null,
            "border_bottom": null,
            "border_left": null,
            "border_right": null,
            "border_top": null,
            "bottom": null,
            "display": null,
            "flex": "2",
            "flex_flow": null,
            "grid_area": null,
            "grid_auto_columns": null,
            "grid_auto_flow": null,
            "grid_auto_rows": null,
            "grid_column": null,
            "grid_gap": null,
            "grid_row": null,
            "grid_template_areas": null,
            "grid_template_columns": null,
            "grid_template_rows": null,
            "height": null,
            "justify_content": null,
            "justify_items": null,
            "left": null,
            "margin": null,
            "max_height": null,
            "max_width": null,
            "min_height": null,
            "min_width": null,
            "object_fit": null,
            "object_position": null,
            "order": null,
            "overflow": null,
            "padding": null,
            "right": null,
            "top": null,
            "visibility": null,
            "width": null
          }
        },
        "6ca4277af3ba47f998e1f9be8ad4bf4e": {
          "model_module": "@jupyter-widgets/controls",
          "model_module_version": "1.5.0",
          "model_name": "HBoxModel",
          "state": {
            "_dom_classes": [],
            "_model_module": "@jupyter-widgets/controls",
            "_model_module_version": "1.5.0",
            "_model_name": "HBoxModel",
            "_view_count": null,
            "_view_module": "@jupyter-widgets/controls",
            "_view_module_version": "1.5.0",
            "_view_name": "HBoxView",
            "box_style": "",
            "children": [
              "IPY_MODEL_dfe9c3552ddd4d159ad19c116dee2ecc",
              "IPY_MODEL_cae11af944524e6a82df9fb30a029707",
              "IPY_MODEL_55826d83bbd547aabd3ffb3e9d2a9f24"
            ],
            "layout": "IPY_MODEL_b0ae7a54d13a4f9295a9ef14be8bbe45"
          }
        },
        "6e124a332eaa4115a3f1b503142afb70": {
          "model_module": "@jupyter-widgets/controls",
          "model_module_version": "1.5.0",
          "model_name": "HBoxModel",
          "state": {
            "_dom_classes": [],
            "_model_module": "@jupyter-widgets/controls",
            "_model_module_version": "1.5.0",
            "_model_name": "HBoxModel",
            "_view_count": null,
            "_view_module": "@jupyter-widgets/controls",
            "_view_module_version": "1.5.0",
            "_view_name": "HBoxView",
            "box_style": "",
            "children": [
              "IPY_MODEL_f26dd0b783ad4683b06fd21d888d827c",
              "IPY_MODEL_3e313e2f7ad343cc81f077d7aa94c0ab",
              "IPY_MODEL_39528c4032084a7cbf6f3f75a677a3fa"
            ],
            "layout": "IPY_MODEL_305a924953034675b944dc288a352a4c"
          }
        },
        "6fa64a7fbd194d4b88000944884394e4": {
          "model_module": "@jupyter-widgets/base",
          "model_module_version": "1.2.0",
          "model_name": "LayoutModel",
          "state": {
            "_model_module": "@jupyter-widgets/base",
            "_model_module_version": "1.2.0",
            "_model_name": "LayoutModel",
            "_view_count": null,
            "_view_module": "@jupyter-widgets/base",
            "_view_module_version": "1.2.0",
            "_view_name": "LayoutView",
            "align_content": null,
            "align_items": null,
            "align_self": null,
            "border": null,
            "bottom": null,
            "display": null,
            "flex": null,
            "flex_flow": null,
            "grid_area": null,
            "grid_auto_columns": null,
            "grid_auto_flow": null,
            "grid_auto_rows": null,
            "grid_column": null,
            "grid_gap": null,
            "grid_row": null,
            "grid_template_areas": null,
            "grid_template_columns": null,
            "grid_template_rows": null,
            "height": null,
            "justify_content": null,
            "justify_items": null,
            "left": null,
            "margin": null,
            "max_height": null,
            "max_width": null,
            "min_height": null,
            "min_width": null,
            "object_fit": null,
            "object_position": null,
            "order": null,
            "overflow": null,
            "overflow_x": null,
            "overflow_y": null,
            "padding": null,
            "right": null,
            "top": null,
            "visibility": null,
            "width": null
          }
        },
        "71fab5b22f954047abc2825082a2c575": {
          "model_module": "@jupyter-widgets/controls",
          "model_module_version": "1.5.0",
          "model_name": "DescriptionStyleModel",
          "state": {
            "_model_module": "@jupyter-widgets/controls",
            "_model_module_version": "1.5.0",
            "_model_name": "DescriptionStyleModel",
            "_view_count": null,
            "_view_module": "@jupyter-widgets/base",
            "_view_module_version": "1.2.0",
            "_view_name": "StyleView",
            "description_width": ""
          }
        },
        "72106e968ab54c6c93eb348c8461a038": {
          "model_module": "@jupyter-widgets/controls",
          "model_module_version": "1.5.0",
          "model_name": "ProgressStyleModel",
          "state": {
            "_model_module": "@jupyter-widgets/controls",
            "_model_module_version": "1.5.0",
            "_model_name": "ProgressStyleModel",
            "_view_count": null,
            "_view_module": "@jupyter-widgets/base",
            "_view_module_version": "1.2.0",
            "_view_name": "StyleView",
            "bar_color": null,
            "description_width": ""
          }
        },
        "724fb7bc854548c092fa55f47d8530a3": {
          "model_module": "@jupyter-widgets/controls",
          "model_module_version": "1.5.0",
          "model_name": "HTMLModel",
          "state": {
            "_dom_classes": [],
            "_model_module": "@jupyter-widgets/controls",
            "_model_module_version": "1.5.0",
            "_model_name": "HTMLModel",
            "_view_count": null,
            "_view_module": "@jupyter-widgets/controls",
            "_view_module_version": "1.5.0",
            "_view_name": "HTMLView",
            "description": "",
            "description_tooltip": null,
            "layout": "IPY_MODEL_2a3640b041e84a62906e92942c0e96d0",
            "placeholder": "​",
            "style": "IPY_MODEL_920cc36f760b4391b71dd9214132fb8d",
            "value": "Predicting DataLoader 0: 100%"
          }
        },
        "736dec0b71a24e709b212c5c5cd967bc": {
          "model_module": "@jupyter-widgets/base",
          "model_module_version": "1.2.0",
          "model_name": "LayoutModel",
          "state": {
            "_model_module": "@jupyter-widgets/base",
            "_model_module_version": "1.2.0",
            "_model_name": "LayoutModel",
            "_view_count": null,
            "_view_module": "@jupyter-widgets/base",
            "_view_module_version": "1.2.0",
            "_view_name": "LayoutView",
            "align_content": null,
            "align_items": null,
            "align_self": null,
            "border": null,
            "bottom": null,
            "display": null,
            "flex": null,
            "flex_flow": null,
            "grid_area": null,
            "grid_auto_columns": null,
            "grid_auto_flow": null,
            "grid_auto_rows": null,
            "grid_column": null,
            "grid_gap": null,
            "grid_row": null,
            "grid_template_areas": null,
            "grid_template_columns": null,
            "grid_template_rows": null,
            "height": null,
            "justify_content": null,
            "justify_items": null,
            "left": null,
            "margin": null,
            "max_height": null,
            "max_width": null,
            "min_height": null,
            "min_width": null,
            "object_fit": null,
            "object_position": null,
            "order": null,
            "overflow": null,
            "overflow_x": null,
            "overflow_y": null,
            "padding": null,
            "right": null,
            "top": null,
            "visibility": null,
            "width": null
          }
        },
        "737106afc0634510b179cb872e83066d": {
          "model_module": "@jupyter-widgets/controls",
          "model_module_version": "2.0.0",
          "model_name": "HTMLStyleModel",
          "state": {
            "_model_module": "@jupyter-widgets/controls",
            "_model_module_version": "2.0.0",
            "_model_name": "HTMLStyleModel",
            "_view_count": null,
            "_view_module": "@jupyter-widgets/base",
            "_view_module_version": "2.0.0",
            "_view_name": "StyleView",
            "background": null,
            "description_width": "",
            "font_size": null,
            "text_color": null
          }
        },
        "737a55ea756b46409ebac2fa5bb75262": {
          "model_module": "@jupyter-widgets/controls",
          "model_module_version": "1.5.0",
          "model_name": "DescriptionStyleModel",
          "state": {
            "_model_module": "@jupyter-widgets/controls",
            "_model_module_version": "1.5.0",
            "_model_name": "DescriptionStyleModel",
            "_view_count": null,
            "_view_module": "@jupyter-widgets/base",
            "_view_module_version": "1.2.0",
            "_view_name": "StyleView",
            "description_width": ""
          }
        },
        "78024cd6b8b44354a14bd260bfc2f4e9": {
          "model_module": "@jupyter-widgets/base",
          "model_module_version": "1.2.0",
          "model_name": "LayoutModel",
          "state": {
            "_model_module": "@jupyter-widgets/base",
            "_model_module_version": "1.2.0",
            "_model_name": "LayoutModel",
            "_view_count": null,
            "_view_module": "@jupyter-widgets/base",
            "_view_module_version": "1.2.0",
            "_view_name": "LayoutView",
            "align_content": null,
            "align_items": null,
            "align_self": null,
            "border": null,
            "bottom": null,
            "display": null,
            "flex": null,
            "flex_flow": null,
            "grid_area": null,
            "grid_auto_columns": null,
            "grid_auto_flow": null,
            "grid_auto_rows": null,
            "grid_column": null,
            "grid_gap": null,
            "grid_row": null,
            "grid_template_areas": null,
            "grid_template_columns": null,
            "grid_template_rows": null,
            "height": null,
            "justify_content": null,
            "justify_items": null,
            "left": null,
            "margin": null,
            "max_height": null,
            "max_width": null,
            "min_height": null,
            "min_width": null,
            "object_fit": null,
            "object_position": null,
            "order": null,
            "overflow": null,
            "overflow_x": null,
            "overflow_y": null,
            "padding": null,
            "right": null,
            "top": null,
            "visibility": null,
            "width": null
          }
        },
        "78454dd4891b47c48f2554473461f02a": {
          "model_module": "@jupyter-widgets/base",
          "model_module_version": "1.2.0",
          "model_name": "LayoutModel",
          "state": {
            "_model_module": "@jupyter-widgets/base",
            "_model_module_version": "1.2.0",
            "_model_name": "LayoutModel",
            "_view_count": null,
            "_view_module": "@jupyter-widgets/base",
            "_view_module_version": "1.2.0",
            "_view_name": "LayoutView",
            "align_content": null,
            "align_items": null,
            "align_self": null,
            "border": null,
            "bottom": null,
            "display": null,
            "flex": null,
            "flex_flow": null,
            "grid_area": null,
            "grid_auto_columns": null,
            "grid_auto_flow": null,
            "grid_auto_rows": null,
            "grid_column": null,
            "grid_gap": null,
            "grid_row": null,
            "grid_template_areas": null,
            "grid_template_columns": null,
            "grid_template_rows": null,
            "height": null,
            "justify_content": null,
            "justify_items": null,
            "left": null,
            "margin": null,
            "max_height": null,
            "max_width": null,
            "min_height": null,
            "min_width": null,
            "object_fit": null,
            "object_position": null,
            "order": null,
            "overflow": null,
            "overflow_x": null,
            "overflow_y": null,
            "padding": null,
            "right": null,
            "top": null,
            "visibility": null,
            "width": null
          }
        },
        "7916a39e9a3844a5a45e1ef2793e085d": {
          "model_module": "@jupyter-widgets/controls",
          "model_module_version": "1.5.0",
          "model_name": "ProgressStyleModel",
          "state": {
            "_model_module": "@jupyter-widgets/controls",
            "_model_module_version": "1.5.0",
            "_model_name": "ProgressStyleModel",
            "_view_count": null,
            "_view_module": "@jupyter-widgets/base",
            "_view_module_version": "1.2.0",
            "_view_name": "StyleView",
            "bar_color": null,
            "description_width": ""
          }
        },
        "7c203003c73f49c89a45034267458f6e": {
          "model_module": "@jupyter-widgets/controls",
          "model_module_version": "2.0.0",
          "model_name": "HBoxModel",
          "state": {
            "_dom_classes": [],
            "_model_module": "@jupyter-widgets/controls",
            "_model_module_version": "2.0.0",
            "_model_name": "HBoxModel",
            "_view_count": null,
            "_view_module": "@jupyter-widgets/controls",
            "_view_module_version": "2.0.0",
            "_view_name": "HBoxView",
            "box_style": "",
            "children": [
              "IPY_MODEL_d523396e429d46038e4ef88d0c66fbe3",
              "IPY_MODEL_bd2c6f33ae084e0383a103996708ee0f",
              "IPY_MODEL_60eedb6ad9e5478fba928e815a42bf19"
            ],
            "layout": "IPY_MODEL_c8f1509400c9472087d7a50ac20d339b",
            "tabbable": null,
            "tooltip": null
          }
        },
        "834530d046c141e485270b51a0dd995a": {
          "model_module": "@jupyter-widgets/controls",
          "model_module_version": "2.0.0",
          "model_name": "HTMLModel",
          "state": {
            "_dom_classes": [],
            "_model_module": "@jupyter-widgets/controls",
            "_model_module_version": "2.0.0",
            "_model_name": "HTMLModel",
            "_view_count": null,
            "_view_module": "@jupyter-widgets/controls",
            "_view_module_version": "2.0.0",
            "_view_name": "HTMLView",
            "description": "",
            "description_allow_html": false,
            "layout": "IPY_MODEL_6677f636abfb479ca445fd054ec38da4",
            "placeholder": "​",
            "style": "IPY_MODEL_366515faa3764eb788a73aedb2a286fc",
            "tabbable": null,
            "tooltip": null,
            "value": "Epoch 1000: 100%"
          }
        },
        "857740de67ba44a1823b9fca29f62868": {
          "model_module": "@jupyter-widgets/base",
          "model_module_version": "1.2.0",
          "model_name": "LayoutModel",
          "state": {
            "_model_module": "@jupyter-widgets/base",
            "_model_module_version": "1.2.0",
            "_model_name": "LayoutModel",
            "_view_count": null,
            "_view_module": "@jupyter-widgets/base",
            "_view_module_version": "1.2.0",
            "_view_name": "LayoutView",
            "align_content": null,
            "align_items": null,
            "align_self": null,
            "border": null,
            "bottom": null,
            "display": null,
            "flex": null,
            "flex_flow": null,
            "grid_area": null,
            "grid_auto_columns": null,
            "grid_auto_flow": null,
            "grid_auto_rows": null,
            "grid_column": null,
            "grid_gap": null,
            "grid_row": null,
            "grid_template_areas": null,
            "grid_template_columns": null,
            "grid_template_rows": null,
            "height": null,
            "justify_content": null,
            "justify_items": null,
            "left": null,
            "margin": null,
            "max_height": null,
            "max_width": null,
            "min_height": null,
            "min_width": null,
            "object_fit": null,
            "object_position": null,
            "order": null,
            "overflow": null,
            "overflow_x": null,
            "overflow_y": null,
            "padding": null,
            "right": null,
            "top": null,
            "visibility": null,
            "width": null
          }
        },
        "8699a1c2d57f4a4fa15b8db9dfa92919": {
          "model_module": "@jupyter-widgets/base",
          "model_module_version": "2.0.0",
          "model_name": "LayoutModel",
          "state": {
            "_model_module": "@jupyter-widgets/base",
            "_model_module_version": "2.0.0",
            "_model_name": "LayoutModel",
            "_view_count": null,
            "_view_module": "@jupyter-widgets/base",
            "_view_module_version": "2.0.0",
            "_view_name": "LayoutView",
            "align_content": null,
            "align_items": null,
            "align_self": null,
            "border_bottom": null,
            "border_left": null,
            "border_right": null,
            "border_top": null,
            "bottom": null,
            "display": "inline-flex",
            "flex": null,
            "flex_flow": "row wrap",
            "grid_area": null,
            "grid_auto_columns": null,
            "grid_auto_flow": null,
            "grid_auto_rows": null,
            "grid_column": null,
            "grid_gap": null,
            "grid_row": null,
            "grid_template_areas": null,
            "grid_template_columns": null,
            "grid_template_rows": null,
            "height": null,
            "justify_content": null,
            "justify_items": null,
            "left": null,
            "margin": null,
            "max_height": null,
            "max_width": null,
            "min_height": null,
            "min_width": null,
            "object_fit": null,
            "object_position": null,
            "order": null,
            "overflow": null,
            "padding": null,
            "right": null,
            "top": null,
            "visibility": null,
            "width": "100%"
          }
        },
        "8810b6b46a1042a19c59edafb5eae1e6": {
          "model_module": "@jupyter-widgets/base",
          "model_module_version": "1.2.0",
          "model_name": "LayoutModel",
          "state": {
            "_model_module": "@jupyter-widgets/base",
            "_model_module_version": "1.2.0",
            "_model_name": "LayoutModel",
            "_view_count": null,
            "_view_module": "@jupyter-widgets/base",
            "_view_module_version": "1.2.0",
            "_view_name": "LayoutView",
            "align_content": null,
            "align_items": null,
            "align_self": null,
            "border": null,
            "bottom": null,
            "display": null,
            "flex": "2",
            "flex_flow": null,
            "grid_area": null,
            "grid_auto_columns": null,
            "grid_auto_flow": null,
            "grid_auto_rows": null,
            "grid_column": null,
            "grid_gap": null,
            "grid_row": null,
            "grid_template_areas": null,
            "grid_template_columns": null,
            "grid_template_rows": null,
            "height": null,
            "justify_content": null,
            "justify_items": null,
            "left": null,
            "margin": null,
            "max_height": null,
            "max_width": null,
            "min_height": null,
            "min_width": null,
            "object_fit": null,
            "object_position": null,
            "order": null,
            "overflow": null,
            "overflow_x": null,
            "overflow_y": null,
            "padding": null,
            "right": null,
            "top": null,
            "visibility": null,
            "width": null
          }
        },
        "8ac014fa58014ab4a6cd992977159f77": {
          "model_module": "@jupyter-widgets/base",
          "model_module_version": "1.2.0",
          "model_name": "LayoutModel",
          "state": {
            "_model_module": "@jupyter-widgets/base",
            "_model_module_version": "1.2.0",
            "_model_name": "LayoutModel",
            "_view_count": null,
            "_view_module": "@jupyter-widgets/base",
            "_view_module_version": "1.2.0",
            "_view_name": "LayoutView",
            "align_content": null,
            "align_items": null,
            "align_self": null,
            "border": null,
            "bottom": null,
            "display": null,
            "flex": "2",
            "flex_flow": null,
            "grid_area": null,
            "grid_auto_columns": null,
            "grid_auto_flow": null,
            "grid_auto_rows": null,
            "grid_column": null,
            "grid_gap": null,
            "grid_row": null,
            "grid_template_areas": null,
            "grid_template_columns": null,
            "grid_template_rows": null,
            "height": null,
            "justify_content": null,
            "justify_items": null,
            "left": null,
            "margin": null,
            "max_height": null,
            "max_width": null,
            "min_height": null,
            "min_width": null,
            "object_fit": null,
            "object_position": null,
            "order": null,
            "overflow": null,
            "overflow_x": null,
            "overflow_y": null,
            "padding": null,
            "right": null,
            "top": null,
            "visibility": null,
            "width": null
          }
        },
        "8af7af2551234d39b403d4e62a13b891": {
          "model_module": "@jupyter-widgets/controls",
          "model_module_version": "2.0.0",
          "model_name": "HTMLModel",
          "state": {
            "_dom_classes": [],
            "_model_module": "@jupyter-widgets/controls",
            "_model_module_version": "2.0.0",
            "_model_name": "HTMLModel",
            "_view_count": null,
            "_view_module": "@jupyter-widgets/controls",
            "_view_module_version": "2.0.0",
            "_view_name": "HTMLView",
            "description": "",
            "description_allow_html": false,
            "layout": "IPY_MODEL_357ff566e885424bb168f4289293dfbd",
            "placeholder": "​",
            "style": "IPY_MODEL_65fed9575e4d406fb2717ae447c3528b",
            "tabbable": null,
            "tooltip": null,
            "value": " 1/1 [00:00&lt;00:00, 83.43it/s]"
          }
        },
        "8dba49f704b54dee9f7bcf458d25ce5e": {
          "model_module": "@jupyter-widgets/controls",
          "model_module_version": "2.0.0",
          "model_name": "ProgressStyleModel",
          "state": {
            "_model_module": "@jupyter-widgets/controls",
            "_model_module_version": "2.0.0",
            "_model_name": "ProgressStyleModel",
            "_view_count": null,
            "_view_module": "@jupyter-widgets/base",
            "_view_module_version": "2.0.0",
            "_view_name": "StyleView",
            "bar_color": null,
            "description_width": ""
          }
        },
        "8eeeb12552da442cb6b5905453d39af6": {
          "model_module": "@jupyter-widgets/controls",
          "model_module_version": "2.0.0",
          "model_name": "HTMLModel",
          "state": {
            "_dom_classes": [],
            "_model_module": "@jupyter-widgets/controls",
            "_model_module_version": "2.0.0",
            "_model_name": "HTMLModel",
            "_view_count": null,
            "_view_module": "@jupyter-widgets/controls",
            "_view_module_version": "2.0.0",
            "_view_name": "HTMLView",
            "description": "",
            "description_allow_html": false,
            "layout": "IPY_MODEL_9a3303a2cb64417cbc21ad1f315427e4",
            "placeholder": "​",
            "style": "IPY_MODEL_665652c16ee64a5385ecb3e03ae3b1d2",
            "tabbable": null,
            "tooltip": null,
            "value": " 202/202 [00:15&lt;00:00, 112.67it/s]"
          }
        },
        "900b8fc6a68f44f9822919aba514f728": {
          "model_module": "@jupyter-widgets/base",
          "model_module_version": "1.2.0",
          "model_name": "LayoutModel",
          "state": {
            "_model_module": "@jupyter-widgets/base",
            "_model_module_version": "1.2.0",
            "_model_name": "LayoutModel",
            "_view_count": null,
            "_view_module": "@jupyter-widgets/base",
            "_view_module_version": "1.2.0",
            "_view_name": "LayoutView",
            "align_content": null,
            "align_items": null,
            "align_self": null,
            "border": null,
            "bottom": null,
            "display": null,
            "flex": null,
            "flex_flow": null,
            "grid_area": null,
            "grid_auto_columns": null,
            "grid_auto_flow": null,
            "grid_auto_rows": null,
            "grid_column": null,
            "grid_gap": null,
            "grid_row": null,
            "grid_template_areas": null,
            "grid_template_columns": null,
            "grid_template_rows": null,
            "height": null,
            "justify_content": null,
            "justify_items": null,
            "left": null,
            "margin": null,
            "max_height": null,
            "max_width": null,
            "min_height": null,
            "min_width": null,
            "object_fit": null,
            "object_position": null,
            "order": null,
            "overflow": null,
            "overflow_x": null,
            "overflow_y": null,
            "padding": null,
            "right": null,
            "top": null,
            "visibility": null,
            "width": null
          }
        },
        "920cc36f760b4391b71dd9214132fb8d": {
          "model_module": "@jupyter-widgets/controls",
          "model_module_version": "1.5.0",
          "model_name": "DescriptionStyleModel",
          "state": {
            "_model_module": "@jupyter-widgets/controls",
            "_model_module_version": "1.5.0",
            "_model_name": "DescriptionStyleModel",
            "_view_count": null,
            "_view_module": "@jupyter-widgets/base",
            "_view_module_version": "1.2.0",
            "_view_name": "StyleView",
            "description_width": ""
          }
        },
        "94657b243e044b9c934f27bf791a4064": {
          "model_module": "@jupyter-widgets/base",
          "model_module_version": "2.0.0",
          "model_name": "LayoutModel",
          "state": {
            "_model_module": "@jupyter-widgets/base",
            "_model_module_version": "2.0.0",
            "_model_name": "LayoutModel",
            "_view_count": null,
            "_view_module": "@jupyter-widgets/base",
            "_view_module_version": "2.0.0",
            "_view_name": "LayoutView",
            "align_content": null,
            "align_items": null,
            "align_self": null,
            "border_bottom": null,
            "border_left": null,
            "border_right": null,
            "border_top": null,
            "bottom": null,
            "display": null,
            "flex": null,
            "flex_flow": null,
            "grid_area": null,
            "grid_auto_columns": null,
            "grid_auto_flow": null,
            "grid_auto_rows": null,
            "grid_column": null,
            "grid_gap": null,
            "grid_row": null,
            "grid_template_areas": null,
            "grid_template_columns": null,
            "grid_template_rows": null,
            "height": null,
            "justify_content": null,
            "justify_items": null,
            "left": null,
            "margin": null,
            "max_height": null,
            "max_width": null,
            "min_height": null,
            "min_width": null,
            "object_fit": null,
            "object_position": null,
            "order": null,
            "overflow": null,
            "padding": null,
            "right": null,
            "top": null,
            "visibility": null,
            "width": null
          }
        },
        "9a3303a2cb64417cbc21ad1f315427e4": {
          "model_module": "@jupyter-widgets/base",
          "model_module_version": "2.0.0",
          "model_name": "LayoutModel",
          "state": {
            "_model_module": "@jupyter-widgets/base",
            "_model_module_version": "2.0.0",
            "_model_name": "LayoutModel",
            "_view_count": null,
            "_view_module": "@jupyter-widgets/base",
            "_view_module_version": "2.0.0",
            "_view_name": "LayoutView",
            "align_content": null,
            "align_items": null,
            "align_self": null,
            "border_bottom": null,
            "border_left": null,
            "border_right": null,
            "border_top": null,
            "bottom": null,
            "display": null,
            "flex": null,
            "flex_flow": null,
            "grid_area": null,
            "grid_auto_columns": null,
            "grid_auto_flow": null,
            "grid_auto_rows": null,
            "grid_column": null,
            "grid_gap": null,
            "grid_row": null,
            "grid_template_areas": null,
            "grid_template_columns": null,
            "grid_template_rows": null,
            "height": null,
            "justify_content": null,
            "justify_items": null,
            "left": null,
            "margin": null,
            "max_height": null,
            "max_width": null,
            "min_height": null,
            "min_width": null,
            "object_fit": null,
            "object_position": null,
            "order": null,
            "overflow": null,
            "padding": null,
            "right": null,
            "top": null,
            "visibility": null,
            "width": null
          }
        },
        "9d6d43a193534d19a81a8af7ba332b26": {
          "model_module": "@jupyter-widgets/controls",
          "model_module_version": "1.5.0",
          "model_name": "DescriptionStyleModel",
          "state": {
            "_model_module": "@jupyter-widgets/controls",
            "_model_module_version": "1.5.0",
            "_model_name": "DescriptionStyleModel",
            "_view_count": null,
            "_view_module": "@jupyter-widgets/base",
            "_view_module_version": "1.2.0",
            "_view_name": "StyleView",
            "description_width": ""
          }
        },
        "9d7f4d7eb64648a29ba9a54feb640b5e": {
          "model_module": "@jupyter-widgets/controls",
          "model_module_version": "2.0.0",
          "model_name": "HTMLModel",
          "state": {
            "_dom_classes": [],
            "_model_module": "@jupyter-widgets/controls",
            "_model_module_version": "2.0.0",
            "_model_name": "HTMLModel",
            "_view_count": null,
            "_view_module": "@jupyter-widgets/controls",
            "_view_module_version": "2.0.0",
            "_view_name": "HTMLView",
            "description": "",
            "description_allow_html": false,
            "layout": "IPY_MODEL_367bcb0feb7d4f6aa1b1e623b16257a4",
            "placeholder": "​",
            "style": "IPY_MODEL_b93812937c0c471d9b7980ce90365325",
            "tabbable": null,
            "tooltip": null,
            "value": " 1/1 [00:00&lt;00:00, 78.98it/s]"
          }
        },
        "a33d74aedc534c7490c1f34d172be0d4": {
          "model_module": "@jupyter-widgets/controls",
          "model_module_version": "1.5.0",
          "model_name": "HTMLModel",
          "state": {
            "_dom_classes": [],
            "_model_module": "@jupyter-widgets/controls",
            "_model_module_version": "1.5.0",
            "_model_name": "HTMLModel",
            "_view_count": null,
            "_view_module": "@jupyter-widgets/controls",
            "_view_module_version": "1.5.0",
            "_view_name": "HTMLView",
            "description": "",
            "description_tooltip": null,
            "layout": "IPY_MODEL_051d468a34d24e208c0a5359d548237b",
            "placeholder": "​",
            "style": "IPY_MODEL_da4ba5f28eb7436797b773afaf2bebed",
            "value": " 206/206 [00:21&lt;00:00, 99.19it/s]"
          }
        },
        "a5f1b1bff9864de69f5c65da4d4dd9c1": {
          "model_module": "@jupyter-widgets/base",
          "model_module_version": "2.0.0",
          "model_name": "LayoutModel",
          "state": {
            "_model_module": "@jupyter-widgets/base",
            "_model_module_version": "2.0.0",
            "_model_name": "LayoutModel",
            "_view_count": null,
            "_view_module": "@jupyter-widgets/base",
            "_view_module_version": "2.0.0",
            "_view_name": "LayoutView",
            "align_content": null,
            "align_items": null,
            "align_self": null,
            "border_bottom": null,
            "border_left": null,
            "border_right": null,
            "border_top": null,
            "bottom": null,
            "display": null,
            "flex": "2",
            "flex_flow": null,
            "grid_area": null,
            "grid_auto_columns": null,
            "grid_auto_flow": null,
            "grid_auto_rows": null,
            "grid_column": null,
            "grid_gap": null,
            "grid_row": null,
            "grid_template_areas": null,
            "grid_template_columns": null,
            "grid_template_rows": null,
            "height": null,
            "justify_content": null,
            "justify_items": null,
            "left": null,
            "margin": null,
            "max_height": null,
            "max_width": null,
            "min_height": null,
            "min_width": null,
            "object_fit": null,
            "object_position": null,
            "order": null,
            "overflow": null,
            "padding": null,
            "right": null,
            "top": null,
            "visibility": null,
            "width": null
          }
        },
        "a717dec3193745b487fc5228ac1c0153": {
          "model_module": "@jupyter-widgets/base",
          "model_module_version": "2.0.0",
          "model_name": "LayoutModel",
          "state": {
            "_model_module": "@jupyter-widgets/base",
            "_model_module_version": "2.0.0",
            "_model_name": "LayoutModel",
            "_view_count": null,
            "_view_module": "@jupyter-widgets/base",
            "_view_module_version": "2.0.0",
            "_view_name": "LayoutView",
            "align_content": null,
            "align_items": null,
            "align_self": null,
            "border_bottom": null,
            "border_left": null,
            "border_right": null,
            "border_top": null,
            "bottom": null,
            "display": null,
            "flex": null,
            "flex_flow": null,
            "grid_area": null,
            "grid_auto_columns": null,
            "grid_auto_flow": null,
            "grid_auto_rows": null,
            "grid_column": null,
            "grid_gap": null,
            "grid_row": null,
            "grid_template_areas": null,
            "grid_template_columns": null,
            "grid_template_rows": null,
            "height": null,
            "justify_content": null,
            "justify_items": null,
            "left": null,
            "margin": null,
            "max_height": null,
            "max_width": null,
            "min_height": null,
            "min_width": null,
            "object_fit": null,
            "object_position": null,
            "order": null,
            "overflow": null,
            "padding": null,
            "right": null,
            "top": null,
            "visibility": null,
            "width": null
          }
        },
        "b0163868c28345acbf5b0d44abb25342": {
          "model_module": "@jupyter-widgets/base",
          "model_module_version": "1.2.0",
          "model_name": "LayoutModel",
          "state": {
            "_model_module": "@jupyter-widgets/base",
            "_model_module_version": "1.2.0",
            "_model_name": "LayoutModel",
            "_view_count": null,
            "_view_module": "@jupyter-widgets/base",
            "_view_module_version": "1.2.0",
            "_view_name": "LayoutView",
            "align_content": null,
            "align_items": null,
            "align_self": null,
            "border": null,
            "bottom": null,
            "display": null,
            "flex": "2",
            "flex_flow": null,
            "grid_area": null,
            "grid_auto_columns": null,
            "grid_auto_flow": null,
            "grid_auto_rows": null,
            "grid_column": null,
            "grid_gap": null,
            "grid_row": null,
            "grid_template_areas": null,
            "grid_template_columns": null,
            "grid_template_rows": null,
            "height": null,
            "justify_content": null,
            "justify_items": null,
            "left": null,
            "margin": null,
            "max_height": null,
            "max_width": null,
            "min_height": null,
            "min_width": null,
            "object_fit": null,
            "object_position": null,
            "order": null,
            "overflow": null,
            "overflow_x": null,
            "overflow_y": null,
            "padding": null,
            "right": null,
            "top": null,
            "visibility": null,
            "width": null
          }
        },
        "b0ae7a54d13a4f9295a9ef14be8bbe45": {
          "model_module": "@jupyter-widgets/base",
          "model_module_version": "1.2.0",
          "model_name": "LayoutModel",
          "state": {
            "_model_module": "@jupyter-widgets/base",
            "_model_module_version": "1.2.0",
            "_model_name": "LayoutModel",
            "_view_count": null,
            "_view_module": "@jupyter-widgets/base",
            "_view_module_version": "1.2.0",
            "_view_name": "LayoutView",
            "align_content": null,
            "align_items": null,
            "align_self": null,
            "border": null,
            "bottom": null,
            "display": "inline-flex",
            "flex": null,
            "flex_flow": "row wrap",
            "grid_area": null,
            "grid_auto_columns": null,
            "grid_auto_flow": null,
            "grid_auto_rows": null,
            "grid_column": null,
            "grid_gap": null,
            "grid_row": null,
            "grid_template_areas": null,
            "grid_template_columns": null,
            "grid_template_rows": null,
            "height": null,
            "justify_content": null,
            "justify_items": null,
            "left": null,
            "margin": null,
            "max_height": null,
            "max_width": null,
            "min_height": null,
            "min_width": null,
            "object_fit": null,
            "object_position": null,
            "order": null,
            "overflow": null,
            "overflow_x": null,
            "overflow_y": null,
            "padding": null,
            "right": null,
            "top": null,
            "visibility": null,
            "width": "100%"
          }
        },
        "b1c79f879f8a4deeaba2b47cc1db6f99": {
          "model_module": "@jupyter-widgets/controls",
          "model_module_version": "2.0.0",
          "model_name": "ProgressStyleModel",
          "state": {
            "_model_module": "@jupyter-widgets/controls",
            "_model_module_version": "2.0.0",
            "_model_name": "ProgressStyleModel",
            "_view_count": null,
            "_view_module": "@jupyter-widgets/base",
            "_view_module_version": "2.0.0",
            "_view_name": "StyleView",
            "bar_color": null,
            "description_width": ""
          }
        },
        "b624078184354bc0a7e4b9585a3ead93": {
          "model_module": "@jupyter-widgets/controls",
          "model_module_version": "1.5.0",
          "model_name": "FloatProgressModel",
          "state": {
            "_dom_classes": [],
            "_model_module": "@jupyter-widgets/controls",
            "_model_module_version": "1.5.0",
            "_model_name": "FloatProgressModel",
            "_view_count": null,
            "_view_module": "@jupyter-widgets/controls",
            "_view_module_version": "1.5.0",
            "_view_name": "ProgressView",
            "bar_style": "",
            "description": "",
            "description_tooltip": null,
            "layout": "IPY_MODEL_f4fb6e02adb4478785e9fcbf64602025",
            "max": 206,
            "min": 0,
            "orientation": "horizontal",
            "style": "IPY_MODEL_72106e968ab54c6c93eb348c8461a038",
            "value": 206
          }
        },
        "b93812937c0c471d9b7980ce90365325": {
          "model_module": "@jupyter-widgets/controls",
          "model_module_version": "2.0.0",
          "model_name": "HTMLStyleModel",
          "state": {
            "_model_module": "@jupyter-widgets/controls",
            "_model_module_version": "2.0.0",
            "_model_name": "HTMLStyleModel",
            "_view_count": null,
            "_view_module": "@jupyter-widgets/base",
            "_view_module_version": "2.0.0",
            "_view_name": "StyleView",
            "background": null,
            "description_width": "",
            "font_size": null,
            "text_color": null
          }
        },
        "bc25b415616149359a96262fd86a1ff8": {
          "model_module": "@jupyter-widgets/base",
          "model_module_version": "1.2.0",
          "model_name": "LayoutModel",
          "state": {
            "_model_module": "@jupyter-widgets/base",
            "_model_module_version": "1.2.0",
            "_model_name": "LayoutModel",
            "_view_count": null,
            "_view_module": "@jupyter-widgets/base",
            "_view_module_version": "1.2.0",
            "_view_name": "LayoutView",
            "align_content": null,
            "align_items": null,
            "align_self": null,
            "border": null,
            "bottom": null,
            "display": null,
            "flex": null,
            "flex_flow": null,
            "grid_area": null,
            "grid_auto_columns": null,
            "grid_auto_flow": null,
            "grid_auto_rows": null,
            "grid_column": null,
            "grid_gap": null,
            "grid_row": null,
            "grid_template_areas": null,
            "grid_template_columns": null,
            "grid_template_rows": null,
            "height": null,
            "justify_content": null,
            "justify_items": null,
            "left": null,
            "margin": null,
            "max_height": null,
            "max_width": null,
            "min_height": null,
            "min_width": null,
            "object_fit": null,
            "object_position": null,
            "order": null,
            "overflow": null,
            "overflow_x": null,
            "overflow_y": null,
            "padding": null,
            "right": null,
            "top": null,
            "visibility": null,
            "width": null
          }
        },
        "bd2c6f33ae084e0383a103996708ee0f": {
          "model_module": "@jupyter-widgets/controls",
          "model_module_version": "2.0.0",
          "model_name": "FloatProgressModel",
          "state": {
            "_dom_classes": [],
            "_model_module": "@jupyter-widgets/controls",
            "_model_module_version": "2.0.0",
            "_model_name": "FloatProgressModel",
            "_view_count": null,
            "_view_module": "@jupyter-widgets/controls",
            "_view_module_version": "2.0.0",
            "_view_name": "ProgressView",
            "bar_style": "success",
            "description": "",
            "description_allow_html": false,
            "layout": "IPY_MODEL_58b41d7facf04c1cb410d17a7d2866b9",
            "max": 205,
            "min": 0,
            "orientation": "horizontal",
            "style": "IPY_MODEL_f10e89a325f34e8db8207a244bdc951d",
            "tabbable": null,
            "tooltip": null,
            "value": 205
          }
        },
        "bd4f43ff15f6495bbff2b8ff617a34da": {
          "model_module": "@jupyter-widgets/controls",
          "model_module_version": "1.5.0",
          "model_name": "DescriptionStyleModel",
          "state": {
            "_model_module": "@jupyter-widgets/controls",
            "_model_module_version": "1.5.0",
            "_model_name": "DescriptionStyleModel",
            "_view_count": null,
            "_view_module": "@jupyter-widgets/base",
            "_view_module_version": "1.2.0",
            "_view_name": "StyleView",
            "description_width": ""
          }
        },
        "c11c9068bf7043afaefef49da66d0bbd": {
          "model_module": "@jupyter-widgets/controls",
          "model_module_version": "1.5.0",
          "model_name": "FloatProgressModel",
          "state": {
            "_dom_classes": [],
            "_model_module": "@jupyter-widgets/controls",
            "_model_module_version": "1.5.0",
            "_model_name": "FloatProgressModel",
            "_view_count": null,
            "_view_module": "@jupyter-widgets/controls",
            "_view_module_version": "1.5.0",
            "_view_name": "ProgressView",
            "bar_style": "success",
            "description": "",
            "description_tooltip": null,
            "layout": "IPY_MODEL_bc25b415616149359a96262fd86a1ff8",
            "max": 202,
            "min": 0,
            "orientation": "horizontal",
            "style": "IPY_MODEL_7916a39e9a3844a5a45e1ef2793e085d",
            "value": 202
          }
        },
        "c43ce6959abb405dbc96a259a7234041": {
          "model_module": "@jupyter-widgets/base",
          "model_module_version": "2.0.0",
          "model_name": "LayoutModel",
          "state": {
            "_model_module": "@jupyter-widgets/base",
            "_model_module_version": "2.0.0",
            "_model_name": "LayoutModel",
            "_view_count": null,
            "_view_module": "@jupyter-widgets/base",
            "_view_module_version": "2.0.0",
            "_view_name": "LayoutView",
            "align_content": null,
            "align_items": null,
            "align_self": null,
            "border_bottom": null,
            "border_left": null,
            "border_right": null,
            "border_top": null,
            "bottom": null,
            "display": "inline-flex",
            "flex": null,
            "flex_flow": "row wrap",
            "grid_area": null,
            "grid_auto_columns": null,
            "grid_auto_flow": null,
            "grid_auto_rows": null,
            "grid_column": null,
            "grid_gap": null,
            "grid_row": null,
            "grid_template_areas": null,
            "grid_template_columns": null,
            "grid_template_rows": null,
            "height": null,
            "justify_content": null,
            "justify_items": null,
            "left": null,
            "margin": null,
            "max_height": null,
            "max_width": null,
            "min_height": null,
            "min_width": null,
            "object_fit": null,
            "object_position": null,
            "order": null,
            "overflow": null,
            "padding": null,
            "right": null,
            "top": null,
            "visibility": null,
            "width": "100%"
          }
        },
        "c4a2c606e67b4dd2a590328f194a9415": {
          "model_module": "@jupyter-widgets/controls",
          "model_module_version": "2.0.0",
          "model_name": "FloatProgressModel",
          "state": {
            "_dom_classes": [],
            "_model_module": "@jupyter-widgets/controls",
            "_model_module_version": "2.0.0",
            "_model_name": "FloatProgressModel",
            "_view_count": null,
            "_view_module": "@jupyter-widgets/controls",
            "_view_module_version": "2.0.0",
            "_view_name": "ProgressView",
            "bar_style": "success",
            "description": "",
            "description_allow_html": false,
            "layout": "IPY_MODEL_48b618edf93a4030b67e2aff1bbd3002",
            "max": 1000,
            "min": 0,
            "orientation": "horizontal",
            "style": "IPY_MODEL_1e6be083b1f24514a9f64e4c288e59a3",
            "tabbable": null,
            "tooltip": null,
            "value": 1000
          }
        },
        "c5e50416af9e40988866c43cd30f8b5b": {
          "model_module": "@jupyter-widgets/controls",
          "model_module_version": "2.0.0",
          "model_name": "HBoxModel",
          "state": {
            "_dom_classes": [],
            "_model_module": "@jupyter-widgets/controls",
            "_model_module_version": "2.0.0",
            "_model_name": "HBoxModel",
            "_view_count": null,
            "_view_module": "@jupyter-widgets/controls",
            "_view_module_version": "2.0.0",
            "_view_name": "HBoxView",
            "box_style": "",
            "children": [
              "IPY_MODEL_c696d89b2a6f45649dcf4bb49154f566",
              "IPY_MODEL_6511b6a242b245a2b2c0d32afbd940b8",
              "IPY_MODEL_628620421c414d9db59d60f31957b963"
            ],
            "layout": "IPY_MODEL_8699a1c2d57f4a4fa15b8db9dfa92919",
            "tabbable": null,
            "tooltip": null
          }
        },
        "c696d89b2a6f45649dcf4bb49154f566": {
          "model_module": "@jupyter-widgets/controls",
          "model_module_version": "2.0.0",
          "model_name": "HTMLModel",
          "state": {
            "_dom_classes": [],
            "_model_module": "@jupyter-widgets/controls",
            "_model_module_version": "2.0.0",
            "_model_name": "HTMLModel",
            "_view_count": null,
            "_view_module": "@jupyter-widgets/controls",
            "_view_module_version": "2.0.0",
            "_view_name": "HTMLView",
            "description": "",
            "description_allow_html": false,
            "layout": "IPY_MODEL_6af5a11f2d3d464ebb88dd3ddbbab30a",
            "placeholder": "​",
            "style": "IPY_MODEL_3c34fc62308a4cc0b27a469bf78eae16",
            "tabbable": null,
            "tooltip": null,
            "value": "Epoch 1000: 100%"
          }
        },
        "c8d92778bcfe40c4846e57745d3a43f0": {
          "model_module": "@jupyter-widgets/controls",
          "model_module_version": "2.0.0",
          "model_name": "HTMLStyleModel",
          "state": {
            "_model_module": "@jupyter-widgets/controls",
            "_model_module_version": "2.0.0",
            "_model_name": "HTMLStyleModel",
            "_view_count": null,
            "_view_module": "@jupyter-widgets/base",
            "_view_module_version": "2.0.0",
            "_view_name": "StyleView",
            "background": null,
            "description_width": "",
            "font_size": null,
            "text_color": null
          }
        },
        "c8f1509400c9472087d7a50ac20d339b": {
          "model_module": "@jupyter-widgets/base",
          "model_module_version": "2.0.0",
          "model_name": "LayoutModel",
          "state": {
            "_model_module": "@jupyter-widgets/base",
            "_model_module_version": "2.0.0",
            "_model_name": "LayoutModel",
            "_view_count": null,
            "_view_module": "@jupyter-widgets/base",
            "_view_module_version": "2.0.0",
            "_view_name": "LayoutView",
            "align_content": null,
            "align_items": null,
            "align_self": null,
            "border_bottom": null,
            "border_left": null,
            "border_right": null,
            "border_top": null,
            "bottom": null,
            "display": null,
            "flex": null,
            "flex_flow": null,
            "grid_area": null,
            "grid_auto_columns": null,
            "grid_auto_flow": null,
            "grid_auto_rows": null,
            "grid_column": null,
            "grid_gap": null,
            "grid_row": null,
            "grid_template_areas": null,
            "grid_template_columns": null,
            "grid_template_rows": null,
            "height": null,
            "justify_content": null,
            "justify_items": null,
            "left": null,
            "margin": null,
            "max_height": null,
            "max_width": null,
            "min_height": null,
            "min_width": null,
            "object_fit": null,
            "object_position": null,
            "order": null,
            "overflow": null,
            "padding": null,
            "right": null,
            "top": null,
            "visibility": null,
            "width": null
          }
        },
        "cae11af944524e6a82df9fb30a029707": {
          "model_module": "@jupyter-widgets/controls",
          "model_module_version": "1.5.0",
          "model_name": "FloatProgressModel",
          "state": {
            "_dom_classes": [],
            "_model_module": "@jupyter-widgets/controls",
            "_model_module_version": "1.5.0",
            "_model_name": "FloatProgressModel",
            "_view_count": null,
            "_view_module": "@jupyter-widgets/controls",
            "_view_module_version": "1.5.0",
            "_view_name": "ProgressView",
            "bar_style": "success",
            "description": "",
            "description_tooltip": null,
            "layout": "IPY_MODEL_fd15869a35404eef8e43d9765543bbe8",
            "max": 1,
            "min": 0,
            "orientation": "horizontal",
            "style": "IPY_MODEL_6b6d8570b1f54a5c8ca75f9f535d1781",
            "value": 1
          }
        },
        "d0ca970cc7bd462ba64b913c232e8036": {
          "model_module": "@jupyter-widgets/base",
          "model_module_version": "1.2.0",
          "model_name": "LayoutModel",
          "state": {
            "_model_module": "@jupyter-widgets/base",
            "_model_module_version": "1.2.0",
            "_model_name": "LayoutModel",
            "_view_count": null,
            "_view_module": "@jupyter-widgets/base",
            "_view_module_version": "1.2.0",
            "_view_name": "LayoutView",
            "align_content": null,
            "align_items": null,
            "align_self": null,
            "border": null,
            "bottom": null,
            "display": null,
            "flex": null,
            "flex_flow": null,
            "grid_area": null,
            "grid_auto_columns": null,
            "grid_auto_flow": null,
            "grid_auto_rows": null,
            "grid_column": null,
            "grid_gap": null,
            "grid_row": null,
            "grid_template_areas": null,
            "grid_template_columns": null,
            "grid_template_rows": null,
            "height": null,
            "justify_content": null,
            "justify_items": null,
            "left": null,
            "margin": null,
            "max_height": null,
            "max_width": null,
            "min_height": null,
            "min_width": null,
            "object_fit": null,
            "object_position": null,
            "order": null,
            "overflow": null,
            "overflow_x": null,
            "overflow_y": null,
            "padding": null,
            "right": null,
            "top": null,
            "visibility": null,
            "width": null
          }
        },
        "d12e489224364dbd80054f376da64419": {
          "model_module": "@jupyter-widgets/base",
          "model_module_version": "2.0.0",
          "model_name": "LayoutModel",
          "state": {
            "_model_module": "@jupyter-widgets/base",
            "_model_module_version": "2.0.0",
            "_model_name": "LayoutModel",
            "_view_count": null,
            "_view_module": "@jupyter-widgets/base",
            "_view_module_version": "2.0.0",
            "_view_name": "LayoutView",
            "align_content": null,
            "align_items": null,
            "align_self": null,
            "border_bottom": null,
            "border_left": null,
            "border_right": null,
            "border_top": null,
            "bottom": null,
            "display": "inline-flex",
            "flex": null,
            "flex_flow": "row wrap",
            "grid_area": null,
            "grid_auto_columns": null,
            "grid_auto_flow": null,
            "grid_auto_rows": null,
            "grid_column": null,
            "grid_gap": null,
            "grid_row": null,
            "grid_template_areas": null,
            "grid_template_columns": null,
            "grid_template_rows": null,
            "height": null,
            "justify_content": null,
            "justify_items": null,
            "left": null,
            "margin": null,
            "max_height": null,
            "max_width": null,
            "min_height": null,
            "min_width": null,
            "object_fit": null,
            "object_position": null,
            "order": null,
            "overflow": null,
            "padding": null,
            "right": null,
            "top": null,
            "visibility": null,
            "width": "100%"
          }
        },
        "d523396e429d46038e4ef88d0c66fbe3": {
          "model_module": "@jupyter-widgets/controls",
          "model_module_version": "2.0.0",
          "model_name": "HTMLModel",
          "state": {
            "_dom_classes": [],
            "_model_module": "@jupyter-widgets/controls",
            "_model_module_version": "2.0.0",
            "_model_name": "HTMLModel",
            "_view_count": null,
            "_view_module": "@jupyter-widgets/controls",
            "_view_module_version": "2.0.0",
            "_view_name": "HTMLView",
            "description": "",
            "description_allow_html": false,
            "layout": "IPY_MODEL_ee48d69bff0d4db09b23727fd42e360f",
            "placeholder": "​",
            "style": "IPY_MODEL_5b8254562b644192a5fc1866e14b9bd7",
            "tabbable": null,
            "tooltip": null,
            "value": "Finding best initial lr: 100%"
          }
        },
        "da2a28742dd840368ceb6f5434e904e6": {
          "model_module": "@jupyter-widgets/controls",
          "model_module_version": "2.0.0",
          "model_name": "HBoxModel",
          "state": {
            "_dom_classes": [],
            "_model_module": "@jupyter-widgets/controls",
            "_model_module_version": "2.0.0",
            "_model_name": "HBoxModel",
            "_view_count": null,
            "_view_module": "@jupyter-widgets/controls",
            "_view_module_version": "2.0.0",
            "_view_name": "HBoxView",
            "box_style": "",
            "children": [
              "IPY_MODEL_f4256987556144cb85619bea44de0694",
              "IPY_MODEL_6b04cd6143c5442dae29b4c413303628",
              "IPY_MODEL_9d7f4d7eb64648a29ba9a54feb640b5e"
            ],
            "layout": "IPY_MODEL_d12e489224364dbd80054f376da64419",
            "tabbable": null,
            "tooltip": null
          }
        },
        "da4ba5f28eb7436797b773afaf2bebed": {
          "model_module": "@jupyter-widgets/controls",
          "model_module_version": "1.5.0",
          "model_name": "DescriptionStyleModel",
          "state": {
            "_model_module": "@jupyter-widgets/controls",
            "_model_module_version": "1.5.0",
            "_model_name": "DescriptionStyleModel",
            "_view_count": null,
            "_view_module": "@jupyter-widgets/base",
            "_view_module_version": "1.2.0",
            "_view_name": "StyleView",
            "description_width": ""
          }
        },
        "dabe748ad8c94f06a37b70db7380f395": {
          "model_module": "@jupyter-widgets/controls",
          "model_module_version": "2.0.0",
          "model_name": "HTMLModel",
          "state": {
            "_dom_classes": [],
            "_model_module": "@jupyter-widgets/controls",
            "_model_module_version": "2.0.0",
            "_model_name": "HTMLModel",
            "_view_count": null,
            "_view_module": "@jupyter-widgets/controls",
            "_view_module_version": "2.0.0",
            "_view_name": "HTMLView",
            "description": "",
            "description_allow_html": false,
            "layout": "IPY_MODEL_e4ed8a2bcb254b56a19fce2309d30da8",
            "placeholder": "​",
            "style": "IPY_MODEL_e8fa61b1f7e0418e9c1d18a0b378ef6c",
            "tabbable": null,
            "tooltip": null,
            "value": " 1000/1000 [00:00&lt;00:00, 35894.46it/s, loss=0.0642, v_num=59, MAE=4.08e+4, RMSE=5.55e+4, Loss=0.0642, RegLoss=0.000]"
          }
        },
        "defc9cfa8a9d47059e830a8eaebd4004": {
          "model_module": "@jupyter-widgets/controls",
          "model_module_version": "1.5.0",
          "model_name": "DescriptionStyleModel",
          "state": {
            "_model_module": "@jupyter-widgets/controls",
            "_model_module_version": "1.5.0",
            "_model_name": "DescriptionStyleModel",
            "_view_count": null,
            "_view_module": "@jupyter-widgets/base",
            "_view_module_version": "1.2.0",
            "_view_name": "StyleView",
            "description_width": ""
          }
        },
        "dfe9c3552ddd4d159ad19c116dee2ecc": {
          "model_module": "@jupyter-widgets/controls",
          "model_module_version": "1.5.0",
          "model_name": "HTMLModel",
          "state": {
            "_dom_classes": [],
            "_model_module": "@jupyter-widgets/controls",
            "_model_module_version": "1.5.0",
            "_model_name": "HTMLModel",
            "_view_count": null,
            "_view_module": "@jupyter-widgets/controls",
            "_view_module_version": "1.5.0",
            "_view_name": "HTMLView",
            "description": "",
            "description_tooltip": null,
            "layout": "IPY_MODEL_6fa64a7fbd194d4b88000944884394e4",
            "placeholder": "​",
            "style": "IPY_MODEL_ef773b9bba174f9f9214eb99cd9968d0",
            "value": "Predicting DataLoader 0: 100%"
          }
        },
        "e11d999feabe44f58022b5ce7446d62c": {
          "model_module": "@jupyter-widgets/controls",
          "model_module_version": "1.5.0",
          "model_name": "HTMLModel",
          "state": {
            "_dom_classes": [],
            "_model_module": "@jupyter-widgets/controls",
            "_model_module_version": "1.5.0",
            "_model_name": "HTMLModel",
            "_view_count": null,
            "_view_module": "@jupyter-widgets/controls",
            "_view_module_version": "1.5.0",
            "_view_name": "HTMLView",
            "description": "",
            "description_tooltip": null,
            "layout": "IPY_MODEL_736dec0b71a24e709b212c5c5cd967bc",
            "placeholder": "​",
            "style": "IPY_MODEL_bd4f43ff15f6495bbff2b8ff617a34da",
            "value": "Epoch 733: 100%"
          }
        },
        "e137568f694a4e718c6a0ef1df400d62": {
          "model_module": "@jupyter-widgets/controls",
          "model_module_version": "2.0.0",
          "model_name": "HBoxModel",
          "state": {
            "_dom_classes": [],
            "_model_module": "@jupyter-widgets/controls",
            "_model_module_version": "2.0.0",
            "_model_name": "HBoxModel",
            "_view_count": null,
            "_view_module": "@jupyter-widgets/controls",
            "_view_module_version": "2.0.0",
            "_view_name": "HBoxView",
            "box_style": "",
            "children": [
              "IPY_MODEL_103a806db17e45868b75c99f98754d9a",
              "IPY_MODEL_581ffe7cc6a74b8b8b61498d905579db",
              "IPY_MODEL_8af7af2551234d39b403d4e62a13b891"
            ],
            "layout": "IPY_MODEL_c43ce6959abb405dbc96a259a7234041",
            "tabbable": null,
            "tooltip": null
          }
        },
        "e2c8e8be923847e09651c442edf040f4": {
          "model_module": "@jupyter-widgets/controls",
          "model_module_version": "2.0.0",
          "model_name": "HBoxModel",
          "state": {
            "_dom_classes": [],
            "_model_module": "@jupyter-widgets/controls",
            "_model_module_version": "2.0.0",
            "_model_name": "HBoxModel",
            "_view_count": null,
            "_view_module": "@jupyter-widgets/controls",
            "_view_module_version": "2.0.0",
            "_view_name": "HBoxView",
            "box_style": "",
            "children": [
              "IPY_MODEL_2a05dfa187a24a05a9060fdcab8ff4d0",
              "IPY_MODEL_39fe338700954be58ae3c840baff04a4",
              "IPY_MODEL_8eeeb12552da442cb6b5905453d39af6"
            ],
            "layout": "IPY_MODEL_0ee604a2c3dc49a39ba974ecaba18ce8",
            "tabbable": null,
            "tooltip": null
          }
        },
        "e496679bc2e74f798213ab291beb90ab": {
          "model_module": "@jupyter-widgets/controls",
          "model_module_version": "2.0.0",
          "model_name": "HTMLStyleModel",
          "state": {
            "_model_module": "@jupyter-widgets/controls",
            "_model_module_version": "2.0.0",
            "_model_name": "HTMLStyleModel",
            "_view_count": null,
            "_view_module": "@jupyter-widgets/base",
            "_view_module_version": "2.0.0",
            "_view_name": "StyleView",
            "background": null,
            "description_width": "",
            "font_size": null,
            "text_color": null
          }
        },
        "e4ed8a2bcb254b56a19fce2309d30da8": {
          "model_module": "@jupyter-widgets/base",
          "model_module_version": "2.0.0",
          "model_name": "LayoutModel",
          "state": {
            "_model_module": "@jupyter-widgets/base",
            "_model_module_version": "2.0.0",
            "_model_name": "LayoutModel",
            "_view_count": null,
            "_view_module": "@jupyter-widgets/base",
            "_view_module_version": "2.0.0",
            "_view_name": "LayoutView",
            "align_content": null,
            "align_items": null,
            "align_self": null,
            "border_bottom": null,
            "border_left": null,
            "border_right": null,
            "border_top": null,
            "bottom": null,
            "display": null,
            "flex": null,
            "flex_flow": null,
            "grid_area": null,
            "grid_auto_columns": null,
            "grid_auto_flow": null,
            "grid_auto_rows": null,
            "grid_column": null,
            "grid_gap": null,
            "grid_row": null,
            "grid_template_areas": null,
            "grid_template_columns": null,
            "grid_template_rows": null,
            "height": null,
            "justify_content": null,
            "justify_items": null,
            "left": null,
            "margin": null,
            "max_height": null,
            "max_width": null,
            "min_height": null,
            "min_width": null,
            "object_fit": null,
            "object_position": null,
            "order": null,
            "overflow": null,
            "padding": null,
            "right": null,
            "top": null,
            "visibility": null,
            "width": null
          }
        },
        "e6b4e687ef964ea9afa61ef1f4cf784a": {
          "model_module": "@jupyter-widgets/controls",
          "model_module_version": "2.0.0",
          "model_name": "HBoxModel",
          "state": {
            "_dom_classes": [],
            "_model_module": "@jupyter-widgets/controls",
            "_model_module_version": "2.0.0",
            "_model_name": "HBoxModel",
            "_view_count": null,
            "_view_module": "@jupyter-widgets/controls",
            "_view_module_version": "2.0.0",
            "_view_name": "HBoxView",
            "box_style": "",
            "children": [
              "IPY_MODEL_834530d046c141e485270b51a0dd995a",
              "IPY_MODEL_c4a2c606e67b4dd2a590328f194a9415",
              "IPY_MODEL_dabe748ad8c94f06a37b70db7380f395"
            ],
            "layout": "IPY_MODEL_6769458e5e7a4b42ba5c0ce6d04e8502",
            "tabbable": null,
            "tooltip": null
          }
        },
        "e8fa61b1f7e0418e9c1d18a0b378ef6c": {
          "model_module": "@jupyter-widgets/controls",
          "model_module_version": "2.0.0",
          "model_name": "HTMLStyleModel",
          "state": {
            "_model_module": "@jupyter-widgets/controls",
            "_model_module_version": "2.0.0",
            "_model_name": "HTMLStyleModel",
            "_view_count": null,
            "_view_module": "@jupyter-widgets/base",
            "_view_module_version": "2.0.0",
            "_view_name": "StyleView",
            "background": null,
            "description_width": "",
            "font_size": null,
            "text_color": null
          }
        },
        "e9fe475ab44f476caa2d9ece41181015": {
          "model_module": "@jupyter-widgets/controls",
          "model_module_version": "1.5.0",
          "model_name": "HTMLModel",
          "state": {
            "_dom_classes": [],
            "_model_module": "@jupyter-widgets/controls",
            "_model_module_version": "1.5.0",
            "_model_name": "HTMLModel",
            "_view_count": null,
            "_view_module": "@jupyter-widgets/controls",
            "_view_module_version": "1.5.0",
            "_view_name": "HTMLView",
            "description": "",
            "description_tooltip": null,
            "layout": "IPY_MODEL_1d3cf87c79cc43db964f4ca6f3c47bf6",
            "placeholder": "​",
            "style": "IPY_MODEL_9d6d43a193534d19a81a8af7ba332b26",
            "value": "Finding best initial lr: 100%"
          }
        },
        "ec62736e5f464ddd83c48e622c7649d8": {
          "model_module": "@jupyter-widgets/controls",
          "model_module_version": "1.5.0",
          "model_name": "FloatProgressModel",
          "state": {
            "_dom_classes": [],
            "_model_module": "@jupyter-widgets/controls",
            "_model_module_version": "1.5.0",
            "_model_name": "FloatProgressModel",
            "_view_count": null,
            "_view_module": "@jupyter-widgets/controls",
            "_view_module_version": "1.5.0",
            "_view_name": "ProgressView",
            "bar_style": "success",
            "description": "",
            "description_tooltip": null,
            "layout": "IPY_MODEL_8ac014fa58014ab4a6cd992977159f77",
            "max": 1,
            "min": 0,
            "orientation": "horizontal",
            "style": "IPY_MODEL_6248f75760e745b78dfb1d9c7371b262",
            "value": 1
          }
        },
        "ee48d69bff0d4db09b23727fd42e360f": {
          "model_module": "@jupyter-widgets/base",
          "model_module_version": "2.0.0",
          "model_name": "LayoutModel",
          "state": {
            "_model_module": "@jupyter-widgets/base",
            "_model_module_version": "2.0.0",
            "_model_name": "LayoutModel",
            "_view_count": null,
            "_view_module": "@jupyter-widgets/base",
            "_view_module_version": "2.0.0",
            "_view_name": "LayoutView",
            "align_content": null,
            "align_items": null,
            "align_self": null,
            "border_bottom": null,
            "border_left": null,
            "border_right": null,
            "border_top": null,
            "bottom": null,
            "display": null,
            "flex": null,
            "flex_flow": null,
            "grid_area": null,
            "grid_auto_columns": null,
            "grid_auto_flow": null,
            "grid_auto_rows": null,
            "grid_column": null,
            "grid_gap": null,
            "grid_row": null,
            "grid_template_areas": null,
            "grid_template_columns": null,
            "grid_template_rows": null,
            "height": null,
            "justify_content": null,
            "justify_items": null,
            "left": null,
            "margin": null,
            "max_height": null,
            "max_width": null,
            "min_height": null,
            "min_width": null,
            "object_fit": null,
            "object_position": null,
            "order": null,
            "overflow": null,
            "padding": null,
            "right": null,
            "top": null,
            "visibility": null,
            "width": null
          }
        },
        "ef773b9bba174f9f9214eb99cd9968d0": {
          "model_module": "@jupyter-widgets/controls",
          "model_module_version": "1.5.0",
          "model_name": "DescriptionStyleModel",
          "state": {
            "_model_module": "@jupyter-widgets/controls",
            "_model_module_version": "1.5.0",
            "_model_name": "DescriptionStyleModel",
            "_view_count": null,
            "_view_module": "@jupyter-widgets/base",
            "_view_module_version": "1.2.0",
            "_view_name": "StyleView",
            "description_width": ""
          }
        },
        "f0a82cf0db16403b97978fb1f9aa44cc": {
          "model_module": "@jupyter-widgets/controls",
          "model_module_version": "1.5.0",
          "model_name": "DescriptionStyleModel",
          "state": {
            "_model_module": "@jupyter-widgets/controls",
            "_model_module_version": "1.5.0",
            "_model_name": "DescriptionStyleModel",
            "_view_count": null,
            "_view_module": "@jupyter-widgets/base",
            "_view_module_version": "1.2.0",
            "_view_name": "StyleView",
            "description_width": ""
          }
        },
        "f10e89a325f34e8db8207a244bdc951d": {
          "model_module": "@jupyter-widgets/controls",
          "model_module_version": "2.0.0",
          "model_name": "ProgressStyleModel",
          "state": {
            "_model_module": "@jupyter-widgets/controls",
            "_model_module_version": "2.0.0",
            "_model_name": "ProgressStyleModel",
            "_view_count": null,
            "_view_module": "@jupyter-widgets/base",
            "_view_module_version": "2.0.0",
            "_view_name": "StyleView",
            "bar_color": null,
            "description_width": ""
          }
        },
        "f2076d717a904ccc8e8a3d8965484b4f": {
          "model_module": "@jupyter-widgets/controls",
          "model_module_version": "1.5.0",
          "model_name": "HTMLModel",
          "state": {
            "_dom_classes": [],
            "_model_module": "@jupyter-widgets/controls",
            "_model_module_version": "1.5.0",
            "_model_name": "HTMLModel",
            "_view_count": null,
            "_view_module": "@jupyter-widgets/controls",
            "_view_module_version": "1.5.0",
            "_view_name": "HTMLView",
            "description": "",
            "description_tooltip": null,
            "layout": "IPY_MODEL_17f0b44b09a44a3e8ff1565a68ee1062",
            "placeholder": "​",
            "style": "IPY_MODEL_71fab5b22f954047abc2825082a2c575",
            "value": " 202/202 [00:20&lt;00:00, 27.87it/s]"
          }
        },
        "f23687a7cd614e0c9aebaf3b4fae2f7f": {
          "model_module": "@jupyter-widgets/controls",
          "model_module_version": "1.5.0",
          "model_name": "DescriptionStyleModel",
          "state": {
            "_model_module": "@jupyter-widgets/controls",
            "_model_module_version": "1.5.0",
            "_model_name": "DescriptionStyleModel",
            "_view_count": null,
            "_view_module": "@jupyter-widgets/base",
            "_view_module_version": "1.2.0",
            "_view_name": "StyleView",
            "description_width": ""
          }
        },
        "f26dd0b783ad4683b06fd21d888d827c": {
          "model_module": "@jupyter-widgets/controls",
          "model_module_version": "1.5.0",
          "model_name": "HTMLModel",
          "state": {
            "_dom_classes": [],
            "_model_module": "@jupyter-widgets/controls",
            "_model_module_version": "1.5.0",
            "_model_name": "HTMLModel",
            "_view_count": null,
            "_view_module": "@jupyter-widgets/controls",
            "_view_module_version": "1.5.0",
            "_view_name": "HTMLView",
            "description": "",
            "description_tooltip": null,
            "layout": "IPY_MODEL_78024cd6b8b44354a14bd260bfc2f4e9",
            "placeholder": "​",
            "style": "IPY_MODEL_defc9cfa8a9d47059e830a8eaebd4004",
            "value": "Epoch 1000: 100%"
          }
        },
        "f2eb963adc364e4fbcd441fec394f623": {
          "model_module": "@jupyter-widgets/controls",
          "model_module_version": "1.5.0",
          "model_name": "HBoxModel",
          "state": {
            "_dom_classes": [],
            "_model_module": "@jupyter-widgets/controls",
            "_model_module_version": "1.5.0",
            "_model_name": "HBoxModel",
            "_view_count": null,
            "_view_module": "@jupyter-widgets/controls",
            "_view_module_version": "1.5.0",
            "_view_name": "HBoxView",
            "box_style": "",
            "children": [
              "IPY_MODEL_e9fe475ab44f476caa2d9ece41181015",
              "IPY_MODEL_c11c9068bf7043afaefef49da66d0bbd",
              "IPY_MODEL_f2076d717a904ccc8e8a3d8965484b4f"
            ],
            "layout": "IPY_MODEL_217fec49eaed4debbccfb6797dd12009"
          }
        },
        "f4256987556144cb85619bea44de0694": {
          "model_module": "@jupyter-widgets/controls",
          "model_module_version": "2.0.0",
          "model_name": "HTMLModel",
          "state": {
            "_dom_classes": [],
            "_model_module": "@jupyter-widgets/controls",
            "_model_module_version": "2.0.0",
            "_model_name": "HTMLModel",
            "_view_count": null,
            "_view_module": "@jupyter-widgets/controls",
            "_view_module_version": "2.0.0",
            "_view_name": "HTMLView",
            "description": "",
            "description_allow_html": false,
            "layout": "IPY_MODEL_a717dec3193745b487fc5228ac1c0153",
            "placeholder": "​",
            "style": "IPY_MODEL_1ae66c3677744ffd8d973ae690017be6",
            "tabbable": null,
            "tooltip": null,
            "value": "Predicting DataLoader 0: 100%"
          }
        },
        "f4fb6e02adb4478785e9fcbf64602025": {
          "model_module": "@jupyter-widgets/base",
          "model_module_version": "1.2.0",
          "model_name": "LayoutModel",
          "state": {
            "_model_module": "@jupyter-widgets/base",
            "_model_module_version": "1.2.0",
            "_model_name": "LayoutModel",
            "_view_count": null,
            "_view_module": "@jupyter-widgets/base",
            "_view_module_version": "1.2.0",
            "_view_name": "LayoutView",
            "align_content": null,
            "align_items": null,
            "align_self": null,
            "border": null,
            "bottom": null,
            "display": null,
            "flex": null,
            "flex_flow": null,
            "grid_area": null,
            "grid_auto_columns": null,
            "grid_auto_flow": null,
            "grid_auto_rows": null,
            "grid_column": null,
            "grid_gap": null,
            "grid_row": null,
            "grid_template_areas": null,
            "grid_template_columns": null,
            "grid_template_rows": null,
            "height": null,
            "justify_content": null,
            "justify_items": null,
            "left": null,
            "margin": null,
            "max_height": null,
            "max_width": null,
            "min_height": null,
            "min_width": null,
            "object_fit": null,
            "object_position": null,
            "order": null,
            "overflow": null,
            "overflow_x": null,
            "overflow_y": null,
            "padding": null,
            "right": null,
            "top": null,
            "visibility": null,
            "width": null
          }
        },
        "f58e76c6ec8f49c788c88d8780dcbd80": {
          "model_module": "@jupyter-widgets/controls",
          "model_module_version": "1.5.0",
          "model_name": "HTMLModel",
          "state": {
            "_dom_classes": [],
            "_model_module": "@jupyter-widgets/controls",
            "_model_module_version": "1.5.0",
            "_model_name": "HTMLModel",
            "_view_count": null,
            "_view_module": "@jupyter-widgets/controls",
            "_view_module_version": "1.5.0",
            "_view_name": "HTMLView",
            "description": "",
            "description_tooltip": null,
            "layout": "IPY_MODEL_857740de67ba44a1823b9fca29f62868",
            "placeholder": "​",
            "style": "IPY_MODEL_698efc6361b1443bb64c8f0365b5b1f0",
            "value": " 1/1 [00:00&lt;00:00, 99.34it/s]"
          }
        },
        "fd15869a35404eef8e43d9765543bbe8": {
          "model_module": "@jupyter-widgets/base",
          "model_module_version": "1.2.0",
          "model_name": "LayoutModel",
          "state": {
            "_model_module": "@jupyter-widgets/base",
            "_model_module_version": "1.2.0",
            "_model_name": "LayoutModel",
            "_view_count": null,
            "_view_module": "@jupyter-widgets/base",
            "_view_module_version": "1.2.0",
            "_view_name": "LayoutView",
            "align_content": null,
            "align_items": null,
            "align_self": null,
            "border": null,
            "bottom": null,
            "display": null,
            "flex": "2",
            "flex_flow": null,
            "grid_area": null,
            "grid_auto_columns": null,
            "grid_auto_flow": null,
            "grid_auto_rows": null,
            "grid_column": null,
            "grid_gap": null,
            "grid_row": null,
            "grid_template_areas": null,
            "grid_template_columns": null,
            "grid_template_rows": null,
            "height": null,
            "justify_content": null,
            "justify_items": null,
            "left": null,
            "margin": null,
            "max_height": null,
            "max_width": null,
            "min_height": null,
            "min_width": null,
            "object_fit": null,
            "object_position": null,
            "order": null,
            "overflow": null,
            "overflow_x": null,
            "overflow_y": null,
            "padding": null,
            "right": null,
            "top": null,
            "visibility": null,
            "width": null
          }
        },
        "fefb553d692d409badf4ddd28ced0c37": {
          "model_module": "@jupyter-widgets/controls",
          "model_module_version": "1.5.0",
          "model_name": "HBoxModel",
          "state": {
            "_dom_classes": [],
            "_model_module": "@jupyter-widgets/controls",
            "_model_module_version": "1.5.0",
            "_model_name": "HBoxModel",
            "_view_count": null,
            "_view_module": "@jupyter-widgets/controls",
            "_view_module_version": "1.5.0",
            "_view_name": "HBoxView",
            "box_style": "",
            "children": [
              "IPY_MODEL_724fb7bc854548c092fa55f47d8530a3",
              "IPY_MODEL_ec62736e5f464ddd83c48e622c7649d8",
              "IPY_MODEL_f58e76c6ec8f49c788c88d8780dcbd80"
            ],
            "layout": "IPY_MODEL_3cc18f8af088483d90963467297d7971"
          }
        }
      }
    }
  },
  "nbformat": 4,
  "nbformat_minor": 0
}