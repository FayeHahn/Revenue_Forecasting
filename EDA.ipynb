{
  "cells": [
    {
      "cell_type": "markdown",
      "source": [
        "# Chapter 3.3 - Exploratory Data Analysis\n",
        "This notebook contains the code that was used for the EDA conducted in Chapter 3.2 of the thesis. After having done some initialization steps, it focuses on an overall comparison of the available datasets in order to derive dataset groups. Next, the notebook includes the code for the individual analyses for the three datasets that were chosen as prototypes, i.e., C4, C1 and C6."
      ],
      "metadata": {
        "id": "jBuxL6tXjUeU"
      }
    },
    {
      "cell_type": "markdown",
      "metadata": {
        "id": "XDBnvKh_7XKq"
      },
      "source": [
        "## Initialization & Imports"
      ]
    },
    {
      "cell_type": "code",
      "execution_count": null,
      "metadata": {
        "id": "sk4qA5BwGcf3"
      },
      "outputs": [],
      "source": [
        "from google.colab import auth\n",
        "auth.authenticate_user()\n",
        "\n",
        "import gspread\n",
        "from google.auth import default\n",
        "creds, _ = default()\n",
        "\n",
        "gc = gspread.authorize(creds)"
      ]
    },
    {
      "cell_type": "code",
      "execution_count": null,
      "metadata": {
        "id": "QGjmNhP4GC_K"
      },
      "outputs": [],
      "source": [
        "import pandas as pd\n",
        "import numpy as np\n",
        "import matplotlib.pyplot as plt\n",
        "import seaborn as sns\n",
        "from sklearn.preprocessing import MinMaxScaler\n",
        "from pandas.plotting import lag_plot\n",
        "from scipy import signal\n",
        "from statsmodels.tsa.seasonal import seasonal_decompose\n",
        "from statsmodels.graphics.tsaplots import plot_acf\n",
        "from statsmodels.tsa.stattools import adfuller"
      ]
    },
    {
      "cell_type": "code",
      "source": [
        "import matplotlib\n",
        "matplotlib.rc_file_defaults()"
      ],
      "metadata": {
        "id": "5VNOjolA8Brw"
      },
      "execution_count": null,
      "outputs": []
    },
    {
      "cell_type": "code",
      "source": [
        "# settings for unified format across plots\n",
        "import matplotlib.pylab as pylab\n",
        "params = {'legend.fontsize': 20,\n",
        "          'figure.figsize': (9, 6),\n",
        "         'axes.labelsize': 16,\n",
        "         'xtick.labelsize': 14,\n",
        "         'ytick.labelsize': 14}\n",
        "pylab.rcParams.update(params)"
      ],
      "metadata": {
        "id": "_PS0gu42wfkL"
      },
      "execution_count": null,
      "outputs": []
    },
    {
      "cell_type": "markdown",
      "metadata": {
        "id": "ysdpaL27-XiH"
      },
      "source": [
        "## Overall comparison for Group Definition\n",
        "In this part, all six available datasets get imported and compared to each other. Based on this, the group definition depicted in Chapter 3.3 was derived."
      ]
    },
    {
      "cell_type": "code",
      "execution_count": null,
      "metadata": {
        "colab": {
          "base_uri": "https://localhost:8080/"
        },
        "id": "kZNBbfph-cFX",
        "outputId": "f9bbebb5-2f6c-4433-84be-03f58c387ba1"
      },
      "outputs": [
        {
          "output_type": "stream",
          "name": "stdout",
          "text": [
            "Number of columns in overall dataset: 6\n"
          ]
        }
      ],
      "source": [
        "# import all datasets and merge them into one DataFrame\n",
        "worksheet = gc.open('C1').sheet1\n",
        "\n",
        "rows = worksheet.get_all_values()\n",
        "\n",
        "# create DataFrame that includes all data on WON_REVENUE from first dataset\n",
        "df = pd.DataFrame.from_records(rows[1:],columns=rows[0])\n",
        "df = df[df['METRIC']==\"WON_REVENUE\"]\n",
        "df['VALUE'] = pd.to_numeric(df['VALUE'])\n",
        "df['DATE'] = pd.to_datetime(df['DATE'])\n",
        "\n",
        "# remove splits i.e., group data only by date and metric\n",
        "df = pd.DataFrame(df.groupby(['DATE','METRIC'])['VALUE'].sum())\n",
        "df = df.reset_index()\n",
        "\n",
        "# pivot data\n",
        "df = df.pivot(index=['DATE'],columns=['METRIC'],values=['VALUE'])\n",
        "df.columns = ['C1']\n",
        "\n",
        "# created overall DataFrame\n",
        "won_revenue = df.copy()\n",
        "\n",
        "for i in range(2,7):\n",
        "  worksheet = gc.open('C'+str(i)).sheet1\n",
        "\n",
        "  rows = worksheet.get_all_values()\n",
        "\n",
        "  # create DataFrame that includes all data on WON_REVENUE from each of the remaining five datasets\n",
        "  df = pd.DataFrame.from_records(rows[1:],columns=rows[0])\n",
        "  df = df[df['METRIC']==\"WON_REVENUE\"]\n",
        "  df['VALUE'] = pd.to_numeric(df['VALUE'])\n",
        "  df['DATE'] = pd.to_datetime(df['DATE'])\n",
        "\n",
        "  # remove splits i.e., group data only by date and metric\n",
        "  df = pd.DataFrame(df.groupby(['DATE','METRIC'])['VALUE'].sum())\n",
        "  df = df.reset_index()\n",
        "\n",
        "  # pivot data\n",
        "  df = df.pivot(index=['DATE'],columns=['METRIC'],values=['VALUE'])\n",
        "  df.columns = ['C'+str(i)]\n",
        "\n",
        "  # append DataFrame to overall DataFrame - thereby ensure, that length of the DataFrame is equal to longest dataset, so that no values are lost\n",
        "  if len(df) > len(won_revenue):\n",
        "    won_revenue = df.join(won_revenue)\n",
        "  else:\n",
        "    won_revenue = won_revenue.join(df)\n",
        "\n",
        "# reorder DataFrame\n",
        "won_revenue = won_revenue[['C1','C2','C3','C4','C5','C6']]\n",
        "\n",
        "print(\"Number of columns in overall dataset:\",len(won_revenue.columns))"
      ]
    },
    {
      "cell_type": "markdown",
      "source": [
        "### Full series"
      ],
      "metadata": {
        "id": "grVkEOGkpntv"
      }
    },
    {
      "cell_type": "code",
      "execution_count": null,
      "metadata": {
        "id": "jqCMeSlKsGVe"
      },
      "outputs": [],
      "source": [
        "# plot datasets together\n",
        "won_revenue.plot(figsize=(16,10))\n",
        "plt.xlabel('DATE', fontsize=20)\n",
        "plt.ylabel('WON_REVENUE', fontsize=20)\n",
        "plt.grid(axis='y');"
      ]
    },
    {
      "cell_type": "code",
      "execution_count": null,
      "metadata": {
        "id": "shqPJUJPAaLj"
      },
      "outputs": [],
      "source": [
        "# plot datasets separately\n",
        "fig, axs = plt.subplots(2, 3, figsize=(20,10),sharex=True,sharey=True)\n",
        "axs[0, 0].plot(won_revenue[['C1']])\n",
        "axs[0, 0].set_title('C1', fontsize=20)\n",
        "axs[0, 1].plot(won_revenue[['C2']])\n",
        "axs[0, 1].set_title('C2', fontsize=20)\n",
        "axs[0, 2].plot(won_revenue[['C3']])\n",
        "axs[0, 2].set_title('C3', fontsize=20)\n",
        "axs[1, 0].plot(won_revenue[['C4']])\n",
        "axs[1, 0].set_title('C4', fontsize=20)\n",
        "axs[1, 1].plot(won_revenue[['C5']])\n",
        "axs[1, 1].set_title('C5', fontsize=20)\n",
        "axs[1, 2].plot(won_revenue[['C6']])\n",
        "axs[1, 2].set_title('C6', fontsize=20)\n",
        "\n",
        "for ax in axs.flat:\n",
        "    ax.set(xlabel='DATE', ylabel='WON_REVENUE')\n",
        "    ax.grid(axis='y')\n",
        "\n",
        "# Hide x labels and tick labels for top plots and y ticks for right plots.\n",
        "for ax in axs.flat:\n",
        "    ax.label_outer()"
      ]
    },
    {
      "cell_type": "code",
      "execution_count": null,
      "metadata": {
        "id": "uXb08oJsykIB"
      },
      "outputs": [],
      "source": [
        "for col in won_revenue:\n",
        "  print(\"first period for\",col,\":\",won_revenue[col].dropna().index.min())"
      ]
    },
    {
      "cell_type": "code",
      "execution_count": null,
      "metadata": {
        "id": "5pXcHxhA45MT"
      },
      "outputs": [],
      "source": [
        "# print summary statistics\n",
        "won_revenue.describe()"
      ]
    },
    {
      "cell_type": "code",
      "execution_count": null,
      "metadata": {
        "id": "wYV1ln-m78qo"
      },
      "outputs": [],
      "source": [
        "# show boxplot for all revenue series\n",
        "sns.set(rc={'figure.figsize':(16,6)})\n",
        "sns.boxplot(data=won_revenue);"
      ]
    },
    {
      "cell_type": "markdown",
      "source": [
        "### 2 years"
      ],
      "metadata": {
        "id": "Wx5dExOnpxDJ"
      }
    },
    {
      "cell_type": "code",
      "execution_count": null,
      "metadata": {
        "id": "oZSF3rWvsuGI"
      },
      "outputs": [],
      "source": [
        "# shorten series to only include most recent two years of data\n",
        "won_revenue_shortened = won_revenue.iloc[-24:,:]"
      ]
    },
    {
      "cell_type": "code",
      "execution_count": null,
      "metadata": {
        "id": "PiHTVAg1uVQg"
      },
      "outputs": [],
      "source": [
        "# plot datasets together\n",
        "won_revenue_shortened.plot(figsize=(16,10))\n",
        "plt.xlabel('DATE', fontsize=20)\n",
        "plt.ylabel('WON_REVENUE', fontsize=20)\n",
        "plt.grid(axis='y');"
      ]
    },
    {
      "cell_type": "code",
      "source": [
        "# plot datasets separately\n",
        "fig, axs = plt.subplots(2, 3, figsize=(20,10),sharex=True,sharey=True)\n",
        "axs[0, 0].plot(won_revenue_shortened[['C1']])\n",
        "axs[0, 0].set_title('C1', fontsize=20)\n",
        "axs[0, 1].plot(won_revenue_shortened[['C2']])\n",
        "axs[0, 1].set_title('C2', fontsize=20)\n",
        "axs[0, 2].plot(won_revenue_shortened[['C3']])\n",
        "axs[0, 2].set_title('C3', fontsize=20)\n",
        "axs[1, 0].plot(won_revenue_shortened[['C4']])\n",
        "axs[1, 0].set_title('C4', fontsize=20)\n",
        "axs[1, 1].plot(won_revenue_shortened[['C5']])\n",
        "axs[1, 1].set_title('C5', fontsize=20)\n",
        "axs[1, 2].plot(won_revenue_shortened[['C6']])\n",
        "axs[1, 2].set_title('C6', fontsize=20)\n",
        "\n",
        "for ax in axs.flat:\n",
        "    ax.set(xlabel='DATE', ylabel='WON_REVENUE')\n",
        "    ax.grid(axis='y')\n",
        "\n",
        "# Hide x labels and tick labels for top plots and y ticks for right plots.\n",
        "for ax in axs.flat:\n",
        "    ax.label_outer()"
      ],
      "metadata": {
        "id": "yDQhIE-IqrY_"
      },
      "execution_count": null,
      "outputs": []
    },
    {
      "cell_type": "code",
      "execution_count": null,
      "metadata": {
        "id": "m_U0KckG7z1t"
      },
      "outputs": [],
      "source": [
        "sns.set(rc={'figure.figsize':(16,6)})\n",
        "sns.boxplot(data=won_revenue_shortened);"
      ]
    },
    {
      "cell_type": "code",
      "source": [
        "# print summary statistics\n",
        "won_revenue_shortened.describe()"
      ],
      "metadata": {
        "id": "2IoXqsvXp9FB"
      },
      "execution_count": null,
      "outputs": []
    },
    {
      "cell_type": "markdown",
      "source": [
        "## Group-specific EDA\n",
        "This part covers the code for the Group-specific EDA, i.e. the analysis of each of the group prototypes in order to get an intuition which model might be required for each group prototype."
      ],
      "metadata": {
        "id": "Hn7EkiHnrOXq"
      }
    },
    {
      "cell_type": "markdown",
      "metadata": {
        "id": "TeLbEgmKuG18"
      },
      "source": [
        "### C4"
      ]
    },
    {
      "cell_type": "code",
      "execution_count": null,
      "metadata": {
        "id": "O7s36YIfuG2B"
      },
      "outputs": [],
      "source": [
        "# load dataset\n",
        "worksheet = gc.open('C4').sheet1\n",
        "rows = worksheet.get_all_values()\n",
        "\n",
        "# create DataFrame that includes all data on WON_REVENUE from the dataset\n",
        "df = pd.DataFrame.from_records(rows[1:],columns=rows[0])\n",
        "df['VALUE'] = pd.to_numeric(df['VALUE'])\n",
        "df['DATE'] = pd.to_datetime(df['DATE'])\n",
        "df.head()"
      ]
    },
    {
      "cell_type": "code",
      "execution_count": null,
      "metadata": {
        "id": "hFdQNKNwuG2C"
      },
      "outputs": [],
      "source": [
        "# remove splits i.e., group data only by date and metric\n",
        "df = pd.DataFrame(df.groupby(['DATE','METRIC'])['VALUE'].sum())\n",
        "df = df.reset_index()\n",
        "df"
      ]
    },
    {
      "cell_type": "code",
      "source": [
        "# use only train set, i.e., remove data from 2022\n",
        "df = df[df['DATE']<pd.Timestamp('2022-01-01')]"
      ],
      "metadata": {
        "id": "8NeuZAvlV8eU"
      },
      "execution_count": null,
      "outputs": []
    },
    {
      "cell_type": "code",
      "execution_count": null,
      "metadata": {
        "id": "e5FAOF-auG2C"
      },
      "outputs": [],
      "source": [
        "# pivot data\n",
        "df = df.pivot(index=['DATE'],columns=['METRIC'],values=['VALUE'])\n",
        "df.columns = [col[1] for col in df.columns]\n",
        "df"
      ]
    },
    {
      "cell_type": "code",
      "execution_count": null,
      "metadata": {
        "id": "9LZ16j30uG2C"
      },
      "outputs": [],
      "source": [
        "# print summary statistics\n",
        "df.describe()"
      ]
    },
    {
      "cell_type": "code",
      "execution_count": null,
      "metadata": {
        "colab": {
          "base_uri": "https://localhost:8080/"
        },
        "id": "ZlkHdqsfuG2C",
        "outputId": "09538225-4c94-49e2-bc44-531b9bac92d4"
      },
      "outputs": [
        {
          "output_type": "stream",
          "name": "stdout",
          "text": [
            "Number of NaN values in CREATED_OPPORTUNITIES: 0\n",
            "Number of NaN values in THREE_MONTHS_ACV: 0\n",
            "Number of NaN values in THREE_MONTHS_OPP_WON_CVR: 0\n",
            "Number of NaN values in WON_CUSTOMERS: 0\n",
            "Number of NaN values in WON_REVENUE: 0\n"
          ]
        }
      ],
      "source": [
        "# ensuring that no empty values are present in the data\n",
        "print('Number of NaN values in CREATED_OPPORTUNITIES:',len(df[df['CREATED_OPPORTUNITIES'].isnull()]))\n",
        "print('Number of NaN values in THREE_MONTHS_ACV:',len(df[df['THREE_MONTHS_ACV'].isnull()]))\n",
        "print('Number of NaN values in THREE_MONTHS_OPP_WON_CVR:',len(df[df['THREE_MONTHS_OPP_WON_CVR'].isnull()]))\n",
        "print('Number of NaN values in WON_CUSTOMERS:',len(df[df['WON_CUSTOMERS'].isnull()]))\n",
        "print('Number of NaN values in WON_REVENUE:',len(df[df['WON_REVENUE'].isnull()]))"
      ]
    },
    {
      "cell_type": "code",
      "execution_count": null,
      "metadata": {
        "colab": {
          "base_uri": "https://localhost:8080/",
          "height": 238
        },
        "id": "Sr09Sjh0uG2C",
        "outputId": "6159ea43-4d87-4c1d-8996-a9d41f2f2504"
      },
      "outputs": [
        {
          "output_type": "execute_result",
          "data": {
            "text/plain": [
              "            CREATED_OPPORTUNITIES  THREE_MONTHS_ACV  THREE_MONTHS_OPP_WON_CVR  \\\n",
              "DATE                                                                            \n",
              "2014-08-01               0.001878          0.001275                     0.125   \n",
              "2014-09-01               0.001127          0.000950                     0.125   \n",
              "2014-10-01               0.000000          0.000950                     0.125   \n",
              "2014-11-01               0.001127          0.000389                     0.125   \n",
              "2014-12-01               0.000000          0.000369                     0.125   \n",
              "\n",
              "            WON_CUSTOMERS  WON_REVENUE  \n",
              "DATE                                    \n",
              "2014-08-01       0.003990     0.005896  \n",
              "2014-09-01       0.002394     0.001135  \n",
              "2014-10-01       0.000000     0.000000  \n",
              "2014-11-01       0.002394     0.001024  \n",
              "2014-12-01       0.000000     0.000000  "
            ],
            "text/html": [
              "\n",
              "  <div id=\"df-2d877ce9-ac35-456f-a4c6-b6b26201e322\">\n",
              "    <div class=\"colab-df-container\">\n",
              "      <div>\n",
              "<style scoped>\n",
              "    .dataframe tbody tr th:only-of-type {\n",
              "        vertical-align: middle;\n",
              "    }\n",
              "\n",
              "    .dataframe tbody tr th {\n",
              "        vertical-align: top;\n",
              "    }\n",
              "\n",
              "    .dataframe thead th {\n",
              "        text-align: right;\n",
              "    }\n",
              "</style>\n",
              "<table border=\"1\" class=\"dataframe\">\n",
              "  <thead>\n",
              "    <tr style=\"text-align: right;\">\n",
              "      <th></th>\n",
              "      <th>CREATED_OPPORTUNITIES</th>\n",
              "      <th>THREE_MONTHS_ACV</th>\n",
              "      <th>THREE_MONTHS_OPP_WON_CVR</th>\n",
              "      <th>WON_CUSTOMERS</th>\n",
              "      <th>WON_REVENUE</th>\n",
              "    </tr>\n",
              "    <tr>\n",
              "      <th>DATE</th>\n",
              "      <th></th>\n",
              "      <th></th>\n",
              "      <th></th>\n",
              "      <th></th>\n",
              "      <th></th>\n",
              "    </tr>\n",
              "  </thead>\n",
              "  <tbody>\n",
              "    <tr>\n",
              "      <th>2014-08-01</th>\n",
              "      <td>0.001878</td>\n",
              "      <td>0.001275</td>\n",
              "      <td>0.125</td>\n",
              "      <td>0.003990</td>\n",
              "      <td>0.005896</td>\n",
              "    </tr>\n",
              "    <tr>\n",
              "      <th>2014-09-01</th>\n",
              "      <td>0.001127</td>\n",
              "      <td>0.000950</td>\n",
              "      <td>0.125</td>\n",
              "      <td>0.002394</td>\n",
              "      <td>0.001135</td>\n",
              "    </tr>\n",
              "    <tr>\n",
              "      <th>2014-10-01</th>\n",
              "      <td>0.000000</td>\n",
              "      <td>0.000950</td>\n",
              "      <td>0.125</td>\n",
              "      <td>0.000000</td>\n",
              "      <td>0.000000</td>\n",
              "    </tr>\n",
              "    <tr>\n",
              "      <th>2014-11-01</th>\n",
              "      <td>0.001127</td>\n",
              "      <td>0.000389</td>\n",
              "      <td>0.125</td>\n",
              "      <td>0.002394</td>\n",
              "      <td>0.001024</td>\n",
              "    </tr>\n",
              "    <tr>\n",
              "      <th>2014-12-01</th>\n",
              "      <td>0.000000</td>\n",
              "      <td>0.000369</td>\n",
              "      <td>0.125</td>\n",
              "      <td>0.000000</td>\n",
              "      <td>0.000000</td>\n",
              "    </tr>\n",
              "  </tbody>\n",
              "</table>\n",
              "</div>\n",
              "      <button class=\"colab-df-convert\" onclick=\"convertToInteractive('df-2d877ce9-ac35-456f-a4c6-b6b26201e322')\"\n",
              "              title=\"Convert this dataframe to an interactive table.\"\n",
              "              style=\"display:none;\">\n",
              "        \n",
              "  <svg xmlns=\"http://www.w3.org/2000/svg\" height=\"24px\"viewBox=\"0 0 24 24\"\n",
              "       width=\"24px\">\n",
              "    <path d=\"M0 0h24v24H0V0z\" fill=\"none\"/>\n",
              "    <path d=\"M18.56 5.44l.94 2.06.94-2.06 2.06-.94-2.06-.94-.94-2.06-.94 2.06-2.06.94zm-11 1L8.5 8.5l.94-2.06 2.06-.94-2.06-.94L8.5 2.5l-.94 2.06-2.06.94zm10 10l.94 2.06.94-2.06 2.06-.94-2.06-.94-.94-2.06-.94 2.06-2.06.94z\"/><path d=\"M17.41 7.96l-1.37-1.37c-.4-.4-.92-.59-1.43-.59-.52 0-1.04.2-1.43.59L10.3 9.45l-7.72 7.72c-.78.78-.78 2.05 0 2.83L4 21.41c.39.39.9.59 1.41.59.51 0 1.02-.2 1.41-.59l7.78-7.78 2.81-2.81c.8-.78.8-2.07 0-2.86zM5.41 20L4 18.59l7.72-7.72 1.47 1.35L5.41 20z\"/>\n",
              "  </svg>\n",
              "      </button>\n",
              "      \n",
              "  <style>\n",
              "    .colab-df-container {\n",
              "      display:flex;\n",
              "      flex-wrap:wrap;\n",
              "      gap: 12px;\n",
              "    }\n",
              "\n",
              "    .colab-df-convert {\n",
              "      background-color: #E8F0FE;\n",
              "      border: none;\n",
              "      border-radius: 50%;\n",
              "      cursor: pointer;\n",
              "      display: none;\n",
              "      fill: #1967D2;\n",
              "      height: 32px;\n",
              "      padding: 0 0 0 0;\n",
              "      width: 32px;\n",
              "    }\n",
              "\n",
              "    .colab-df-convert:hover {\n",
              "      background-color: #E2EBFA;\n",
              "      box-shadow: 0px 1px 2px rgba(60, 64, 67, 0.3), 0px 1px 3px 1px rgba(60, 64, 67, 0.15);\n",
              "      fill: #174EA6;\n",
              "    }\n",
              "\n",
              "    [theme=dark] .colab-df-convert {\n",
              "      background-color: #3B4455;\n",
              "      fill: #D2E3FC;\n",
              "    }\n",
              "\n",
              "    [theme=dark] .colab-df-convert:hover {\n",
              "      background-color: #434B5C;\n",
              "      box-shadow: 0px 1px 3px 1px rgba(0, 0, 0, 0.15);\n",
              "      filter: drop-shadow(0px 1px 2px rgba(0, 0, 0, 0.3));\n",
              "      fill: #FFFFFF;\n",
              "    }\n",
              "  </style>\n",
              "\n",
              "      <script>\n",
              "        const buttonEl =\n",
              "          document.querySelector('#df-2d877ce9-ac35-456f-a4c6-b6b26201e322 button.colab-df-convert');\n",
              "        buttonEl.style.display =\n",
              "          google.colab.kernel.accessAllowed ? 'block' : 'none';\n",
              "\n",
              "        async function convertToInteractive(key) {\n",
              "          const element = document.querySelector('#df-2d877ce9-ac35-456f-a4c6-b6b26201e322');\n",
              "          const dataTable =\n",
              "            await google.colab.kernel.invokeFunction('convertToInteractive',\n",
              "                                                     [key], {});\n",
              "          if (!dataTable) return;\n",
              "\n",
              "          const docLinkHtml = 'Like what you see? Visit the ' +\n",
              "            '<a target=\"_blank\" href=https://colab.research.google.com/notebooks/data_table.ipynb>data table notebook</a>'\n",
              "            + ' to learn more about interactive tables.';\n",
              "          element.innerHTML = '';\n",
              "          dataTable['output_type'] = 'display_data';\n",
              "          await google.colab.output.renderOutput(dataTable, element);\n",
              "          const docLink = document.createElement('div');\n",
              "          docLink.innerHTML = docLinkHtml;\n",
              "          element.appendChild(docLink);\n",
              "        }\n",
              "      </script>\n",
              "    </div>\n",
              "  </div>\n",
              "  "
            ]
          },
          "metadata": {},
          "execution_count": 74
        }
      ],
      "source": [
        "# scale data to get an overview of the distribution of each metric\n",
        "minMax = MinMaxScaler()\n",
        "df_scaled = pd.DataFrame(minMax.fit_transform(df),index=df.index,columns=df.columns)\n",
        "df_scaled.head()"
      ]
    },
    {
      "cell_type": "code",
      "execution_count": null,
      "metadata": {
        "colab": {
          "base_uri": "https://localhost:8080/",
          "height": 395
        },
        "id": "zOL6OjKWuG2D",
        "outputId": "7a267b7a-c886-4624-b3c3-82f617ea4e24"
      },
      "outputs": [
        {
          "output_type": "display_data",
          "data": {
            "text/plain": [
              "<Figure size 1600x600 with 1 Axes>"
            ],
            "image/png": "[encoded data removed]"
          },
          "metadata": {}
        }
      ],
      "source": [
        "sns.set(rc={'figure.figsize':(16,6)})\n",
        "sns.boxplot(data=df_scaled);"
      ]
    },
    {
      "cell_type": "code",
      "execution_count": null,
      "metadata": {
        "id": "ZBV2d4rhvQUy"
      },
      "outputs": [],
      "source": [
        "# print variance per metric (unscaled)\n",
        "df.var()"
      ]
    },
    {
      "cell_type": "code",
      "execution_count": null,
      "metadata": {
        "colab": {
          "base_uri": "https://localhost:8080/"
        },
        "id": "N-a38vCruG2D",
        "outputId": "ca743040-9411-4f3d-d0d3-49e2e3bc5e9d"
      },
      "outputs": [
        {
          "output_type": "execute_result",
          "data": {
            "text/plain": [
              "CREATED_OPPORTUNITIES       0.057372\n",
              "THREE_MONTHS_ACV            0.037718\n",
              "THREE_MONTHS_OPP_WON_CVR    0.080547\n",
              "WON_CUSTOMERS               0.016833\n",
              "WON_REVENUE                 0.018257\n",
              "dtype: float64"
            ]
          },
          "metadata": {},
          "execution_count": 44
        }
      ],
      "source": [
        "# print variance per metric (scaled)\n",
        "df_scaled.var()"
      ]
    },
    {
      "cell_type": "code",
      "execution_count": null,
      "metadata": {
        "id": "qvdXjUxjuG2D"
      },
      "outputs": [],
      "source": [
        "# create new DataFrame which only includes WON_REVENUE\n",
        "won_revenue = df[['WON_REVENUE']].copy()\n",
        "won_revenue_scaled = df_scaled[['WON_REVENUE']].copy()\n",
        "won_revenue.head()"
      ]
    },
    {
      "cell_type": "code",
      "execution_count": null,
      "metadata": {
        "id": "M82zhsIguG2D"
      },
      "outputs": [],
      "source": [
        "# plot wo_revenue\n",
        "won_revenue.plot(figsize=(15,7.5))\n",
        "plt.grid(axis='y')\n",
        "plt.xlabel('DATE', fontsize=20)\n",
        "plt.ylabel('WON_REVENUE', fontsize=20)\n",
        "plt.show()"
      ]
    },
    {
      "cell_type": "code",
      "execution_count": null,
      "metadata": {
        "id": "F62kB2APuG2D"
      },
      "outputs": [],
      "source": [
        "# print boxplot only for WON_REVENUE\n",
        "sns.set(rc={'figure.figsize':(8,6)})\n",
        "sns.boxplot(data=won_revenue);"
      ]
    },
    {
      "cell_type": "code",
      "execution_count": null,
      "metadata": {
        "id": "VIP8R9BauG2D"
      },
      "outputs": [],
      "source": [
        "# print a lag plot\n",
        "lag_plot(won_revenue)\n",
        "plt.grid()\n",
        "plt.show()"
      ]
    },
    {
      "cell_type": "code",
      "execution_count": null,
      "metadata": {
        "id": "zJfNqx5quG2D"
      },
      "outputs": [],
      "source": [
        "# execute time-series decomposition and plot the result\n",
        "result=seasonal_decompose(won_revenue['WON_REVENUE'], model='additive', period=12)\n",
        "result.plot()\n",
        "plt.show()"
      ]
    },
    {
      "cell_type": "code",
      "source": [
        "# plot the ACF for the residuals of the decomposition\n",
        "plot_acf(result.resid.dropna(),lags=24, title='Resid ACF')\n",
        "plt.show()"
      ],
      "metadata": {
        "id": "tUOyDRCtIB3r"
      },
      "execution_count": null,
      "outputs": []
    },
    {
      "cell_type": "code",
      "source": [
        "# ADF test to test autocorrelation within the residuals\n",
        "ad_fuller_result = adfuller(result.resid.dropna())\n",
        "print(f'ADF Statistic: {ad_fuller_result[0]}')\n",
        "print(f'p-value: {ad_fuller_result[1]}')"
      ],
      "metadata": {
        "colab": {
          "base_uri": "https://localhost:8080/"
        },
        "id": "TlEho86OLmxl",
        "outputId": "357468e2-92eb-41f1-cd47-83ee3c1b307d"
      },
      "execution_count": null,
      "outputs": [
        {
          "output_type": "stream",
          "name": "stdout",
          "text": [
            "ADF Statistic: -6.473595027227986\n",
            "p-value: 1.348180808048594e-08\n"
          ]
        }
      ]
    },
    {
      "cell_type": "markdown",
      "source": [
        "-> result indicates stationary residuals"
      ],
      "metadata": {
        "id": "F91h00aKuLP4"
      }
    },
    {
      "cell_type": "code",
      "source": [
        "# plot ACF for WON_REVENUE\n",
        "plot_acf(won_revenue,lags=24, title='Won Revenue ACF')\n",
        "plt.show()"
      ],
      "metadata": {
        "colab": {
          "base_uri": "https://localhost:8080/",
          "height": 550
        },
        "id": "RhTPf3Pj29jd",
        "outputId": "cb4a6434-b456-4a9c-b3c9-7bb4226c8c26"
      },
      "execution_count": null,
      "outputs": [
        {
          "output_type": "display_data",
          "data": {
            "text/plain": [
              "<Figure size 900x600 with 1 Axes>"
            ],
            "image/png": "[encoded data removed]"
          },
          "metadata": {}
        }
      ]
    },
    {
      "cell_type": "code",
      "source": [
        "# ADF test to test autocorrelation within WON_REVENUE\n",
        "ad_fuller_result = adfuller(won_revenue)\n",
        "print(f'ADF Statistic: {ad_fuller_result[0]}')\n",
        "print(f'p-value: {ad_fuller_result[1]}')"
      ],
      "metadata": {
        "colab": {
          "base_uri": "https://localhost:8080/"
        },
        "id": "6Sd1u_dh4JZJ",
        "outputId": "5540e136-f057-4d2d-b04a-63471177a271"
      },
      "execution_count": null,
      "outputs": [
        {
          "output_type": "stream",
          "name": "stdout",
          "text": [
            "ADF Statistic: -8.854322715614037\n",
            "p-value: 1.5425627014211757e-14\n"
          ]
        }
      ]
    },
    {
      "cell_type": "markdown",
      "source": [
        "-> result still indicates stationary residuals"
      ],
      "metadata": {
        "id": "PtJTywGs9EDc"
      }
    },
    {
      "cell_type": "markdown",
      "metadata": {
        "id": "Qq3kero0ufaJ"
      },
      "source": [
        "C4"
      ]
    },
    {
      "cell_type": "code",
      "execution_count": null,
      "metadata": {
        "id": "g3jCmr_zufaK"
      },
      "outputs": [],
      "source": [
        "# load dataset\n",
        "worksheet = gc.open('C4').sheet1\n",
        "rows = worksheet.get_all_values()\n",
        "\n",
        "# create DataFrame that includes all data on WON_REVENUE from the dataset\n",
        "df = pd.DataFrame.from_records(rows[1:],columns=rows[0])\n",
        "df['VALUE'] = pd.to_numeric(df['VALUE'])\n",
        "df['DATE'] = pd.to_datetime(df['DATE'])\n",
        "df.head()"
      ]
    },
    {
      "cell_type": "code",
      "execution_count": null,
      "metadata": {
        "id": "N1z7rDyMufaK"
      },
      "outputs": [],
      "source": [
        "# remove splits i.e., group data only by date and metric\n",
        "df = pd.DataFrame(df.groupby(['DATE','METRIC'])['VALUE'].sum())\n",
        "df = df.reset_index()\n",
        "df"
      ]
    },
    {
      "cell_type": "code",
      "source": [
        "# use only train set, i.e., remove data from 2022\n",
        "df = df[df['DATE']<pd.Timestamp('2022-01-01')]"
      ],
      "metadata": {
        "id": "_0yAeEFtufaK"
      },
      "execution_count": null,
      "outputs": []
    },
    {
      "cell_type": "code",
      "execution_count": null,
      "metadata": {
        "id": "GMkFFciuufaL"
      },
      "outputs": [],
      "source": [
        "# pivot data\n",
        "df = df.pivot(index=['DATE'],columns=['METRIC'],values=['VALUE'])\n",
        "df.columns = [col[1] for col in df.columns]\n",
        "df"
      ]
    },
    {
      "cell_type": "code",
      "execution_count": null,
      "metadata": {
        "id": "WB8J0kMgufaL"
      },
      "outputs": [],
      "source": [
        "# print summary statistics\n",
        "df.describe()"
      ]
    },
    {
      "cell_type": "code",
      "execution_count": null,
      "metadata": {
        "colab": {
          "base_uri": "https://localhost:8080/"
        },
        "outputId": "09538225-4c94-49e2-bc44-531b9bac92d4",
        "id": "y3hKzeZcufaL"
      },
      "outputs": [
        {
          "output_type": "stream",
          "name": "stdout",
          "text": [
            "Number of NaN values in CREATED_OPPORTUNITIES: 0\n",
            "Number of NaN values in THREE_MONTHS_ACV: 0\n",
            "Number of NaN values in THREE_MONTHS_OPP_WON_CVR: 0\n",
            "Number of NaN values in WON_CUSTOMERS: 0\n",
            "Number of NaN values in WON_REVENUE: 0\n"
          ]
        }
      ],
      "source": [
        "# ensuring that no empty values are present in the data\n",
        "print('Number of NaN values in CREATED_OPPORTUNITIES:',len(df[df['CREATED_OPPORTUNITIES'].isnull()]))\n",
        "print('Number of NaN values in THREE_MONTHS_ACV:',len(df[df['THREE_MONTHS_ACV'].isnull()]))\n",
        "print('Number of NaN values in THREE_MONTHS_OPP_WON_CVR:',len(df[df['THREE_MONTHS_OPP_WON_CVR'].isnull()]))\n",
        "print('Number of NaN values in WON_CUSTOMERS:',len(df[df['WON_CUSTOMERS'].isnull()]))\n",
        "print('Number of NaN values in WON_REVENUE:',len(df[df['WON_REVENUE'].isnull()]))"
      ]
    },
    {
      "cell_type": "code",
      "execution_count": null,
      "metadata": {
        "colab": {
          "base_uri": "https://localhost:8080/",
          "height": 238
        },
        "outputId": "c238fbfb-824b-4e18-9fc3-1672d8fdc9c0",
        "id": "Dm5bnufBufaL"
      },
      "outputs": [
        {
          "output_type": "execute_result",
          "data": {
            "text/plain": [
              "            CREATED_OPPORTUNITIES  THREE_MONTHS_ACV  THREE_MONTHS_OPP_WON_CVR  \\\n",
              "DATE                                                                            \n",
              "2014-08-01               0.001878          0.001275                     0.125   \n",
              "2014-09-01               0.001127          0.000950                     0.125   \n",
              "2014-10-01               0.000000          0.000950                     0.125   \n",
              "2014-11-01               0.001127          0.000389                     0.125   \n",
              "2014-12-01               0.000000          0.000369                     0.125   \n",
              "\n",
              "            WON_CUSTOMERS  WON_REVENUE  \n",
              "DATE                                    \n",
              "2014-08-01       0.003990     0.005896  \n",
              "2014-09-01       0.002394     0.001135  \n",
              "2014-10-01       0.000000     0.000000  \n",
              "2014-11-01       0.002394     0.001024  \n",
              "2014-12-01       0.000000     0.000000  "
            ],
            "text/html": [
              "\n",
              "  <div id=\"df-41c8e18c-65e6-41f7-afa0-553ecdd95670\">\n",
              "    <div class=\"colab-df-container\">\n",
              "      <div>\n",
              "<style scoped>\n",
              "    .dataframe tbody tr th:only-of-type {\n",
              "        vertical-align: middle;\n",
              "    }\n",
              "\n",
              "    .dataframe tbody tr th {\n",
              "        vertical-align: top;\n",
              "    }\n",
              "\n",
              "    .dataframe thead th {\n",
              "        text-align: right;\n",
              "    }\n",
              "</style>\n",
              "<table border=\"1\" class=\"dataframe\">\n",
              "  <thead>\n",
              "    <tr style=\"text-align: right;\">\n",
              "      <th></th>\n",
              "      <th>CREATED_OPPORTUNITIES</th>\n",
              "      <th>THREE_MONTHS_ACV</th>\n",
              "      <th>THREE_MONTHS_OPP_WON_CVR</th>\n",
              "      <th>WON_CUSTOMERS</th>\n",
              "      <th>WON_REVENUE</th>\n",
              "    </tr>\n",
              "    <tr>\n",
              "      <th>DATE</th>\n",
              "      <th></th>\n",
              "      <th></th>\n",
              "      <th></th>\n",
              "      <th></th>\n",
              "      <th></th>\n",
              "    </tr>\n",
              "  </thead>\n",
              "  <tbody>\n",
              "    <tr>\n",
              "      <th>2014-08-01</th>\n",
              "      <td>0.001878</td>\n",
              "      <td>0.001275</td>\n",
              "      <td>0.125</td>\n",
              "      <td>0.003990</td>\n",
              "      <td>0.005896</td>\n",
              "    </tr>\n",
              "    <tr>\n",
              "      <th>2014-09-01</th>\n",
              "      <td>0.001127</td>\n",
              "      <td>0.000950</td>\n",
              "      <td>0.125</td>\n",
              "      <td>0.002394</td>\n",
              "      <td>0.001135</td>\n",
              "    </tr>\n",
              "    <tr>\n",
              "      <th>2014-10-01</th>\n",
              "      <td>0.000000</td>\n",
              "      <td>0.000950</td>\n",
              "      <td>0.125</td>\n",
              "      <td>0.000000</td>\n",
              "      <td>0.000000</td>\n",
              "    </tr>\n",
              "    <tr>\n",
              "      <th>2014-11-01</th>\n",
              "      <td>0.001127</td>\n",
              "      <td>0.000389</td>\n",
              "      <td>0.125</td>\n",
              "      <td>0.002394</td>\n",
              "      <td>0.001024</td>\n",
              "    </tr>\n",
              "    <tr>\n",
              "      <th>2014-12-01</th>\n",
              "      <td>0.000000</td>\n",
              "      <td>0.000369</td>\n",
              "      <td>0.125</td>\n",
              "      <td>0.000000</td>\n",
              "      <td>0.000000</td>\n",
              "    </tr>\n",
              "  </tbody>\n",
              "</table>\n",
              "</div>\n",
              "      <button class=\"colab-df-convert\" onclick=\"convertToInteractive('df-41c8e18c-65e6-41f7-afa0-553ecdd95670')\"\n",
              "              title=\"Convert this dataframe to an interactive table.\"\n",
              "              style=\"display:none;\">\n",
              "        \n",
              "  <svg xmlns=\"http://www.w3.org/2000/svg\" height=\"24px\"viewBox=\"0 0 24 24\"\n",
              "       width=\"24px\">\n",
              "    <path d=\"M0 0h24v24H0V0z\" fill=\"none\"/>\n",
              "    <path d=\"M18.56 5.44l.94 2.06.94-2.06 2.06-.94-2.06-.94-.94-2.06-.94 2.06-2.06.94zm-11 1L8.5 8.5l.94-2.06 2.06-.94-2.06-.94L8.5 2.5l-.94 2.06-2.06.94zm10 10l.94 2.06.94-2.06 2.06-.94-2.06-.94-.94-2.06-.94 2.06-2.06.94z\"/><path d=\"M17.41 7.96l-1.37-1.37c-.4-.4-.92-.59-1.43-.59-.52 0-1.04.2-1.43.59L10.3 9.45l-7.72 7.72c-.78.78-.78 2.05 0 2.83L4 21.41c.39.39.9.59 1.41.59.51 0 1.02-.2 1.41-.59l7.78-7.78 2.81-2.81c.8-.78.8-2.07 0-2.86zM5.41 20L4 18.59l7.72-7.72 1.47 1.35L5.41 20z\"/>\n",
              "  </svg>\n",
              "      </button>\n",
              "      \n",
              "  <style>\n",
              "    .colab-df-container {\n",
              "      display:flex;\n",
              "      flex-wrap:wrap;\n",
              "      gap: 12px;\n",
              "    }\n",
              "\n",
              "    .colab-df-convert {\n",
              "      background-color: #E8F0FE;\n",
              "      border: none;\n",
              "      border-radius: 50%;\n",
              "      cursor: pointer;\n",
              "      display: none;\n",
              "      fill: #1967D2;\n",
              "      height: 32px;\n",
              "      padding: 0 0 0 0;\n",
              "      width: 32px;\n",
              "    }\n",
              "\n",
              "    .colab-df-convert:hover {\n",
              "      background-color: #E2EBFA;\n",
              "      box-shadow: 0px 1px 2px rgba(60, 64, 67, 0.3), 0px 1px 3px 1px rgba(60, 64, 67, 0.15);\n",
              "      fill: #174EA6;\n",
              "    }\n",
              "\n",
              "    [theme=dark] .colab-df-convert {\n",
              "      background-color: #3B4455;\n",
              "      fill: #D2E3FC;\n",
              "    }\n",
              "\n",
              "    [theme=dark] .colab-df-convert:hover {\n",
              "      background-color: #434B5C;\n",
              "      box-shadow: 0px 1px 3px 1px rgba(0, 0, 0, 0.15);\n",
              "      filter: drop-shadow(0px 1px 2px rgba(0, 0, 0, 0.3));\n",
              "      fill: #FFFFFF;\n",
              "    }\n",
              "  </style>\n",
              "\n",
              "      <script>\n",
              "        const buttonEl =\n",
              "          document.querySelector('#df-41c8e18c-65e6-41f7-afa0-553ecdd95670 button.colab-df-convert');\n",
              "        buttonEl.style.display =\n",
              "          google.colab.kernel.accessAllowed ? 'block' : 'none';\n",
              "\n",
              "        async function convertToInteractive(key) {\n",
              "          const element = document.querySelector('#df-41c8e18c-65e6-41f7-afa0-553ecdd95670');\n",
              "          const dataTable =\n",
              "            await google.colab.kernel.invokeFunction('convertToInteractive',\n",
              "                                                     [key], {});\n",
              "          if (!dataTable) return;\n",
              "\n",
              "          const docLinkHtml = 'Like what you see? Visit the ' +\n",
              "            '<a target=\"_blank\" href=https://colab.research.google.com/notebooks/data_table.ipynb>data table notebook</a>'\n",
              "            + ' to learn more about interactive tables.';\n",
              "          element.innerHTML = '';\n",
              "          dataTable['output_type'] = 'display_data';\n",
              "          await google.colab.output.renderOutput(dataTable, element);\n",
              "          const docLink = document.createElement('div');\n",
              "          docLink.innerHTML = docLinkHtml;\n",
              "          element.appendChild(docLink);\n",
              "        }\n",
              "      </script>\n",
              "    </div>\n",
              "  </div>\n",
              "  "
            ]
          },
          "metadata": {},
          "execution_count": 41
        }
      ],
      "source": [
        "# scale data to get an overview of the distribution of each metric\n",
        "minMax = MinMaxScaler()\n",
        "df_scaled = pd.DataFrame(minMax.fit_transform(df),index=df.index,columns=df.columns)\n",
        "df_scaled.head()"
      ]
    },
    {
      "cell_type": "code",
      "execution_count": null,
      "metadata": {
        "colab": {
          "base_uri": "https://localhost:8080/",
          "height": 528
        },
        "outputId": "7a267b7a-c886-4624-b3c3-82f617ea4e24",
        "id": "lgaBFbu2ufaL"
      },
      "outputs": [
        {
          "output_type": "display_data",
          "data": {
            "text/plain": [
              "<Figure size 1600x600 with 1 Axes>"
            ],
            "image/png": "[encoded data removed]"
          },
          "metadata": {}
        }
      ],
      "source": [
        "sns.set(rc={'figure.figsize':(16,6)})\n",
        "sns.boxplot(data=df_scaled);"
      ]
    },
    {
      "cell_type": "code",
      "execution_count": null,
      "metadata": {
        "id": "Q-OaJwoQufaL"
      },
      "outputs": [],
      "source": [
        "# print variance per metric (unscaled)\n",
        "df.var()"
      ]
    },
    {
      "cell_type": "code",
      "execution_count": null,
      "metadata": {
        "colab": {
          "base_uri": "https://localhost:8080/"
        },
        "outputId": "ca743040-9411-4f3d-d0d3-49e2e3bc5e9d",
        "id": "RIWVQD6XufaL"
      },
      "outputs": [
        {
          "output_type": "execute_result",
          "data": {
            "text/plain": [
              "CREATED_OPPORTUNITIES       0.057372\n",
              "THREE_MONTHS_ACV            0.037718\n",
              "THREE_MONTHS_OPP_WON_CVR    0.080547\n",
              "WON_CUSTOMERS               0.016833\n",
              "WON_REVENUE                 0.018257\n",
              "dtype: float64"
            ]
          },
          "metadata": {},
          "execution_count": 44
        }
      ],
      "source": [
        "# print variance per metric (scaled)\n",
        "df_scaled.var()"
      ]
    },
    {
      "cell_type": "code",
      "execution_count": null,
      "metadata": {
        "colab": {
          "base_uri": "https://localhost:8080/",
          "height": 238
        },
        "outputId": "fc9ebb95-6b1d-4d0b-ca5f-fb5fc461a72d",
        "id": "0ss818m-ufaL"
      },
      "outputs": [
        {
          "output_type": "execute_result",
          "data": {
            "text/plain": [
              "            WON_REVENUE\n",
              "DATE                   \n",
              "2014-08-01       411.75\n",
              "2014-09-01        79.25\n",
              "2014-10-01         0.00\n",
              "2014-11-01        71.50\n",
              "2014-12-01         0.00"
            ],
            "text/html": [
              "\n",
              "  <div id=\"df-419f6ff2-9b70-438c-951c-d1291d100e93\">\n",
              "    <div class=\"colab-df-container\">\n",
              "      <div>\n",
              "<style scoped>\n",
              "    .dataframe tbody tr th:only-of-type {\n",
              "        vertical-align: middle;\n",
              "    }\n",
              "\n",
              "    .dataframe tbody tr th {\n",
              "        vertical-align: top;\n",
              "    }\n",
              "\n",
              "    .dataframe thead th {\n",
              "        text-align: right;\n",
              "    }\n",
              "</style>\n",
              "<table border=\"1\" class=\"dataframe\">\n",
              "  <thead>\n",
              "    <tr style=\"text-align: right;\">\n",
              "      <th></th>\n",
              "      <th>WON_REVENUE</th>\n",
              "    </tr>\n",
              "    <tr>\n",
              "      <th>DATE</th>\n",
              "      <th></th>\n",
              "    </tr>\n",
              "  </thead>\n",
              "  <tbody>\n",
              "    <tr>\n",
              "      <th>2014-08-01</th>\n",
              "      <td>411.75</td>\n",
              "    </tr>\n",
              "    <tr>\n",
              "      <th>2014-09-01</th>\n",
              "      <td>79.25</td>\n",
              "    </tr>\n",
              "    <tr>\n",
              "      <th>2014-10-01</th>\n",
              "      <td>0.00</td>\n",
              "    </tr>\n",
              "    <tr>\n",
              "      <th>2014-11-01</th>\n",
              "      <td>71.50</td>\n",
              "    </tr>\n",
              "    <tr>\n",
              "      <th>2014-12-01</th>\n",
              "      <td>0.00</td>\n",
              "    </tr>\n",
              "  </tbody>\n",
              "</table>\n",
              "</div>\n",
              "      <button class=\"colab-df-convert\" onclick=\"convertToInteractive('df-419f6ff2-9b70-438c-951c-d1291d100e93')\"\n",
              "              title=\"Convert this dataframe to an interactive table.\"\n",
              "              style=\"display:none;\">\n",
              "        \n",
              "  <svg xmlns=\"http://www.w3.org/2000/svg\" height=\"24px\"viewBox=\"0 0 24 24\"\n",
              "       width=\"24px\">\n",
              "    <path d=\"M0 0h24v24H0V0z\" fill=\"none\"/>\n",
              "    <path d=\"M18.56 5.44l.94 2.06.94-2.06 2.06-.94-2.06-.94-.94-2.06-.94 2.06-2.06.94zm-11 1L8.5 8.5l.94-2.06 2.06-.94-2.06-.94L8.5 2.5l-.94 2.06-2.06.94zm10 10l.94 2.06.94-2.06 2.06-.94-2.06-.94-.94-2.06-.94 2.06-2.06.94z\"/><path d=\"M17.41 7.96l-1.37-1.37c-.4-.4-.92-.59-1.43-.59-.52 0-1.04.2-1.43.59L10.3 9.45l-7.72 7.72c-.78.78-.78 2.05 0 2.83L4 21.41c.39.39.9.59 1.41.59.51 0 1.02-.2 1.41-.59l7.78-7.78 2.81-2.81c.8-.78.8-2.07 0-2.86zM5.41 20L4 18.59l7.72-7.72 1.47 1.35L5.41 20z\"/>\n",
              "  </svg>\n",
              "      </button>\n",
              "      \n",
              "  <style>\n",
              "    .colab-df-container {\n",
              "      display:flex;\n",
              "      flex-wrap:wrap;\n",
              "      gap: 12px;\n",
              "    }\n",
              "\n",
              "    .colab-df-convert {\n",
              "      background-color: #E8F0FE;\n",
              "      border: none;\n",
              "      border-radius: 50%;\n",
              "      cursor: pointer;\n",
              "      display: none;\n",
              "      fill: #1967D2;\n",
              "      height: 32px;\n",
              "      padding: 0 0 0 0;\n",
              "      width: 32px;\n",
              "    }\n",
              "\n",
              "    .colab-df-convert:hover {\n",
              "      background-color: #E2EBFA;\n",
              "      box-shadow: 0px 1px 2px rgba(60, 64, 67, 0.3), 0px 1px 3px 1px rgba(60, 64, 67, 0.15);\n",
              "      fill: #174EA6;\n",
              "    }\n",
              "\n",
              "    [theme=dark] .colab-df-convert {\n",
              "      background-color: #3B4455;\n",
              "      fill: #D2E3FC;\n",
              "    }\n",
              "\n",
              "    [theme=dark] .colab-df-convert:hover {\n",
              "      background-color: #434B5C;\n",
              "      box-shadow: 0px 1px 3px 1px rgba(0, 0, 0, 0.15);\n",
              "      filter: drop-shadow(0px 1px 2px rgba(0, 0, 0, 0.3));\n",
              "      fill: #FFFFFF;\n",
              "    }\n",
              "  </style>\n",
              "\n",
              "      <script>\n",
              "        const buttonEl =\n",
              "          document.querySelector('#df-419f6ff2-9b70-438c-951c-d1291d100e93 button.colab-df-convert');\n",
              "        buttonEl.style.display =\n",
              "          google.colab.kernel.accessAllowed ? 'block' : 'none';\n",
              "\n",
              "        async function convertToInteractive(key) {\n",
              "          const element = document.querySelector('#df-419f6ff2-9b70-438c-951c-d1291d100e93');\n",
              "          const dataTable =\n",
              "            await google.colab.kernel.invokeFunction('convertToInteractive',\n",
              "                                                     [key], {});\n",
              "          if (!dataTable) return;\n",
              "\n",
              "          const docLinkHtml = 'Like what you see? Visit the ' +\n",
              "            '<a target=\"_blank\" href=https://colab.research.google.com/notebooks/data_table.ipynb>data table notebook</a>'\n",
              "            + ' to learn more about interactive tables.';\n",
              "          element.innerHTML = '';\n",
              "          dataTable['output_type'] = 'display_data';\n",
              "          await google.colab.output.renderOutput(dataTable, element);\n",
              "          const docLink = document.createElement('div');\n",
              "          docLink.innerHTML = docLinkHtml;\n",
              "          element.appendChild(docLink);\n",
              "        }\n",
              "      </script>\n",
              "    </div>\n",
              "  </div>\n",
              "  "
            ]
          },
          "metadata": {},
          "execution_count": 45
        }
      ],
      "source": [
        "# create new DataFrame which only includes WON_REVENUE\n",
        "won_revenue = df[['WON_REVENUE']].copy()\n",
        "won_revenue_scaled = df_scaled[['WON_REVENUE']].copy()\n",
        "won_revenue.head()"
      ]
    },
    {
      "cell_type": "code",
      "execution_count": null,
      "metadata": {
        "id": "F-fMRHkkufaL"
      },
      "outputs": [],
      "source": [
        "# plot wo_revenue\n",
        "won_revenue.plot(figsize=(15,7.5))\n",
        "plt.grid(axis='y')\n",
        "plt.xlabel('DATE', fontsize=20)\n",
        "plt.ylabel('WON_REVENUE', fontsize=20)\n",
        "plt.show()"
      ]
    },
    {
      "cell_type": "code",
      "execution_count": null,
      "metadata": {
        "id": "zqzU5LBwufaL"
      },
      "outputs": [],
      "source": [
        "# print boxplot only for WON_REVENUE\n",
        "sns.set(rc={'figure.figsize':(8,6)})\n",
        "sns.boxplot(data=won_revenue);"
      ]
    },
    {
      "cell_type": "code",
      "execution_count": null,
      "metadata": {
        "id": "DlmBSQzKufaL"
      },
      "outputs": [],
      "source": [
        "# print lag plot\n",
        "lag_plot(won_revenue)\n",
        "plt.grid()\n",
        "plt.show()"
      ]
    },
    {
      "cell_type": "code",
      "execution_count": null,
      "metadata": {
        "id": "o62-RI3JufaL"
      },
      "outputs": [],
      "source": [
        "# execute time-series decomposition and plot the result\n",
        "result=seasonal_decompose(won_revenue['WON_REVENUE'], model='additive', period=12)\n",
        "result.plot()\n",
        "plt.show()"
      ]
    },
    {
      "cell_type": "code",
      "source": [
        "# plot the ACF for the residuals of the decomposition\n",
        "plot_acf(result.resid.dropna(),lags=24, title='Resid ACF')\n",
        "plt.show()"
      ],
      "metadata": {
        "colab": {
          "base_uri": "https://localhost:8080/",
          "height": 550
        },
        "outputId": "c066897a-d459-4a84-ae4d-35b79d50b328",
        "id": "E-PcdVszufaL"
      },
      "execution_count": null,
      "outputs": [
        {
          "output_type": "display_data",
          "data": {
            "text/plain": [
              "<Figure size 900x600 with 1 Axes>"
            ],
            "image/png": "[encoded data removed]"
          },
          "metadata": {}
        }
      ]
    },
    {
      "cell_type": "code",
      "source": [
        "# ADF test to test autocorrelation within the residuals\n",
        "ad_fuller_result = adfuller(result.resid.dropna())\n",
        "print(f'ADF Statistic: {ad_fuller_result[0]}')\n",
        "print(f'p-value: {ad_fuller_result[1]}')"
      ],
      "metadata": {
        "colab": {
          "base_uri": "https://localhost:8080/"
        },
        "outputId": "357468e2-92eb-41f1-cd47-83ee3c1b307d",
        "id": "ALCHftuiufaL"
      },
      "execution_count": null,
      "outputs": [
        {
          "output_type": "stream",
          "name": "stdout",
          "text": [
            "ADF Statistic: -6.473595027227986\n",
            "p-value: 1.348180808048594e-08\n"
          ]
        }
      ]
    },
    {
      "cell_type": "markdown",
      "source": [
        "-> result indicates stationary residuals"
      ],
      "metadata": {
        "id": "fWlwt0ybufaL"
      }
    },
    {
      "cell_type": "code",
      "source": [
        "# plot ACF for WON_REVENUE\n",
        "plot_acf(won_revenue,lags=24, title='Won Revenue ACF')\n",
        "plt.show()"
      ],
      "metadata": {
        "colab": {
          "base_uri": "https://localhost:8080/",
          "height": 550
        },
        "outputId": "69c4ee4e-ffef-4b59-92a1-2c895aa8169f",
        "id": "g76sUhf4ufaL"
      },
      "execution_count": null,
      "outputs": [
        {
          "output_type": "display_data",
          "data": {
            "text/plain": [
              "<Figure size 900x600 with 1 Axes>"
            ],
            "image/png": "[encoded data removed]"
          },
          "metadata": {}
        }
      ]
    },
    {
      "cell_type": "code",
      "source": [
        "# ADF test to test autocorrelation within WON_REVENUE\n",
        "ad_fuller_result = adfuller(won_revenue)\n",
        "print(f'ADF Statistic: {ad_fuller_result[0]}')\n",
        "print(f'p-value: {ad_fuller_result[1]}')"
      ],
      "metadata": {
        "colab": {
          "base_uri": "https://localhost:8080/"
        },
        "outputId": "7a193a8c-3bdf-4755-b153-7e5d1f1014df",
        "id": "GBOLWEUzufaL"
      },
      "execution_count": null,
      "outputs": [
        {
          "output_type": "stream",
          "name": "stdout",
          "text": [
            "ADF Statistic: -8.854322715614037\n",
            "p-value: 1.5425627014211757e-14\n"
          ]
        }
      ]
    },
    {
      "cell_type": "code",
      "source": [
        "won_revenue_shortened = won_revenue[-24:]"
      ],
      "metadata": {
        "id": "5pwY7gmi8S7R"
      },
      "execution_count": null,
      "outputs": []
    },
    {
      "cell_type": "code",
      "execution_count": null,
      "metadata": {
        "colab": {
          "base_uri": "https://localhost:8080/",
          "height": 550
        },
        "id": "tz4zzx0Y_vvE",
        "outputId": "f425a451-dfc2-4083-ad9e-b456a53eb278"
      },
      "outputs": [
        {
          "output_type": "display_data",
          "data": {
            "text/plain": [
              "<Figure size 900x600 with 1 Axes>"
            ],
            "image/png": "[encoded data removed]"
          },
          "metadata": {}
        }
      ],
      "source": [
        "plot_acf(won_revenue_shortened,lags=23,title='Autocorrelation - last 2 years');"
      ]
    },
    {
      "cell_type": "code",
      "execution_count": null,
      "metadata": {
        "colab": {
          "base_uri": "https://localhost:8080/"
        },
        "id": "Y8ekK_Ht_vvE",
        "outputId": "34f691df-df63-4574-8d5e-463c6ec23b00"
      },
      "outputs": [
        {
          "output_type": "stream",
          "name": "stdout",
          "text": [
            "ADF Statistic: -1.0136237405068114\n",
            "p-value: 0.7482629797225187\n"
          ]
        }
      ],
      "source": [
        "ad_fuller_result = adfuller(won_revenue_shortened[\"WON_REVENUE\"])\n",
        "print(f'ADF Statistic: {ad_fuller_result[0]}')\n",
        "print(f'p-value: {ad_fuller_result[1]}')"
      ]
    },
    {
      "cell_type": "markdown",
      "metadata": {
        "id": "alpotJGqujQH"
      },
      "source": [
        "### C6"
      ]
    },
    {
      "cell_type": "code",
      "execution_count": null,
      "metadata": {
        "id": "kW8LixM5ujQI"
      },
      "outputs": [],
      "source": [
        "# load dataset\n",
        "worksheet = gc.open('C6').sheet1\n",
        "rows = worksheet.get_all_values()\n",
        "\n",
        "# create DataFrame that includes all data on WON_REVENUE from the dataset\n",
        "df = pd.DataFrame.from_records(rows[1:],columns=rows[0])\n",
        "df['VALUE'] = pd.to_numeric(df['VALUE'])\n",
        "df['DATE'] = pd.to_datetime(df['DATE'])\n",
        "df.head()"
      ]
    },
    {
      "cell_type": "code",
      "execution_count": null,
      "metadata": {
        "id": "1R2zL7NxujQJ"
      },
      "outputs": [],
      "source": [
        "# remove splits i.e., group data only by date and metric\n",
        "df = pd.DataFrame(df.groupby(['DATE','METRIC'])['VALUE'].sum())\n",
        "df = df.reset_index()\n",
        "df"
      ]
    },
    {
      "cell_type": "code",
      "source": [
        "# use only train set, i.e., remove data from 2022\n",
        "df = df[df['DATE']<pd.Timestamp('2022-01-01')]"
      ],
      "metadata": {
        "id": "V2cUn49nujQJ"
      },
      "execution_count": null,
      "outputs": []
    },
    {
      "cell_type": "code",
      "execution_count": null,
      "metadata": {
        "id": "Zw_WfYz4ujQJ"
      },
      "outputs": [],
      "source": [
        "# pivot data\n",
        "df = df.pivot(index=['DATE'],columns=['METRIC'],values=['VALUE'])\n",
        "df.columns = [col[1] for col in df.columns]\n",
        "df"
      ]
    },
    {
      "cell_type": "code",
      "execution_count": null,
      "metadata": {
        "id": "6n5pzwQdujQJ"
      },
      "outputs": [],
      "source": [
        "# print summary statistics\n",
        "df.describe()"
      ]
    },
    {
      "cell_type": "code",
      "execution_count": null,
      "metadata": {
        "colab": {
          "base_uri": "https://localhost:8080/"
        },
        "outputId": "f2c9fdc8-ba51-4d3e-f589-1ab3ce8dbb81",
        "id": "TOr0wSizujQJ"
      },
      "outputs": [
        {
          "output_type": "stream",
          "name": "stdout",
          "text": [
            "Number of NaN values in CREATED_OPPORTUNITIES: 0\n",
            "Number of NaN values in THREE_MONTHS_ACV: 0\n",
            "Number of NaN values in THREE_MONTHS_OPP_WON_CVR: 0\n",
            "Number of NaN values in WON_CUSTOMERS: 0\n",
            "Number of NaN values in WON_REVENUE: 0\n"
          ]
        }
      ],
      "source": [
        "# ensuring that no empty values are present in the data\n",
        "print('Number of NaN values in CREATED_OPPORTUNITIES:',len(df[df['CREATED_OPPORTUNITIES'].isnull()]))\n",
        "print('Number of NaN values in THREE_MONTHS_ACV:',len(df[df['THREE_MONTHS_ACV'].isnull()]))\n",
        "print('Number of NaN values in THREE_MONTHS_OPP_WON_CVR:',len(df[df['THREE_MONTHS_OPP_WON_CVR'].isnull()]))\n",
        "print('Number of NaN values in WON_CUSTOMERS:',len(df[df['WON_CUSTOMERS'].isnull()]))\n",
        "print('Number of NaN values in WON_REVENUE:',len(df[df['WON_REVENUE'].isnull()]))"
      ]
    },
    {
      "cell_type": "code",
      "execution_count": null,
      "metadata": {
        "colab": {
          "base_uri": "https://localhost:8080/",
          "height": 388
        },
        "outputId": "20a1d5cb-ccce-4f34-daa5-50f6406aeeba",
        "id": "GojnBgKTujQJ"
      },
      "outputs": [
        {
          "output_type": "execute_result",
          "data": {
            "text/plain": [
              "            CREATED_OPPORTUNITIES  SIX_MONTHS_ACV  SIX_MONTHS_OPP_WON_CVR  \\\n",
              "DATE                                                                        \n",
              "2016-06-01                   0.05        0.000000                0.000000   \n",
              "2016-07-01                   0.00        0.000000                0.000000   \n",
              "2016-08-01                   0.00        0.000000                0.000000   \n",
              "2016-09-01                   0.00        0.000000                0.000000   \n",
              "2016-10-01                   0.20        0.010129                0.060606   \n",
              "\n",
              "            THREE_MONTHS_ACV  THREE_MONTHS_OPP_WON_CVR  WON_CUSTOMERS  \\\n",
              "DATE                                                                    \n",
              "2016-06-01          0.000000                  0.000000           0.00   \n",
              "2016-07-01          0.000000                  0.000000           0.00   \n",
              "2016-08-01          0.000000                  0.000000           0.00   \n",
              "2016-09-01          0.000000                  0.000000           0.00   \n",
              "2016-10-01          0.007062                  0.055555           0.25   \n",
              "\n",
              "            WON_REVENUE  \n",
              "DATE                     \n",
              "2016-06-01     0.000000  \n",
              "2016-07-01     0.000000  \n",
              "2016-08-01     0.000000  \n",
              "2016-09-01     0.000000  \n",
              "2016-10-01     0.009133  "
            ],
            "text/html": [
              "\n",
              "  <div id=\"df-3a4b65c2-c7a9-429e-a635-086be1846a1f\">\n",
              "    <div class=\"colab-df-container\">\n",
              "      <div>\n",
              "<style scoped>\n",
              "    .dataframe tbody tr th:only-of-type {\n",
              "        vertical-align: middle;\n",
              "    }\n",
              "\n",
              "    .dataframe tbody tr th {\n",
              "        vertical-align: top;\n",
              "    }\n",
              "\n",
              "    .dataframe thead th {\n",
              "        text-align: right;\n",
              "    }\n",
              "</style>\n",
              "<table border=\"1\" class=\"dataframe\">\n",
              "  <thead>\n",
              "    <tr style=\"text-align: right;\">\n",
              "      <th></th>\n",
              "      <th>CREATED_OPPORTUNITIES</th>\n",
              "      <th>SIX_MONTHS_ACV</th>\n",
              "      <th>SIX_MONTHS_OPP_WON_CVR</th>\n",
              "      <th>THREE_MONTHS_ACV</th>\n",
              "      <th>THREE_MONTHS_OPP_WON_CVR</th>\n",
              "      <th>WON_CUSTOMERS</th>\n",
              "      <th>WON_REVENUE</th>\n",
              "    </tr>\n",
              "    <tr>\n",
              "      <th>DATE</th>\n",
              "      <th></th>\n",
              "      <th></th>\n",
              "      <th></th>\n",
              "      <th></th>\n",
              "      <th></th>\n",
              "      <th></th>\n",
              "      <th></th>\n",
              "    </tr>\n",
              "  </thead>\n",
              "  <tbody>\n",
              "    <tr>\n",
              "      <th>2016-06-01</th>\n",
              "      <td>0.05</td>\n",
              "      <td>0.000000</td>\n",
              "      <td>0.000000</td>\n",
              "      <td>0.000000</td>\n",
              "      <td>0.000000</td>\n",
              "      <td>0.00</td>\n",
              "      <td>0.000000</td>\n",
              "    </tr>\n",
              "    <tr>\n",
              "      <th>2016-07-01</th>\n",
              "      <td>0.00</td>\n",
              "      <td>0.000000</td>\n",
              "      <td>0.000000</td>\n",
              "      <td>0.000000</td>\n",
              "      <td>0.000000</td>\n",
              "      <td>0.00</td>\n",
              "      <td>0.000000</td>\n",
              "    </tr>\n",
              "    <tr>\n",
              "      <th>2016-08-01</th>\n",
              "      <td>0.00</td>\n",
              "      <td>0.000000</td>\n",
              "      <td>0.000000</td>\n",
              "      <td>0.000000</td>\n",
              "      <td>0.000000</td>\n",
              "      <td>0.00</td>\n",
              "      <td>0.000000</td>\n",
              "    </tr>\n",
              "    <tr>\n",
              "      <th>2016-09-01</th>\n",
              "      <td>0.00</td>\n",
              "      <td>0.000000</td>\n",
              "      <td>0.000000</td>\n",
              "      <td>0.000000</td>\n",
              "      <td>0.000000</td>\n",
              "      <td>0.00</td>\n",
              "      <td>0.000000</td>\n",
              "    </tr>\n",
              "    <tr>\n",
              "      <th>2016-10-01</th>\n",
              "      <td>0.20</td>\n",
              "      <td>0.010129</td>\n",
              "      <td>0.060606</td>\n",
              "      <td>0.007062</td>\n",
              "      <td>0.055555</td>\n",
              "      <td>0.25</td>\n",
              "      <td>0.009133</td>\n",
              "    </tr>\n",
              "  </tbody>\n",
              "</table>\n",
              "</div>\n",
              "      <button class=\"colab-df-convert\" onclick=\"convertToInteractive('df-3a4b65c2-c7a9-429e-a635-086be1846a1f')\"\n",
              "              title=\"Convert this dataframe to an interactive table.\"\n",
              "              style=\"display:none;\">\n",
              "        \n",
              "  <svg xmlns=\"http://www.w3.org/2000/svg\" height=\"24px\"viewBox=\"0 0 24 24\"\n",
              "       width=\"24px\">\n",
              "    <path d=\"M0 0h24v24H0V0z\" fill=\"none\"/>\n",
              "    <path d=\"M18.56 5.44l.94 2.06.94-2.06 2.06-.94-2.06-.94-.94-2.06-.94 2.06-2.06.94zm-11 1L8.5 8.5l.94-2.06 2.06-.94-2.06-.94L8.5 2.5l-.94 2.06-2.06.94zm10 10l.94 2.06.94-2.06 2.06-.94-2.06-.94-.94-2.06-.94 2.06-2.06.94z\"/><path d=\"M17.41 7.96l-1.37-1.37c-.4-.4-.92-.59-1.43-.59-.52 0-1.04.2-1.43.59L10.3 9.45l-7.72 7.72c-.78.78-.78 2.05 0 2.83L4 21.41c.39.39.9.59 1.41.59.51 0 1.02-.2 1.41-.59l7.78-7.78 2.81-2.81c.8-.78.8-2.07 0-2.86zM5.41 20L4 18.59l7.72-7.72 1.47 1.35L5.41 20z\"/>\n",
              "  </svg>\n",
              "      </button>\n",
              "      \n",
              "  <style>\n",
              "    .colab-df-container {\n",
              "      display:flex;\n",
              "      flex-wrap:wrap;\n",
              "      gap: 12px;\n",
              "    }\n",
              "\n",
              "    .colab-df-convert {\n",
              "      background-color: #E8F0FE;\n",
              "      border: none;\n",
              "      border-radius: 50%;\n",
              "      cursor: pointer;\n",
              "      display: none;\n",
              "      fill: #1967D2;\n",
              "      height: 32px;\n",
              "      padding: 0 0 0 0;\n",
              "      width: 32px;\n",
              "    }\n",
              "\n",
              "    .colab-df-convert:hover {\n",
              "      background-color: #E2EBFA;\n",
              "      box-shadow: 0px 1px 2px rgba(60, 64, 67, 0.3), 0px 1px 3px 1px rgba(60, 64, 67, 0.15);\n",
              "      fill: #174EA6;\n",
              "    }\n",
              "\n",
              "    [theme=dark] .colab-df-convert {\n",
              "      background-color: #3B4455;\n",
              "      fill: #D2E3FC;\n",
              "    }\n",
              "\n",
              "    [theme=dark] .colab-df-convert:hover {\n",
              "      background-color: #434B5C;\n",
              "      box-shadow: 0px 1px 3px 1px rgba(0, 0, 0, 0.15);\n",
              "      filter: drop-shadow(0px 1px 2px rgba(0, 0, 0, 0.3));\n",
              "      fill: #FFFFFF;\n",
              "    }\n",
              "  </style>\n",
              "\n",
              "      <script>\n",
              "        const buttonEl =\n",
              "          document.querySelector('#df-3a4b65c2-c7a9-429e-a635-086be1846a1f button.colab-df-convert');\n",
              "        buttonEl.style.display =\n",
              "          google.colab.kernel.accessAllowed ? 'block' : 'none';\n",
              "\n",
              "        async function convertToInteractive(key) {\n",
              "          const element = document.querySelector('#df-3a4b65c2-c7a9-429e-a635-086be1846a1f');\n",
              "          const dataTable =\n",
              "            await google.colab.kernel.invokeFunction('convertToInteractive',\n",
              "                                                     [key], {});\n",
              "          if (!dataTable) return;\n",
              "\n",
              "          const docLinkHtml = 'Like what you see? Visit the ' +\n",
              "            '<a target=\"_blank\" href=https://colab.research.google.com/notebooks/data_table.ipynb>data table notebook</a>'\n",
              "            + ' to learn more about interactive tables.';\n",
              "          element.innerHTML = '';\n",
              "          dataTable['output_type'] = 'display_data';\n",
              "          await google.colab.output.renderOutput(dataTable, element);\n",
              "          const docLink = document.createElement('div');\n",
              "          docLink.innerHTML = docLinkHtml;\n",
              "          element.appendChild(docLink);\n",
              "        }\n",
              "      </script>\n",
              "    </div>\n",
              "  </div>\n",
              "  "
            ]
          },
          "metadata": {},
          "execution_count": 105
        }
      ],
      "source": [
        "# scale data to get an overview of the distribution of each metric\n",
        "minMax = MinMaxScaler()\n",
        "df_scaled = pd.DataFrame(minMax.fit_transform(df),index=df.index,columns=df.columns)\n",
        "df_scaled.head()"
      ]
    },
    {
      "cell_type": "code",
      "execution_count": null,
      "metadata": {
        "colab": {
          "base_uri": "https://localhost:8080/",
          "height": 269
        },
        "outputId": "5b38046c-7081-4538-8980-567bd48fee13",
        "id": "-jAO7WBdujQJ"
      },
      "outputs": [
        {
          "output_type": "display_data",
          "data": {
            "text/plain": [
              "<Figure size 1600x600 with 1 Axes>"
            ],
            "image/png": "[encoded data removed]"
          },
          "metadata": {}
        }
      ],
      "source": [
        "# print boxplot across metrics\n",
        "sns.set(rc={'figure.figsize':(16,6)})\n",
        "sns.boxplot(data=df_scaled);"
      ]
    },
    {
      "cell_type": "code",
      "execution_count": null,
      "metadata": {
        "id": "IGBw4UpBujQJ"
      },
      "outputs": [],
      "source": [
        "# print variance per metric (unscaled)\n",
        "df.var()"
      ]
    },
    {
      "cell_type": "code",
      "execution_count": null,
      "metadata": {
        "colab": {
          "base_uri": "https://localhost:8080/"
        },
        "outputId": "dd77f5d8-9f97-4fcc-e593-70130c7ec371",
        "id": "XMbVtTgXujQJ"
      },
      "outputs": [
        {
          "output_type": "execute_result",
          "data": {
            "text/plain": [
              "CREATED_OPPORTUNITIES       0.078709\n",
              "SIX_MONTHS_ACV              0.059840\n",
              "SIX_MONTHS_OPP_WON_CVR      0.041257\n",
              "THREE_MONTHS_ACV            0.030322\n",
              "THREE_MONTHS_OPP_WON_CVR    0.034442\n",
              "WON_CUSTOMERS               0.060041\n",
              "WON_REVENUE                 0.036711\n",
              "dtype: float64"
            ]
          },
          "metadata": {},
          "execution_count": 55
        }
      ],
      "source": [
        "# print variance per metric (scaled)\n",
        "df_scaled.var()"
      ]
    },
    {
      "cell_type": "code",
      "execution_count": null,
      "metadata": {
        "id": "B1BXD18kujQJ"
      },
      "outputs": [],
      "source": [
        "# create new DataFrame which only includes WON_REVENUE\n",
        "won_revenue = df[['WON_REVENUE']].copy()\n",
        "won_revenue_scaled = df_scaled[['WON_REVENUE']].copy()\n",
        "won_revenue.head()"
      ]
    },
    {
      "cell_type": "code",
      "execution_count": null,
      "metadata": {
        "id": "Q6f3WEp967xd"
      },
      "outputs": [],
      "source": [
        "# plot WON_REVENUE\n",
        "won_revenue.plot(figsize=(15,7.5))\n",
        "plt.grid(axis='y')\n",
        "plt.title('C6',fontsize=20)\n",
        "plt.xlabel('DATE', fontsize=20)\n",
        "plt.ylabel('WON_REVENUE', fontsize=20)\n",
        "plt.show()"
      ]
    },
    {
      "cell_type": "code",
      "execution_count": null,
      "metadata": {
        "id": "Satr14ri67xd"
      },
      "outputs": [],
      "source": [
        "# print boxplot only for WON_REVENUE\n",
        "sns.set(rc={'figure.figsize':(8,6)})\n",
        "sns.boxplot(data=won_revenue);"
      ]
    },
    {
      "cell_type": "code",
      "execution_count": null,
      "metadata": {
        "id": "2Kph2jQ-67xd"
      },
      "outputs": [],
      "source": [
        "# print lag plot\n",
        "lag_plot(won_revenue)\n",
        "plt.grid()\n",
        "plt.show()"
      ]
    },
    {
      "cell_type": "code",
      "execution_count": null,
      "metadata": {
        "id": "UKiRM9Iv67xd"
      },
      "outputs": [],
      "source": [
        "# execute time-series decomposition and plot the result\n",
        "result=seasonal_decompose(won_revenue['WON_REVENUE'], model='additive', period=12)\n",
        "result.plot();"
      ]
    },
    {
      "cell_type": "code",
      "source": [
        "# plot the ACF for the residuals of the decomposition\n",
        "plot_acf(result.resid.dropna(),lags=24, title='Resid ACF')\n",
        "plt.show()"
      ],
      "metadata": {
        "colab": {
          "base_uri": "https://localhost:8080/",
          "height": 550
        },
        "id": "sq_ywPCeQdN2",
        "outputId": "448ac233-e778-4736-e1f9-331e5607032e"
      },
      "execution_count": null,
      "outputs": [
        {
          "output_type": "display_data",
          "data": {
            "text/plain": [
              "<Figure size 900x600 with 1 Axes>"
            ],
            "image/png": "[encoded data removed]"
          },
          "metadata": {}
        }
      ]
    },
    {
      "cell_type": "code",
      "source": [
        "# ADF test to test autocorrelation within the residuals\n",
        "ad_fuller_result = adfuller(result.resid.dropna())\n",
        "print(f'ADF Statistic: {ad_fuller_result[0]}')\n",
        "print(f'p-value: {ad_fuller_result[1]}')"
      ],
      "metadata": {
        "colab": {
          "base_uri": "https://localhost:8080/"
        },
        "id": "In2ucep3JopV",
        "outputId": "8b45f2f1-3dfc-45cd-e7b4-433195d662d4"
      },
      "execution_count": null,
      "outputs": [
        {
          "output_type": "stream",
          "name": "stdout",
          "text": [
            "ADF Statistic: -4.240962753932546\n",
            "p-value: 0.0005612427145595004\n"
          ]
        }
      ]
    },
    {
      "cell_type": "markdown",
      "source": [
        "-> result indicates stationarity"
      ],
      "metadata": {
        "id": "LCnsDOu2vjyl"
      }
    },
    {
      "cell_type": "code",
      "source": [
        "# plot ACF for WON_REVENUE\n",
        "plot_acf(won_revenue,lags=24, title='Won Revenue ACF')\n",
        "plt.show()"
      ],
      "metadata": {
        "colab": {
          "base_uri": "https://localhost:8080/",
          "height": 550
        },
        "id": "LkTwCTPl5O_N",
        "outputId": "140ae0d8-0357-40af-9e9b-212622993df5"
      },
      "execution_count": null,
      "outputs": [
        {
          "output_type": "display_data",
          "data": {
            "text/plain": [
              "<Figure size 900x600 with 1 Axes>"
            ],
            "image/png": "[encoded data removed]"
          },
          "metadata": {}
        }
      ]
    },
    {
      "cell_type": "code",
      "execution_count": null,
      "metadata": {
        "colab": {
          "base_uri": "https://localhost:8080/"
        },
        "id": "f72ZsXDq64Ct",
        "outputId": "916092f5-6227-49c9-838d-95be76a5bd8f"
      },
      "outputs": [
        {
          "output_type": "stream",
          "name": "stdout",
          "text": [
            "ADF Statistic: 0.7589135879300991\n",
            "p-value: 0.990943158209373\n"
          ]
        }
      ],
      "source": [
        "# ADF test to test autocorrelation within WON_REVENUE\n",
        "ad_fuller_result = adfuller(won_revenue)\n",
        "print(f'ADF Statistic: {ad_fuller_result[0]}')\n",
        "print(f'p-value: {ad_fuller_result[1]}')"
      ]
    },
    {
      "cell_type": "markdown",
      "metadata": {
        "id": "CtXgfOGX7I99"
      },
      "source": [
        "-> result indicated the series needs differencing"
      ]
    },
    {
      "cell_type": "code",
      "execution_count": null,
      "metadata": {
        "colab": {
          "base_uri": "https://localhost:8080/"
        },
        "id": "4mvIhZDz_EVT",
        "outputId": "13148030-2cfd-47a5-a804-8d51a6c767b7"
      },
      "outputs": [
        {
          "output_type": "stream",
          "name": "stdout",
          "text": [
            "ADF Statistic: -2.302781383613198\n",
            "p-value: 0.1710724891088269\n"
          ]
        }
      ],
      "source": [
        "# ADF test on differenced series (d=1)\n",
        "ad_fuller_result = adfuller(won_revenue.diff(1).dropna())\n",
        "print(f'ADF Statistic: {ad_fuller_result[0]}')\n",
        "print(f'p-value: {ad_fuller_result[1]}')"
      ]
    },
    {
      "cell_type": "code",
      "execution_count": null,
      "metadata": {
        "colab": {
          "base_uri": "https://localhost:8080/"
        },
        "id": "DzHM8laC_J3W",
        "outputId": "8c09077e-28ca-4380-9ab7-1ccffbfa83b9"
      },
      "outputs": [
        {
          "output_type": "stream",
          "name": "stdout",
          "text": [
            "ADF Statistic: -2.057963358079175\n",
            "p-value: 0.26175004864615203\n"
          ]
        }
      ],
      "source": [
        "# ADF test on seasonally differenced series (D=1)\n",
        "ad_fuller_result = adfuller(won_revenue.diff(12).dropna())\n",
        "print(f'ADF Statistic: {ad_fuller_result[0]}')\n",
        "print(f'p-value: {ad_fuller_result[1]}')"
      ]
    },
    {
      "cell_type": "code",
      "execution_count": null,
      "metadata": {
        "colab": {
          "base_uri": "https://localhost:8080/"
        },
        "id": "NwIQ6-DkGPsy",
        "outputId": "7548b76b-9f43-45f2-a952-0d4e581f7c19"
      },
      "outputs": [
        {
          "output_type": "stream",
          "name": "stdout",
          "text": [
            "ADF Statistic: -8.424905698364748\n",
            "p-value: 1.9386398427373245e-13\n"
          ]
        }
      ],
      "source": [
        "# ADF test on multiply differenced series (d=2)\n",
        "ad_fuller_result = adfuller(won_revenue.diff(1).dropna().diff(1).dropna())\n",
        "print(f'ADF Statistic: {ad_fuller_result[0]}')\n",
        "print(f'p-value: {ad_fuller_result[1]}')"
      ]
    },
    {
      "cell_type": "code",
      "execution_count": null,
      "metadata": {
        "colab": {
          "base_uri": "https://localhost:8080/"
        },
        "id": "ikoURF0W_Msr",
        "outputId": "453bd147-7abd-4e75-d9f2-d0ed9533630c"
      },
      "outputs": [
        {
          "output_type": "stream",
          "name": "stdout",
          "text": [
            "ADF Statistic: -12.336012674485335\n",
            "p-value: 6.270861679917537e-23\n"
          ]
        }
      ],
      "source": [
        "# ADF test on multiply differenced series (d=1, D=1)\n",
        "ad_fuller_result = adfuller(won_revenue.diff(1).dropna().diff(12).dropna())\n",
        "print(f'ADF Statistic: {ad_fuller_result[0]}')\n",
        "print(f'p-value: {ad_fuller_result[1]}')"
      ]
    },
    {
      "cell_type": "markdown",
      "source": [
        "-> results indicate to use combined differencing"
      ],
      "metadata": {
        "id": "cgaZJ1hh7Dof"
      }
    },
    {
      "cell_type": "code",
      "execution_count": null,
      "metadata": {
        "id": "a1X0xQDK64Ct"
      },
      "outputs": [],
      "source": [
        "# plot differenced series\n",
        "plt.figure(figsize=[15, 7.5])\n",
        "plt.plot(won_revenue.diff(1).dropna().diff(12).dropna())\n",
        "plt.ylabel('WON_REVENUE diff')\n",
        "plt.xlabel('DATE')\n",
        "plt.xticks(rotation=90)\n",
        "plt.grid(axis='y')\n",
        "plt.show()"
      ]
    },
    {
      "cell_type": "code",
      "source": [
        "# shorten series to retain only most recent 2 years\n",
        "won_revenue_shortened = won_revenue[-24:]"
      ],
      "metadata": {
        "id": "SLV5Aur7-ZLn"
      },
      "execution_count": null,
      "outputs": []
    },
    {
      "cell_type": "code",
      "execution_count": null,
      "metadata": {
        "colab": {
          "base_uri": "https://localhost:8080/",
          "height": 450
        },
        "id": "VwglzruyE9wT",
        "outputId": "04912596-ed52-4eaa-c981-70ad6b8b81ae"
      },
      "outputs": [
        {
          "output_type": "display_data",
          "data": {
            "text/plain": [
              "<Figure size 900x600 with 1 Axes>"
            ],
            "image/png": "[encoded data removed]"
          },
          "metadata": {}
        }
      ],
      "source": [
        "# plot ACF for shortened version of WON_REVENUE\n",
        "plot_acf(won_revenue_shortened,lags=23, title='Autocorrelation - last 2 years');"
      ]
    },
    {
      "cell_type": "code",
      "execution_count": null,
      "metadata": {
        "colab": {
          "base_uri": "https://localhost:8080/"
        },
        "id": "p3IMeg88E9wT",
        "outputId": "cc109a01-39f9-49fd-9bfd-46ae0453c63f"
      },
      "outputs": [
        {
          "output_type": "stream",
          "name": "stdout",
          "text": [
            "ADF Statistic: -1.0136237405068114\n",
            "p-value: 0.7482629797225187\n"
          ]
        }
      ],
      "source": [
        "# ADF test to test autocorrelation within shortened version of WON_REVENUE\n",
        "ad_fuller_result = adfuller(won_revenue_shortened)\n",
        "print(f'ADF Statistic: {ad_fuller_result[0]}')\n",
        "print(f'p-value: {ad_fuller_result[1]}')"
      ]
    },
    {
      "cell_type": "markdown",
      "metadata": {
        "id": "biW-1Khurf2Y"
      },
      "source": [
        "-> result indicated the series needs differencing"
      ]
    },
    {
      "cell_type": "code",
      "execution_count": null,
      "metadata": {
        "colab": {
          "base_uri": "https://localhost:8080/"
        },
        "id": "N_nWFFkWE9wT",
        "outputId": "9637ea2d-22a3-4b7d-fb47-81cbab241ca5"
      },
      "outputs": [
        {
          "name": "stdout",
          "output_type": "stream",
          "text": [
            "ADF Statistic: -0.8454773478393635\n",
            "p-value: 0.8053972317882251\n"
          ]
        }
      ],
      "source": [
        "# ADF test on differenced series (d=1)\n",
        "ad_fuller_result = adfuller(won_revenue_shortened.diff(1).dropna())\n",
        "print(f'ADF Statistic: {ad_fuller_result[0]}')\n",
        "print(f'p-value: {ad_fuller_result[1]}')"
      ]
    },
    {
      "cell_type": "code",
      "execution_count": null,
      "metadata": {
        "colab": {
          "base_uri": "https://localhost:8080/"
        },
        "id": "gXrsSuoBp297",
        "outputId": "9f5e12d0-a591-4d13-bae8-4c41289335d9"
      },
      "outputs": [
        {
          "name": "stdout",
          "output_type": "stream",
          "text": [
            "ADF Statistic: -0.6713483848449113\n",
            "p-value: 0.8540320395030736\n"
          ]
        }
      ],
      "source": [
        "# ADF test on seasonally differenced series (D=1)\n",
        "ad_fuller_result = adfuller(won_revenue_shortened.diff(12).dropna())\n",
        "print(f'ADF Statistic: {ad_fuller_result[0]}')\n",
        "print(f'p-value: {ad_fuller_result[1]}')"
      ]
    },
    {
      "cell_type": "code",
      "execution_count": null,
      "metadata": {
        "colab": {
          "base_uri": "https://localhost:8080/"
        },
        "id": "JVMF7dozG6pz",
        "outputId": "a3e78e32-78ef-460f-8a1e-04b17b565db3"
      },
      "outputs": [
        {
          "name": "stdout",
          "output_type": "stream",
          "text": [
            "ADF Statistic: -0.29390284290990326\n",
            "p-value: 0.9263634440275866\n"
          ]
        }
      ],
      "source": [
        "# ADF test on multiply differenced series (d=2)\n",
        "ad_fuller_result = adfuller(won_revenue_shortened.diff(1).dropna().diff(1).dropna())\n",
        "print(f'ADF Statistic: {ad_fuller_result[0]}')\n",
        "print(f'p-value: {ad_fuller_result[1]}')"
      ]
    },
    {
      "cell_type": "code",
      "execution_count": null,
      "metadata": {
        "colab": {
          "base_uri": "https://localhost:8080/"
        },
        "id": "JiZmk7ubp5af",
        "outputId": "0613cd06-9a57-4ed9-db5a-fa47ab716fa0"
      },
      "outputs": [
        {
          "name": "stdout",
          "output_type": "stream",
          "text": [
            "ADF Statistic: -5.006058536725681\n",
            "p-value: 2.1588511189989817e-05\n"
          ]
        }
      ],
      "source": [
        "# ADF test on multiply differenced series (d=1, D=1)\n",
        "ad_fuller_result = adfuller(won_revenue_shortened.diff(1).dropna().diff(12).dropna())\n",
        "print(f'ADF Statistic: {ad_fuller_result[0]}')\n",
        "print(f'p-value: {ad_fuller_result[1]}')"
      ]
    },
    {
      "cell_type": "code",
      "execution_count": null,
      "metadata": {
        "id": "g22yiOl0E9wT"
      },
      "outputs": [],
      "source": [
        "# plot differenced series\n",
        "plt.figure(figsize=[15, 7.5])\n",
        "plt.plot(won_revenue_shortened.diff(1).dropna().diff(12).dropna())\n",
        "plt.ylabel('Won Revenue diff ($)')\n",
        "plt.xlabel('Date')\n",
        "plt.xticks(rotation=90)\n",
        "plt.grid(axis='y')\n",
        "plt.show()"
      ]
    },
    {
      "cell_type": "markdown",
      "metadata": {
        "id": "jygpDQSs_fnE"
      },
      "source": [
        "### C1"
      ]
    },
    {
      "cell_type": "code",
      "execution_count": null,
      "metadata": {
        "id": "MP5ERY3x_fnF"
      },
      "outputs": [],
      "source": [
        "# load dataset\n",
        "worksheet = gc.open('C1').sheet1\n",
        "rows = worksheet.get_all_values()\n",
        "\n",
        "# create DataFrame that includes all data on WON_REVENUE from the dataset\n",
        "df = pd.DataFrame.from_records(rows[1:],columns=rows[0])\n",
        "df['VALUE'] = pd.to_numeric(df['VALUE'])\n",
        "df['DATE'] = pd.to_datetime(df['DATE'])\n",
        "df.head()"
      ]
    },
    {
      "cell_type": "code",
      "execution_count": null,
      "metadata": {
        "id": "BIjG5h1Q_fnF"
      },
      "outputs": [],
      "source": [
        "# remove splits i.e., group data only by date and metric\n",
        "df = pd.DataFrame(df.groupby(['DATE','METRIC'])['VALUE'].sum())\n",
        "df = df.reset_index()\n",
        "df"
      ]
    },
    {
      "cell_type": "code",
      "source": [
        "# use only train set, i.e., remove data from 2022\n",
        "df = df[df['DATE']<pd.Timestamp('2022-01-01')]"
      ],
      "metadata": {
        "id": "68_E8T23_fnF"
      },
      "execution_count": null,
      "outputs": []
    },
    {
      "cell_type": "code",
      "execution_count": null,
      "metadata": {
        "id": "UzKYwcjo_fnF"
      },
      "outputs": [],
      "source": [
        "# pivot data\n",
        "df = df.pivot(index=['DATE'],columns=['METRIC'],values=['VALUE'])\n",
        "df.columns = [col[1] for col in df.columns]\n",
        "df"
      ]
    },
    {
      "cell_type": "code",
      "execution_count": null,
      "metadata": {
        "id": "1Hlflul-_fnG"
      },
      "outputs": [],
      "source": [
        "# print summary statistics\n",
        "df.describe()"
      ]
    },
    {
      "cell_type": "code",
      "execution_count": null,
      "metadata": {
        "colab": {
          "base_uri": "https://localhost:8080/"
        },
        "outputId": "c708c308-aa89-43ef-f6a2-03b8b2085ec5",
        "id": "a-2BParU_fnG"
      },
      "outputs": [
        {
          "output_type": "stream",
          "name": "stdout",
          "text": [
            "Number of NaN values in CREATED_OPPORTUNITIES: 0\n",
            "Number of NaN values in THREE_MONTHS_ACV: 0\n",
            "Number of NaN values in THREE_MONTHS_OPP_WON_CVR: 0\n",
            "Number of NaN values in WON_CUSTOMERS: 0\n",
            "Number of NaN values in WON_REVENUE: 0\n"
          ]
        }
      ],
      "source": [
        "# ensuring that no empty values are present in the data\n",
        "print('Number of NaN values in CREATED_OPPORTUNITIES:',len(df[df['CREATED_OPPORTUNITIES'].isnull()]))\n",
        "print('Number of NaN values in THREE_MONTHS_ACV:',len(df[df['THREE_MONTHS_ACV'].isnull()]))\n",
        "print('Number of NaN values in THREE_MONTHS_OPP_WON_CVR:',len(df[df['THREE_MONTHS_OPP_WON_CVR'].isnull()]))\n",
        "print('Number of NaN values in WON_CUSTOMERS:',len(df[df['WON_CUSTOMERS'].isnull()]))\n",
        "print('Number of NaN values in WON_REVENUE:',len(df[df['WON_REVENUE'].isnull()]))"
      ]
    },
    {
      "cell_type": "code",
      "execution_count": null,
      "metadata": {
        "colab": {
          "base_uri": "https://localhost:8080/",
          "height": 388
        },
        "outputId": "36c7eeb2-892d-4eb5-ff5b-98eb090a52e0",
        "id": "S6CMQ71x_fnG"
      },
      "outputs": [
        {
          "output_type": "execute_result",
          "data": {
            "text/plain": [
              "            CREATED_OPPORTUNITIES  THREE_MONTHS_ACV  THREE_MONTHS_OPP_WON_CVR  \\\n",
              "DATE                                                                            \n",
              "2021-01-01               0.233333          0.000000                  0.424882   \n",
              "2021-02-01               0.000000          0.013778                  0.474178   \n",
              "2021-03-01               0.033333          0.132619                  1.000000   \n",
              "2021-04-01               0.500000          0.089169                  0.671361   \n",
              "2021-05-01               0.533333          0.104832                  0.663892   \n",
              "\n",
              "            WON_CUSTOMERS  WON_REVENUE  \n",
              "DATE                                    \n",
              "2021-01-01          0.500     0.145784  \n",
              "2021-02-01          0.125     0.018916  \n",
              "2021-03-01          0.250     0.071378  \n",
              "2021-04-01          0.375     0.192933  \n",
              "2021-05-01          0.250     0.037137  "
            ],
            "text/html": [
              "\n",
              "  <div id=\"df-4002007d-2176-43dd-bd2b-05450edd754c\">\n",
              "    <div class=\"colab-df-container\">\n",
              "      <div>\n",
              "<style scoped>\n",
              "    .dataframe tbody tr th:only-of-type {\n",
              "        vertical-align: middle;\n",
              "    }\n",
              "\n",
              "    .dataframe tbody tr th {\n",
              "        vertical-align: top;\n",
              "    }\n",
              "\n",
              "    .dataframe thead th {\n",
              "        text-align: right;\n",
              "    }\n",
              "</style>\n",
              "<table border=\"1\" class=\"dataframe\">\n",
              "  <thead>\n",
              "    <tr style=\"text-align: right;\">\n",
              "      <th></th>\n",
              "      <th>CREATED_OPPORTUNITIES</th>\n",
              "      <th>THREE_MONTHS_ACV</th>\n",
              "      <th>THREE_MONTHS_OPP_WON_CVR</th>\n",
              "      <th>WON_CUSTOMERS</th>\n",
              "      <th>WON_REVENUE</th>\n",
              "    </tr>\n",
              "    <tr>\n",
              "      <th>DATE</th>\n",
              "      <th></th>\n",
              "      <th></th>\n",
              "      <th></th>\n",
              "      <th></th>\n",
              "      <th></th>\n",
              "    </tr>\n",
              "  </thead>\n",
              "  <tbody>\n",
              "    <tr>\n",
              "      <th>2021-01-01</th>\n",
              "      <td>0.233333</td>\n",
              "      <td>0.000000</td>\n",
              "      <td>0.424882</td>\n",
              "      <td>0.500</td>\n",
              "      <td>0.145784</td>\n",
              "    </tr>\n",
              "    <tr>\n",
              "      <th>2021-02-01</th>\n",
              "      <td>0.000000</td>\n",
              "      <td>0.013778</td>\n",
              "      <td>0.474178</td>\n",
              "      <td>0.125</td>\n",
              "      <td>0.018916</td>\n",
              "    </tr>\n",
              "    <tr>\n",
              "      <th>2021-03-01</th>\n",
              "      <td>0.033333</td>\n",
              "      <td>0.132619</td>\n",
              "      <td>1.000000</td>\n",
              "      <td>0.250</td>\n",
              "      <td>0.071378</td>\n",
              "    </tr>\n",
              "    <tr>\n",
              "      <th>2021-04-01</th>\n",
              "      <td>0.500000</td>\n",
              "      <td>0.089169</td>\n",
              "      <td>0.671361</td>\n",
              "      <td>0.375</td>\n",
              "      <td>0.192933</td>\n",
              "    </tr>\n",
              "    <tr>\n",
              "      <th>2021-05-01</th>\n",
              "      <td>0.533333</td>\n",
              "      <td>0.104832</td>\n",
              "      <td>0.663892</td>\n",
              "      <td>0.250</td>\n",
              "      <td>0.037137</td>\n",
              "    </tr>\n",
              "  </tbody>\n",
              "</table>\n",
              "</div>\n",
              "      <button class=\"colab-df-convert\" onclick=\"convertToInteractive('df-4002007d-2176-43dd-bd2b-05450edd754c')\"\n",
              "              title=\"Convert this dataframe to an interactive table.\"\n",
              "              style=\"display:none;\">\n",
              "        \n",
              "  <svg xmlns=\"http://www.w3.org/2000/svg\" height=\"24px\"viewBox=\"0 0 24 24\"\n",
              "       width=\"24px\">\n",
              "    <path d=\"M0 0h24v24H0V0z\" fill=\"none\"/>\n",
              "    <path d=\"M18.56 5.44l.94 2.06.94-2.06 2.06-.94-2.06-.94-.94-2.06-.94 2.06-2.06.94zm-11 1L8.5 8.5l.94-2.06 2.06-.94-2.06-.94L8.5 2.5l-.94 2.06-2.06.94zm10 10l.94 2.06.94-2.06 2.06-.94-2.06-.94-.94-2.06-.94 2.06-2.06.94z\"/><path d=\"M17.41 7.96l-1.37-1.37c-.4-.4-.92-.59-1.43-.59-.52 0-1.04.2-1.43.59L10.3 9.45l-7.72 7.72c-.78.78-.78 2.05 0 2.83L4 21.41c.39.39.9.59 1.41.59.51 0 1.02-.2 1.41-.59l7.78-7.78 2.81-2.81c.8-.78.8-2.07 0-2.86zM5.41 20L4 18.59l7.72-7.72 1.47 1.35L5.41 20z\"/>\n",
              "  </svg>\n",
              "      </button>\n",
              "      \n",
              "  <style>\n",
              "    .colab-df-container {\n",
              "      display:flex;\n",
              "      flex-wrap:wrap;\n",
              "      gap: 12px;\n",
              "    }\n",
              "\n",
              "    .colab-df-convert {\n",
              "      background-color: #E8F0FE;\n",
              "      border: none;\n",
              "      border-radius: 50%;\n",
              "      cursor: pointer;\n",
              "      display: none;\n",
              "      fill: #1967D2;\n",
              "      height: 32px;\n",
              "      padding: 0 0 0 0;\n",
              "      width: 32px;\n",
              "    }\n",
              "\n",
              "    .colab-df-convert:hover {\n",
              "      background-color: #E2EBFA;\n",
              "      box-shadow: 0px 1px 2px rgba(60, 64, 67, 0.3), 0px 1px 3px 1px rgba(60, 64, 67, 0.15);\n",
              "      fill: #174EA6;\n",
              "    }\n",
              "\n",
              "    [theme=dark] .colab-df-convert {\n",
              "      background-color: #3B4455;\n",
              "      fill: #D2E3FC;\n",
              "    }\n",
              "\n",
              "    [theme=dark] .colab-df-convert:hover {\n",
              "      background-color: #434B5C;\n",
              "      box-shadow: 0px 1px 3px 1px rgba(0, 0, 0, 0.15);\n",
              "      filter: drop-shadow(0px 1px 2px rgba(0, 0, 0, 0.3));\n",
              "      fill: #FFFFFF;\n",
              "    }\n",
              "  </style>\n",
              "\n",
              "      <script>\n",
              "        const buttonEl =\n",
              "          document.querySelector('#df-4002007d-2176-43dd-bd2b-05450edd754c button.colab-df-convert');\n",
              "        buttonEl.style.display =\n",
              "          google.colab.kernel.accessAllowed ? 'block' : 'none';\n",
              "\n",
              "        async function convertToInteractive(key) {\n",
              "          const element = document.querySelector('#df-4002007d-2176-43dd-bd2b-05450edd754c');\n",
              "          const dataTable =\n",
              "            await google.colab.kernel.invokeFunction('convertToInteractive',\n",
              "                                                     [key], {});\n",
              "          if (!dataTable) return;\n",
              "\n",
              "          const docLinkHtml = 'Like what you see? Visit the ' +\n",
              "            '<a target=\"_blank\" href=https://colab.research.google.com/notebooks/data_table.ipynb>data table notebook</a>'\n",
              "            + ' to learn more about interactive tables.';\n",
              "          element.innerHTML = '';\n",
              "          dataTable['output_type'] = 'display_data';\n",
              "          await google.colab.output.renderOutput(dataTable, element);\n",
              "          const docLink = document.createElement('div');\n",
              "          docLink.innerHTML = docLinkHtml;\n",
              "          element.appendChild(docLink);\n",
              "        }\n",
              "      </script>\n",
              "    </div>\n",
              "  </div>\n",
              "  "
            ]
          },
          "metadata": {},
          "execution_count": 113
        }
      ],
      "source": [
        "# scale data to get an overview of the distribution of each metric\n",
        "minMax = MinMaxScaler()\n",
        "df_scaled = pd.DataFrame(minMax.fit_transform(df),index=df.index,columns=df.columns)\n",
        "df_scaled.head()"
      ]
    },
    {
      "cell_type": "code",
      "execution_count": null,
      "metadata": {
        "colab": {
          "base_uri": "https://localhost:8080/",
          "height": 269
        },
        "outputId": "03c8931a-8617-4ab6-9a1f-ce7612367247",
        "id": "qPUBmtZu_fnG"
      },
      "outputs": [
        {
          "output_type": "display_data",
          "data": {
            "text/plain": [
              "<Figure size 1600x600 with 1 Axes>"
            ],
            "image/png": "[encoded data removed]"
          },
          "metadata": {}
        }
      ],
      "source": [
        "# print boxplot across metrics\n",
        "sns.set(rc={'figure.figsize':(16,6)})\n",
        "sns.boxplot(data=df_scaled);"
      ]
    },
    {
      "cell_type": "code",
      "execution_count": null,
      "metadata": {
        "id": "CAP6cKIO_fnG"
      },
      "outputs": [],
      "source": [
        "# print variance per metric (unscaled)\n",
        "df.var()"
      ]
    },
    {
      "cell_type": "code",
      "execution_count": null,
      "metadata": {
        "colab": {
          "base_uri": "https://localhost:8080/"
        },
        "outputId": "dd77f5d8-9f97-4fcc-e593-70130c7ec371",
        "id": "4Lx48x2H_fnG"
      },
      "outputs": [
        {
          "output_type": "execute_result",
          "data": {
            "text/plain": [
              "CREATED_OPPORTUNITIES       0.078709\n",
              "SIX_MONTHS_ACV              0.059840\n",
              "SIX_MONTHS_OPP_WON_CVR      0.041257\n",
              "THREE_MONTHS_ACV            0.030322\n",
              "THREE_MONTHS_OPP_WON_CVR    0.034442\n",
              "WON_CUSTOMERS               0.060041\n",
              "WON_REVENUE                 0.036711\n",
              "dtype: float64"
            ]
          },
          "metadata": {},
          "execution_count": 55
        }
      ],
      "source": [
        "# print variance per metric (scaled)\n",
        "df_scaled.var()"
      ]
    },
    {
      "cell_type": "code",
      "execution_count": null,
      "metadata": {
        "id": "ZBFRF8_c_fnG"
      },
      "outputs": [],
      "source": [
        "# create new DataFrame which only includes WON_REVENUE\n",
        "won_revenue = df[['WON_REVENUE']].copy()\n",
        "won_revenue_scaled = df_scaled[['WON_REVENUE']].copy()\n",
        "won_revenue.head()"
      ]
    },
    {
      "cell_type": "code",
      "execution_count": null,
      "metadata": {
        "id": "UFJvk1ZN_fnG"
      },
      "outputs": [],
      "source": [
        "# plot WON_REVENUE\n",
        "won_revenue.plot(figsize=(15,7.5))\n",
        "plt.grid(axis='y')\n",
        "plt.title('C6',fontsize=20)\n",
        "plt.xlabel('DATE', fontsize=20)\n",
        "plt.ylabel('WON_REVENUE', fontsize=20)\n",
        "plt.show()"
      ]
    },
    {
      "cell_type": "code",
      "execution_count": null,
      "metadata": {
        "id": "KefLuYXy_fnG"
      },
      "outputs": [],
      "source": [
        "# print boxplot only for WON_REVENUE\n",
        "sns.set(rc={'figure.figsize':(8,6)})\n",
        "sns.boxplot(data=won_revenue);"
      ]
    },
    {
      "cell_type": "code",
      "execution_count": null,
      "metadata": {
        "id": "9VVtbA6w_fnG"
      },
      "outputs": [],
      "source": [
        "# print lag plot\n",
        "lag_plot(won_revenue)\n",
        "plt.grid()\n",
        "plt.show()"
      ]
    },
    {
      "cell_type": "code",
      "execution_count": null,
      "metadata": {
        "colab": {
          "base_uri": "https://localhost:8080/",
          "height": 383
        },
        "outputId": "da2e85fd-5673-4c47-e352-b67ebd813a8f",
        "id": "zb_L6c-E_fnG"
      },
      "outputs": [
        {
          "output_type": "error",
          "ename": "ValueError",
          "evalue": "ignored",
          "traceback": [
            "\u001b[0;31m---------------------------------------------------------------------------\u001b[0m",
            "\u001b[0;31mValueError\u001b[0m                                Traceback (most recent call last)",
            "\u001b[0;32m<ipython-input-121-f7add1214a19>\u001b[0m in \u001b[0;36m<cell line: 2>\u001b[0;34m()\u001b[0m\n\u001b[1;32m      1\u001b[0m \u001b[0;31m# execute time-series decomposition and plot the result\u001b[0m\u001b[0;34m\u001b[0m\u001b[0;34m\u001b[0m\u001b[0m\n\u001b[0;32m----> 2\u001b[0;31m \u001b[0mresult\u001b[0m\u001b[0;34m=\u001b[0m\u001b[0mseasonal_decompose\u001b[0m\u001b[0;34m(\u001b[0m\u001b[0mwon_revenue\u001b[0m\u001b[0;34m[\u001b[0m\u001b[0;34m'WON_REVENUE'\u001b[0m\u001b[0;34m]\u001b[0m\u001b[0;34m,\u001b[0m \u001b[0mmodel\u001b[0m\u001b[0;34m=\u001b[0m\u001b[0;34m'additive'\u001b[0m\u001b[0;34m,\u001b[0m \u001b[0mperiod\u001b[0m\u001b[0;34m=\u001b[0m\u001b[0;36m12\u001b[0m\u001b[0;34m)\u001b[0m\u001b[0;34m\u001b[0m\u001b[0;34m\u001b[0m\u001b[0m\n\u001b[0m\u001b[1;32m      3\u001b[0m \u001b[0mresult\u001b[0m\u001b[0;34m.\u001b[0m\u001b[0mplot\u001b[0m\u001b[0;34m(\u001b[0m\u001b[0;34m)\u001b[0m\u001b[0;34m;\u001b[0m\u001b[0;34m\u001b[0m\u001b[0;34m\u001b[0m\u001b[0m\n",
            "\u001b[0;32m/usr/local/lib/python3.10/dist-packages/statsmodels/tsa/seasonal.py\u001b[0m in \u001b[0;36mseasonal_decompose\u001b[0;34m(x, model, filt, period, two_sided, extrapolate_trend)\u001b[0m\n\u001b[1;32m    162\u001b[0m             )\n\u001b[1;32m    163\u001b[0m     \u001b[0;32mif\u001b[0m \u001b[0mx\u001b[0m\u001b[0;34m.\u001b[0m\u001b[0mshape\u001b[0m\u001b[0;34m[\u001b[0m\u001b[0;36m0\u001b[0m\u001b[0;34m]\u001b[0m \u001b[0;34m<\u001b[0m \u001b[0;36m2\u001b[0m \u001b[0;34m*\u001b[0m \u001b[0mpfreq\u001b[0m\u001b[0;34m:\u001b[0m\u001b[0;34m\u001b[0m\u001b[0;34m\u001b[0m\u001b[0m\n\u001b[0;32m--> 164\u001b[0;31m         raise ValueError(\n\u001b[0m\u001b[1;32m    165\u001b[0m             \u001b[0;34mf\"x must have 2 complete cycles requires {2 * pfreq} \"\u001b[0m\u001b[0;34m\u001b[0m\u001b[0;34m\u001b[0m\u001b[0m\n\u001b[1;32m    166\u001b[0m             \u001b[0;34mf\"observations. x only has {x.shape[0]} observation(s)\"\u001b[0m\u001b[0;34m\u001b[0m\u001b[0;34m\u001b[0m\u001b[0m\n",
            "\u001b[0;31mValueError\u001b[0m: x must have 2 complete cycles requires 24 observations. x only has 12 observation(s)"
          ]
        }
      ],
      "source": [
        "# execute time-series decomposition and plot the result\n",
        "result=seasonal_decompose(won_revenue['WON_REVENUE'], model='additive', period=12)\n",
        "result.plot();"
      ]
    },
    {
      "cell_type": "code",
      "source": [
        "# plot ACF for WON_REVENUE\n",
        "plot_acf(won_revenue,lags=11, title='Won Revenue ACF')\n",
        "plt.show()"
      ],
      "metadata": {
        "colab": {
          "base_uri": "https://localhost:8080/",
          "height": 445
        },
        "outputId": "e4e0f90f-8ae4-4687-e0bb-9755ec4f573a",
        "id": "z1efA36H_fnH"
      },
      "execution_count": null,
      "outputs": [
        {
          "output_type": "display_data",
          "data": {
            "text/plain": [
              "<Figure size 900x600 with 1 Axes>"
            ],
            "image/png": "[encoded data removed]"
          },
          "metadata": {}
        }
      ]
    },
    {
      "cell_type": "code",
      "execution_count": null,
      "metadata": {
        "colab": {
          "base_uri": "https://localhost:8080/"
        },
        "outputId": "a0748100-404e-4bf0-a3ed-5b76b3875527",
        "id": "x--MMzlO_fnH"
      },
      "outputs": [
        {
          "output_type": "stream",
          "name": "stdout",
          "text": [
            "ADF Statistic: -0.003341392157271731\n",
            "p-value: 0.9582548813978733\n"
          ]
        }
      ],
      "source": [
        "# ADF test to test autocorrelation within WON_REVENUE\n",
        "ad_fuller_result = adfuller(won_revenue)\n",
        "print(f'ADF Statistic: {ad_fuller_result[0]}')\n",
        "print(f'p-value: {ad_fuller_result[1]}')"
      ]
    },
    {
      "cell_type": "markdown",
      "metadata": {
        "id": "v6_yP33y_fnH"
      },
      "source": [
        "-> result indicated the series needs differencing"
      ]
    },
    {
      "cell_type": "code",
      "execution_count": null,
      "metadata": {
        "colab": {
          "base_uri": "https://localhost:8080/"
        },
        "outputId": "57857df4-11d9-4e0a-9f5d-cbc5b7cc9955",
        "id": "5s9lmLkx_fnH"
      },
      "outputs": [
        {
          "output_type": "stream",
          "name": "stdout",
          "text": [
            "ADF Statistic: -2.208288216530695\n",
            "p-value: 0.2032510768119219\n"
          ]
        }
      ],
      "source": [
        "# ADF test on differenced series (d=1)\n",
        "ad_fuller_result = adfuller(won_revenue.diff(1).dropna())\n",
        "print(f'ADF Statistic: {ad_fuller_result[0]}')\n",
        "print(f'p-value: {ad_fuller_result[1]}')"
      ]
    },
    {
      "cell_type": "code",
      "execution_count": null,
      "metadata": {
        "colab": {
          "base_uri": "https://localhost:8080/",
          "height": 365
        },
        "outputId": "6ed955b1-34ab-473a-8e7d-21552cd99436",
        "id": "StL9hvu2_fnH"
      },
      "outputs": [
        {
          "output_type": "error",
          "ename": "ValueError",
          "evalue": "ignored",
          "traceback": [
            "\u001b[0;31m---------------------------------------------------------------------------\u001b[0m",
            "\u001b[0;31mValueError\u001b[0m                                Traceback (most recent call last)",
            "\u001b[0;32m<ipython-input-130-5a23c784cd60>\u001b[0m in \u001b[0;36m<cell line: 2>\u001b[0;34m()\u001b[0m\n\u001b[1;32m      1\u001b[0m \u001b[0;31m# ADF test on seasonally differenced series (D=1)\u001b[0m\u001b[0;34m\u001b[0m\u001b[0;34m\u001b[0m\u001b[0m\n\u001b[0;32m----> 2\u001b[0;31m \u001b[0mad_fuller_result\u001b[0m \u001b[0;34m=\u001b[0m \u001b[0madfuller\u001b[0m\u001b[0;34m(\u001b[0m\u001b[0mwon_revenue\u001b[0m\u001b[0;34m.\u001b[0m\u001b[0mdiff\u001b[0m\u001b[0;34m(\u001b[0m\u001b[0;36m12\u001b[0m\u001b[0;34m)\u001b[0m\u001b[0;34m.\u001b[0m\u001b[0mdropna\u001b[0m\u001b[0;34m(\u001b[0m\u001b[0;34m)\u001b[0m\u001b[0;34m)\u001b[0m\u001b[0;34m\u001b[0m\u001b[0;34m\u001b[0m\u001b[0m\n\u001b[0m\u001b[1;32m      3\u001b[0m \u001b[0mprint\u001b[0m\u001b[0;34m(\u001b[0m\u001b[0;34mf'ADF Statistic: {ad_fuller_result[0]}'\u001b[0m\u001b[0;34m)\u001b[0m\u001b[0;34m\u001b[0m\u001b[0;34m\u001b[0m\u001b[0m\n\u001b[1;32m      4\u001b[0m \u001b[0mprint\u001b[0m\u001b[0;34m(\u001b[0m\u001b[0;34mf'p-value: {ad_fuller_result[1]}'\u001b[0m\u001b[0;34m)\u001b[0m\u001b[0;34m\u001b[0m\u001b[0;34m\u001b[0m\u001b[0m\n",
            "\u001b[0;32m/usr/local/lib/python3.10/dist-packages/statsmodels/tsa/stattools.py\u001b[0m in \u001b[0;36madfuller\u001b[0;34m(x, maxlag, regression, autolag, store, regresults)\u001b[0m\n\u001b[1;32m    286\u001b[0m         \u001b[0mmaxlag\u001b[0m \u001b[0;34m=\u001b[0m \u001b[0mmin\u001b[0m\u001b[0;34m(\u001b[0m\u001b[0mnobs\u001b[0m \u001b[0;34m//\u001b[0m \u001b[0;36m2\u001b[0m \u001b[0;34m-\u001b[0m \u001b[0mntrend\u001b[0m \u001b[0;34m-\u001b[0m \u001b[0;36m1\u001b[0m\u001b[0;34m,\u001b[0m \u001b[0mmaxlag\u001b[0m\u001b[0;34m)\u001b[0m\u001b[0;34m\u001b[0m\u001b[0;34m\u001b[0m\u001b[0m\n\u001b[1;32m    287\u001b[0m         \u001b[0;32mif\u001b[0m \u001b[0mmaxlag\u001b[0m \u001b[0;34m<\u001b[0m \u001b[0;36m0\u001b[0m\u001b[0;34m:\u001b[0m\u001b[0;34m\u001b[0m\u001b[0;34m\u001b[0m\u001b[0m\n\u001b[0;32m--> 288\u001b[0;31m             raise ValueError(\n\u001b[0m\u001b[1;32m    289\u001b[0m                 \u001b[0;34m\"sample size is too short to use selected \"\u001b[0m\u001b[0;34m\u001b[0m\u001b[0;34m\u001b[0m\u001b[0m\n\u001b[1;32m    290\u001b[0m                 \u001b[0;34m\"regression component\"\u001b[0m\u001b[0;34m\u001b[0m\u001b[0;34m\u001b[0m\u001b[0m\n",
            "\u001b[0;31mValueError\u001b[0m: sample size is too short to use selected regression component"
          ]
        }
      ],
      "source": [
        "# ADF test on seasonally differenced series (D=1)\n",
        "ad_fuller_result = adfuller(won_revenue.diff(12).dropna())\n",
        "print(f'ADF Statistic: {ad_fuller_result[0]}')\n",
        "print(f'p-value: {ad_fuller_result[1]}')"
      ]
    },
    {
      "cell_type": "code",
      "execution_count": null,
      "metadata": {
        "colab": {
          "base_uri": "https://localhost:8080/"
        },
        "outputId": "51c20dca-4308-4825-dd99-6ee0a50af48a",
        "id": "3jbCP9dJ_fnH"
      },
      "outputs": [
        {
          "output_type": "stream",
          "name": "stdout",
          "text": [
            "ADF Statistic: -5.625803430014851\n",
            "p-value: 1.118145810897647e-06\n"
          ]
        }
      ],
      "source": [
        "# ADF test on multiply differenced series (d=2)\n",
        "ad_fuller_result = adfuller(won_revenue.diff(1).dropna().diff(1).dropna())\n",
        "print(f'ADF Statistic: {ad_fuller_result[0]}')\n",
        "print(f'p-value: {ad_fuller_result[1]}')"
      ]
    },
    {
      "cell_type": "markdown",
      "source": [
        "-> results indicate to use second-level differencing"
      ],
      "metadata": {
        "id": "QofsYQms_fnH"
      }
    },
    {
      "cell_type": "code",
      "execution_count": null,
      "metadata": {
        "id": "mloYYNy6_fnH"
      },
      "outputs": [],
      "source": [
        "# plot differenced series\n",
        "plt.figure(figsize=[15, 7.5])\n",
        "plt.plot(won_revenue.diff(1).dropna().diff(1).dropna())\n",
        "plt.ylabel('WON_REVENUE diff')\n",
        "plt.xlabel('DATE')\n",
        "plt.xticks(rotation=90)\n",
        "plt.grid(axis='y')\n",
        "plt.show()"
      ]
    }
  ],
  "metadata": {
    "colab": {
      "collapsed_sections": [
        "BEBAJf5amXss",
        "RtTQsyAAR820",
        "lTaVTkyXn0Z5",
        "zyx7oNVUGgD_",
        "wcdnwKNT_gTb",
        "TeLbEgmKuG18",
        "7MwV3chW42A_"
      ],
      "toc_visible": true,
      "provenance": []
    },
    "kernelspec": {
      "display_name": "Python 3",
      "name": "python3"
    },
    "language_info": {
      "name": "python"
    }
  },
  "nbformat": 4,
  "nbformat_minor": 0
}